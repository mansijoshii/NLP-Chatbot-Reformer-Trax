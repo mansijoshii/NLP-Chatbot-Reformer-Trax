{
  "nbformat": 4,
  "nbformat_minor": 0,
  "metadata": {
    "colab": {
      "name": "Reformer_Chatbot_Trax_TrainedFromScratch.ipynb",
      "provenance": [],
      "collapsed_sections": []
    },
    "kernelspec": {
      "name": "python3",
      "display_name": "Python 3"
    },
    "accelerator": "GPU"
  },
  "cells": [
    {
      "cell_type": "markdown",
      "metadata": {
        "id": "GV9XpYC8M6xJ"
      },
      "source": [
        "# Chatbot Implementation with Reformer\n",
        "---\n",
        "\n",
        "last updated: Nov 08, 2020"
      ]
    },
    {
      "cell_type": "markdown",
      "metadata": {
        "id": "zhxToR5JSV1D"
      },
      "source": [
        "### References\n",
        "\n",
        "This notebook was learned and modified from the assignment of the course [Natural Language Processing with Attention Models](https://www.coursera.org/learn/attention-models-in-nlp) on *Coursera* with the following amendments:\n",
        "\n",
        "1. Instead of using a pre-trained model, I trained the chatbot **from scratch**\n",
        "\n",
        "2. Instead of using `trax.supervised.decoding.autoregressive_sample_stream`, I used a helper function to continue the conversation token by token.\n",
        "\n",
        "3. I cleaned up and rewrited the part of model evaluation. The model can be used to predict on the test dataset, or any custom starter sentence.\n",
        "---\n",
        "\n",
        "### Project Summary\n",
        "\n",
        "1. After training on the MultiWOZ dataset (trainning size = 9,938) for 20,000 epochs, the model achieved the **accuracy of 67.15%** on the test set (size = 500).\n",
        "\n",
        "2. By feeding in some custom stencences, the **chatbot is able to handle the conversation and address the request**. For example conversations, please go to *Step 6-4-3* (at the end of this notebook).\n",
        "\n",
        "---\n",
        "### The Reformer Paper\n",
        "\n",
        "N. Kitaev et al., **Reformer: The Efficient Transformer**\n",
        "\n",
        "https://arxiv.org/abs/2001.04451\n",
        "\n",
        "---"
      ]
    },
    {
      "cell_type": "markdown",
      "metadata": {
        "id": "kZvmX9BUM-JH"
      },
      "source": [
        "## Step 1: Install prerequisites"
      ]
    },
    {
      "cell_type": "markdown",
      "metadata": {
        "id": "p6bFrP5vWSfG"
      },
      "source": [
        "### 1-1 Install Trax"
      ]
    },
    {
      "cell_type": "code",
      "metadata": {
        "id": "Vuu8xGgBMy2j"
      },
      "source": [
        "!pip -q install trax"
      ],
      "execution_count": 1,
      "outputs": []
    },
    {
      "cell_type": "markdown",
      "metadata": {
        "id": "HOmoyhg9NAdA"
      },
      "source": [
        "### 1-2 Import libraries"
      ]
    },
    {
      "cell_type": "code",
      "metadata": {
        "id": "TTPh6cTCM_lS"
      },
      "source": [
        "import json\n",
        "import random\n",
        "import numpy as np\n",
        "\n",
        "import trax\n",
        "from trax import layers as tl\n",
        "from trax.supervised import training\n",
        "\n",
        "from termcolor import colored"
      ],
      "execution_count": 2,
      "outputs": []
    },
    {
      "cell_type": "markdown",
      "metadata": {
        "id": "Hk-AftcrPIlr"
      },
      "source": [
        "## Step 2: Download and Upload the Dataset\n",
        "\n",
        "---\n",
        "\n",
        "**Whcih dataset?**\n",
        "\n",
        "Datasets of dialogues can be chosen from the following website:\n",
        "\n",
        "https://lionbridge.ai/datasets/15-best-chatbot-datasets-for-machine-learning/"
      ]
    },
    {
      "cell_type": "markdown",
      "metadata": {
        "id": "95_fR4l2WrJP"
      },
      "source": [
        "This is the dataset I used:\n",
        "\n",
        "\n",
        "**MultiWOZ: Multi-Domain Wizard-of-Oz dataset (ver 2.1)**\n",
        "\n",
        "http://dialogue.mi.eng.cam.ac.uk/index.php/corpus/"
      ]
    },
    {
      "cell_type": "markdown",
      "metadata": {
        "id": "5gZmyU9iW1Dc"
      },
      "source": [
        "### 2-1 Download the dataset\n",
        "\n",
        "Download the dataset `data.json` (263MB) from the website above"
      ]
    },
    {
      "cell_type": "markdown",
      "metadata": {
        "id": "2ygHfEUDW-Hs"
      },
      "source": [
        "### 2-2 Upload the dataset\n",
        "\n",
        "Upload `data.json` to the current directory. It may take a while."
      ]
    },
    {
      "cell_type": "markdown",
      "metadata": {
        "id": "7VqL6-Ubf1TF"
      },
      "source": [
        "### 2-3 Load the dataset"
      ]
    },
    {
      "cell_type": "code",
      "metadata": {
        "id": "5u67aEdmNIvQ"
      },
      "source": [
        "with open('data.json') as file:\n",
        "    multiwoz_dataset_json = json.load(file)"
      ],
      "execution_count": 3,
      "outputs": []
    },
    {
      "cell_type": "markdown",
      "metadata": {
        "id": "sRiyUKVkf7RQ"
      },
      "source": [
        "### 2-4 Inspect the data format"
      ]
    },
    {
      "cell_type": "code",
      "metadata": {
        "id": "VxHPxFBzSNAG",
        "outputId": "6fcdb2f3-0a40-4f54-bff4-364d011f2971",
        "colab": {
          "base_uri": "https://localhost:8080/"
        }
      },
      "source": [
        "print(\"Dataset loaded. Number of dialogues: {}\".format(len(multiwoz_dataset_json)))"
      ],
      "execution_count": 4,
      "outputs": [
        {
          "output_type": "stream",
          "text": [
            "Dataset loaded. Number of dialogues: 10438\n"
          ],
          "name": "stdout"
        }
      ]
    },
    {
      "cell_type": "code",
      "metadata": {
        "id": "AED24y2nSN4v",
        "outputId": "346d679c-5168-4ce6-d1e2-c7e6c09000a5",
        "colab": {
          "base_uri": "https://localhost:8080/"
        }
      },
      "source": [
        "print(multiwoz_dataset_json.keys())"
      ],
      "execution_count": 5,
      "outputs": [
        {
          "output_type": "stream",
          "text": [
            "dict_keys(['SNG01856.json', 'SNG0129.json', 'PMUL1635.json', 'MUL2168.json', 'SNG0073.json', 'SNG01445.json', 'MUL2105.json', 'PMUL1690.json', 'MUL2395.json', 'SNG0190.json', 'PMUL1170.json', 'SNG01741.json', 'PMUL4899.json', 'MUL2261.json', 'SSNG0348.json', 'MUL0784.json', 'MUL0886.json', 'PMUL2512.json', 'SNG0548.json', 'MUL1474.json', 'PMUL4372.json', 'PMUL4047.json', 'PMUL1181.json', 'PMUL0287.json', 'PMUL3470.json', 'PMUL0151.json', 'MUL0586.json', 'PMUL3552.json', 'PMUL1539.json', 'MUL1790.json', 'PMUL3021.json', 'SNG0699.json', 'SNG0228.json', 'PMUL3296.json', 'MUL1434.json', 'PMUL2203.json', 'PMUL3250.json', 'PMUL0510.json', 'MUL1124.json', 'PMUL3719.json', 'PMUL4648.json', 'PMUL2437.json', 'SNG0297.json', 'PMUL2049.json', 'SNG01722.json', 'PMUL2100.json', 'MUL1853.json', 'MUL2694.json', 'SNG1006.json', 'SNG1345.json', 'MUL1299.json', 'MUL1490.json', 'PMUL2749.json', 'PMUL2804.json', 'MUL1628.json', 'PMUL2202.json', 'SNG01450.json', 'SNG0131.json', 'SNG0984.json', 'PMUL1419.json', 'SNG0798.json', 'MUL0161.json', 'PMUL2803.json', 'MUL2499.json', 'MUL1575.json', 'MUL2690.json', 'MUL0925.json', 'MUL1005.json', 'MUL0602.json', 'MUL0671.json', 'SNG1046.json', 'SNG0104.json', 'PMUL4053.json', 'SNG1197.json', 'MUL1265.json', 'WOZ20259.json', 'MUL1223.json', 'PMUL2596.json', 'MUL2037.json', 'MUL1497.json', 'MUL2256.json', 'MUL0076.json', 'PMUL2636.json', 'PMUL3027.json', 'WOZ20114.json', 'MUL1100.json', 'MUL0476.json', 'PMUL4469.json', 'MUL0129.json', 'PMUL0263.json', 'PMUL3597.json', 'PMUL1454.json', 'MUL1618.json', 'PMUL3342.json', 'PMUL0906.json', 'MUL1489.json', 'PMUL0695.json', 'PMUL0307.json', 'PMUL3045.json', 'SNG01608.json', 'MUL1113.json', 'SNG0385.json', 'SNG0285.json', 'PMUL0134.json', 'SNG1134.json', 'PMUL2082.json', 'PMUL3031.json', 'SNG0888.json', 'PMUL1499.json', 'SNG1097.json', 'PMUL0608.json', 'PMUL4191.json', 'MUL0265.json', 'SNG0907.json', 'PMUL0433.json', 'WOZ20214.json', 'MUL1567.json', 'WOZ20593.json', 'MUL1598.json', 'PMUL4487.json', 'MUL2535.json', 'PMUL0552.json', 'PMUL0621.json', 'PMUL1229.json', 'PMUL1169.json', 'SNG0487.json', 'PMUL3299.json', 'PMUL3486.json', 'SNG0918.json', 'MUL2305.json', 'MUL2321.json', 'SSNG0248.json', 'SNG0914.json', 'PMUL4501.json', 'MUL1125.json', 'PMUL2349.json', 'SNG01381.json', 'PMUL2662.json', 'SNG01277.json', 'PMUL1812.json', 'PMUL1986.json', 'MUL2534.json', 'MUL0743.json', 'MUL2569.json', 'PMUL3059.json', 'MUL2238.json', 'PMUL2010.json', 'MUL1491.json', 'SNG1061.json', 'WOZ20664.json', 'PMUL4029.json', 'MUL1060.json', 'PMUL1815.json', 'MUL2379.json', 'PMUL0143.json', 'MUL0343.json', 'PMUL3184.json', 'MUL1052.json', 'MUL1322.json', 'MUL1160.json', 'SNG01297.json', 'PMUL3647.json', 'WOZ20324.json', 'PMUL2522.json', 'WOZ20343.json', 'PMUL4513.json', 'SNG1235.json', 'SNG0359.json', 'MUL0661.json', 'MUL2418.json', 'SNG01185.json', 'SNG02298.json', 'PMUL0148.json', 'SNG02143.json', 'MUL2085.json', 'MUL2057.json', 'PMUL4594.json', 'MUL1541.json', 'MUL1045.json', 'PMUL0224.json', 'PMUL0240.json', 'PMUL2922.json', 'PMUL4711.json', 'MUL2443.json', 'MUL0779.json', 'SNG01611.json', 'WOZ20299.json', 'PMUL3482.json', 'SNG01425.json', 'WOZ20453.json', 'PMUL4021.json', 'PMUL4891.json', 'PMUL3594.json', 'MUL1566.json', 'MUL1381.json', 'SNG01936.json', 'PMUL1967.json', 'MUL2575.json', 'PMUL4126.json', 'SNG0494.json', 'MUL1642.json', 'PMUL1296.json', 'PMUL1729.json', 'SNG0910.json', 'WOZ20531.json', 'PMUL1557.json', 'MUL2320.json', 'MUL0173.json', 'SNG0312.json', 'WOZ20274.json', 'PMUL1375.json', 'SNG0524.json', 'PMUL0550.json', 'PMUL1013.json', 'SSNG0379.json', 'MUL1612.json', 'PMUL3466.json', 'MUL0088.json', 'MUL1733.json', 'MUL1483.json', 'PMUL2837.json', 'PMUL0064.json', 'SNG0019.json', 'SSNG0187.json', 'PMUL1407.json', 'SSNG0007.json', 'WOZ20497.json', 'MUL0855.json', 'SNG1063.json', 'MUL1013.json', 'PMUL0211.json', 'MUL0203.json', 'PMUL4678.json', 'SNG0324.json', 'SNG0112.json', 'PMUL3554.json', 'PMUL0342.json', 'WOZ20358.json', 'SSNG0019.json', 'PMUL0565.json', 'WOZ20658.json', 'SNG0235.json', 'MUL1275.json', 'SNG1322.json', 'SNG1171.json', 'SNG0826.json', 'SNG1155.json', 'PMUL4183.json', 'PMUL0241.json', 'PMUL3254.json', 'WOZ20481.json', 'MUL0469.json', 'MUL1172.json', 'MUL1118.json', 'SNG1248.json', 'SNG0790.json', 'MUL2329.json', 'PMUL4353.json', 'WOZ20478.json', 'WOZ20576.json', 'SNG01172.json', 'SNG0314.json', 'SNG0464.json', 'WOZ20406.json', 'PMUL4967.json', 'MUL1926.json', 'PMUL1879.json', 'MUL2647.json', 'PMUL1579.json', 'WOZ20107.json', 'MUL1040.json', 'SNG02142.json', 'SNG0271.json', 'MUL2345.json', 'PMUL1919.json', 'PMUL1526.json', 'PMUL4352.json', 'MUL0840.json', 'SNG1246.json', 'PMUL1753.json', 'PMUL1172.json', 'SNG0238.json', 'MUL1674.json', 'PMUL1033.json', 'SNG1344.json', 'PMUL1159.json', 'MUL0816.json', 'PMUL3347.json', 'PMUL3932.json', 'SSNG0300.json', 'PMUL3804.json', 'MUL1227.json', 'PMUL3363.json', 'MUL1403.json', 'WOZ20224.json', 'SNG0689.json', 'PMUL2529.json', 'PMUL1239.json', 'SNG0404.json', 'MUL0464.json', 'MUL0603.json', 'PMUL0248.json', 'PMUL1487.json', 'PMUL4626.json', 'PMUL1826.json', 'MUL2342.json', 'MUL1150.json', 'SNG01637.json', 'PMUL3585.json', 'PMUL1283.json', 'SNG02210.json', 'PMUL0292.json', 'PMUL4632.json', 'PMUL0335.json', 'SNG1334.json', 'PMUL3777.json', 'PMUL2389.json', 'PMUL3040.json', 'PMUL0776.json', 'MUL2376.json', 'MUL1024.json', 'SNG0067.json', 'SNG1181.json', 'MUL0329.json', 'PMUL3265.json', 'SNG0732.json', 'PMUL2201.json', 'SNG0255.json', 'SNG01268.json', 'MUL1378.json', 'PMUL2044.json', 'PMUL1578.json', 'PMUL4037.json', 'PMUL3761.json', 'SNG0263.json', 'PMUL2364.json', 'MUL1350.json', 'PMUL2440.json', 'PMUL0323.json', 'MUL0178.json', 'SNG1069.json', 'SNG02011.json', 'MUL2559.json', 'SSNG0368.json', 'PMUL0771.json', 'MUL0428.json', 'MUL1799.json', 'MUL1067.json', 'PMUL2187.json', 'MUL0644.json', 'SNG02214.json', 'PMUL1599.json', 'SNG02322.json', 'WOZ20642.json', 'PMUL3882.json', 'WOZ20583.json', 'PMUL2653.json', 'PMUL0187.json', 'MUL1234.json', 'MUL2405.json', 'PMUL1820.json', 'MUL2344.json', 'MUL2020.json', 'SNG01829.json', 'MUL2241.json', 'PMUL2748.json', 'SNG02081.json', 'PMUL2668.json', 'SNG0502.json', 'MUL2251.json', 'SNG01420.json', 'SSNG0077.json', 'PMUL4692.json', 'PMUL2191.json', 'MUL1496.json', 'SNG02177.json', 'SNG1103.json', 'PMUL3676.json', 'MUL1727.json', 'PMUL0689.json', 'PMUL2369.json', 'PMUL1571.json', 'WOZ20268.json', 'SNG0515.json', 'WOZ20645.json', 'MUL1867.json', 'PMUL2116.json', 'MUL2294.json', 'PMUL2069.json', 'MUL1998.json', 'WOZ20303.json', 'SNG1279.json', 'WOZ20348.json', 'MUL0516.json', 'MUL0835.json', 'PMUL4179.json', 'PMUL1177.json', 'MUL2322.json', 'MUL1411.json', 'PMUL0777.json', 'PMUL1021.json', 'SNG02073.json', 'PMUL3490.json', 'SSNG0076.json', 'PMUL3178.json', 'MUL2537.json', 'SNG01160.json', 'PMUL0626.json', 'PMUL0174.json', 'PMUL3013.json', 'SNG02260.json', 'PMUL4512.json', 'MUL1066.json', 'PMUL1213.json', 'MUL0562.json', 'PMUL1888.json', 'PMUL2886.json', 'PMUL2290.json', 'SNG01386.json', 'MUL0462.json', 'SNG0560.json', 'SSNG0099.json', 'SNG01340.json', 'SNG02115.json', 'PMUL0403.json', 'PMUL3636.json', 'MUL0703.json', 'PMUL4566.json', 'PMUL0914.json', 'MUL2022.json', 'SNG01406.json', 'MUL2290.json', 'SSNG0106.json', 'MUL2162.json', 'PMUL0243.json', 'SSNG0098.json', 'SNG0991.json', 'PMUL3596.json', 'WOZ20300.json', 'WOZ20643.json', 'PMUL2417.json', 'MUL1531.json', 'SNG01442.json', 'PMUL0886.json', 'PMUL2449.json', 'SNG0342.json', 'SNG0133.json', 'MUL0317.json', 'SNG1141.json', 'PMUL2310.json', 'MUL0409.json', 'PMUL3268.json', 'PMUL3146.json', 'MUL0895.json', 'MUL2340.json', 'PMUL3368.json', 'MUL2673.json', 'PMUL1885.json', 'WOZ20199.json', 'MUL1192.json', 'PMUL0945.json', 'PMUL3953.json', 'PMUL4852.json', 'WOZ20528.json', 'PMUL4140.json', 'SNG02242.json', 'PMUL2027.json', 'MUL1956.json', 'MUL2141.json', 'MUL1701.json', 'MUL1938.json', 'MUL0845.json', 'MUL1595.json', 'PMUL2752.json', 'SNG1002.json', 'MUL1193.json', 'WOZ20198.json', 'SNG01555.json', 'PMUL4263.json', 'PMUL4139.json', 'PMUL1274.json', 'PMUL4399.json', 'PMUL3846.json', 'PMUL4668.json', 'SNG1265.json', 'WOZ20157.json', 'WOZ20141.json', 'SNG01521.json', 'PMUL4389.json', 'WOZ20480.json', 'WOZ20128.json', 'MUL0127.json', 'PMUL4801.json', 'PMUL1483.json', 'MUL1239.json', 'MUL0604.json', 'PMUL4408.json', 'MUL1966.json', 'PMUL2035.json', 'PMUL4699.json', 'PMUL0280.json', 'SNG0356.json', 'MUL1344.json', 'PMUL2378.json', 'PMUL2493.json', 'PMUL2755.json', 'MUL1592.json', 'SNG0747.json', 'MUL0335.json', 'MUL1320.json', 'PMUL3140.json', 'SNG01389.json', 'PMUL1192.json', 'PMUL2538.json', 'PMUL3038.json', 'WOZ20434.json', 'PMUL3081.json', 'MUL2453.json', 'PMUL4079.json', 'PMUL2747.json', 'PMUL2588.json', 'MUL2285.json', 'MUL0069.json', 'PMUL3126.json', 'SNG01549.json', 'MUL1949.json', 'MUL1650.json', 'SNG0451.json', 'SSNG0287.json', 'PMUL3748.json', 'PMUL3868.json', 'MUL0953.json', 'SNG0656.json', 'SNG0621.json', 'MUL0747.json', 'SNG02243.json', 'PMUL4094.json', 'MUL0972.json', 'SNG1038.json', 'PMUL4910.json', 'PMUL3983.json', 'MUL1138.json', 'MUL2028.json', 'SNG01821.json', 'MUL2177.json', 'MUL0182.json', 'PMUL3565.json', 'MUL2266.json', 'MUL2246.json', 'MUL0611.json', 'PMUL1276.json', 'PMUL1196.json', 'SNG1384.json', 'PMUL3593.json', 'MUL1247.json', 'PMUL4783.json', 'PMUL4718.json', 'SNG0752.json', 'MUL2469.json', 'MUL1997.json', 'PMUL2066.json', 'MUL1762.json', 'WOZ20387.json', 'MUL1143.json', 'PMUL4438.json', 'PMUL4283.json', 'MUL0264.json', 'PMUL4115.json', 'MUL1157.json', 'MUL2498.json', 'MUL1605.json', 'MUL0830.json', 'PMUL3760.json', 'MUL1647.json', 'PMUL2401.json', 'PMUL4134.json', 'MUL2341.json', 'PMUL3232.json', 'MUL2343.json', 'PMUL1827.json', 'PMUL2979.json', 'SNG0682.json', 'MUL0104.json', 'PMUL3047.json', 'MUL2675.json', 'PMUL1883.json', 'PMUL4099.json', 'SSNG0071.json', 'PMUL0035.json', 'SNG01176.json', 'PMUL3001.json', 'SNG01675.json', 'SNG01574.json', 'PMUL2091.json', 'PMUL1859.json', 'PMUL3601.json', 'PMUL2218.json', 'PMUL0673.json', 'PMUL2801.json', 'PMUL2986.json', 'SNG1256.json', 'SNG0746.json', 'PMUL3561.json', 'PMUL0934.json', 'MUL1930.json', 'SSNG0107.json', 'MUL1139.json', 'MUL1064.json', 'PMUL4643.json', 'MUL2110.json', 'MUL2692.json', 'PMUL4722.json', 'MUL2430.json', 'MUL0455.json', 'MUL0240.json', 'MUL0019.json', 'SNG01843.json', 'PMUL0533.json', 'PMUL3890.json', 'PMUL0135.json', 'WOZ20296.json', 'SNG0783.json', 'SNG0706.json', 'PMUL1122.json', 'PMUL2190.json', 'MUL0336.json', 'MUL2247.json', 'SNG01344.json', 'SNG0217.json', 'PMUL0770.json', 'SNG01707.json', 'PMUL2817.json', 'SNG02325.json', 'PMUL0286.json', 'SSNG0240.json', 'PMUL3581.json', 'PMUL1304.json', 'MUL1470.json', 'MUL0400.json', 'MUL1690.json', 'SNG1373.json', 'PMUL2124.json', 'SSNG0164.json', 'SNG0926.json', 'MUL1760.json', 'WOZ20385.json', 'PMUL3113.json', 'WOZ20007.json', 'PMUL3838.json', 'MUL0658.json', 'PMUL0265.json', 'MUL0666.json', 'SNG0668.json', 'SNG02053.json', 'PMUL4947.json', 'MUL0591.json', 'MUL0852.json', 'PMUL4919.json', 'SNG1031.json', 'SNG1156.json', 'SNG0681.json', 'MUL0563.json', 'WOZ20109.json', 'PMUL3738.json', 'PMUL3351.json', 'SNG1326.json', 'SNG0110.json', 'MUL0128.json', 'SNG01287.json', 'WOZ20536.json', 'WOZ20340.json', 'WOZ20175.json', 'PMUL4256.json', 'SNG0142.json', 'SNG0211.json', 'PMUL3048.json', 'PMUL4808.json', 'SNG0712.json', 'SNG0137.json', 'PMUL4494.json', 'MUL2522.json', 'MUL0660.json', 'WOZ20064.json', 'SNG01969.json', 'PMUL0858.json', 'SNG01550.json', 'MUL2226.json', 'PMUL4422.json', 'MUL1667.json', 'WOZ20554.json', 'PMUL1171.json', 'PMUL0980.json', 'PMUL4257.json', 'MUL1668.json', 'PMUL0347.json', 'MUL2160.json', 'SNG01375.json', 'MUL0305.json', 'SNG02120.json', 'PMUL1176.json', 'PMUL4228.json', 'SNG0203.json', 'SNG1058.json', 'SNG02020.json', 'PMUL3269.json', 'MUL1340.json', 'PMUL1495.json', 'PMUL3406.json', 'PMUL4799.json', 'PMUL1049.json', 'SNG0773.json', 'MUL2361.json', 'PMUL1805.json', 'PMUL1374.json', 'MUL0126.json', 'SSNG0243.json', 'PMUL4088.json', 'MUL1432.json', 'MUL2553.json', 'MUL1613.json', 'SSNG0134.json', 'MUL2564.json', 'SNG02157.json', 'MUL0984.json', 'PMUL4540.json', 'SNG0850.json', 'PMUL2592.json', 'PMUL0252.json', 'SNG0085.json', 'PMUL3123.json', 'MUL2233.json', 'PMUL1917.json', 'PMUL4638.json', 'MUL1107.json', 'SNG02241.json', 'SNG01606.json', 'SNG0898.json', 'MUL0763.json', 'MUL0754.json', 'PMUL3346.json', 'MUL0057.json', 'SNG1237.json', 'PMUL4168.json', 'PMUL4696.json', 'MUL1190.json', 'MUL1238.json', 'WOZ20525.json', 'MUL0559.json', 'SSNG0350.json', 'MUL1097.json', 'WOZ20166.json', 'PMUL0200.json', 'SNG01894.json', 'MUL0842.json', 'MUL1818.json', 'SNG0601.json', 'PMUL2893.json', 'MUL0257.json', 'SNG1213.json', 'SNG02093.json', 'PMUL2697.json', 'MUL1144.json', 'MUL1119.json', 'WOZ20264.json', 'SNG02153.json', 'PMUL0640.json', 'MUL1611.json', 'PMUL1236.json', 'PMUL3292.json', 'MUL1379.json', 'MUL2624.json', 'PMUL1856.json', 'PMUL1184.json', 'MUL1242.json', 'SNG0693.json', 'PMUL4415.json', 'SNG01248.json', 'SNG0512.json', 'PMUL0931.json', 'SNG0598.json', 'PMUL4951.json', 'PMUL3005.json', 'WOZ20250.json', 'PMUL0729.json', 'MUL1593.json', 'WOZ20598.json', 'SNG0955.json', 'SNG01645.json', 'SNG02058.json', 'WOZ20662.json', 'SSNG0006.json', 'MUL1402.json', 'WOZ20530.json', 'PMUL2206.json', 'MUL1224.json', 'PMUL4396.json', 'PMUL1868.json', 'SNG1243.json', 'SNG01854.json', 'MUL1944.json', 'WOZ20548.json', 'MUL1427.json', 'SNG0526.json', 'PMUL1031.json', 'PMUL2487.json', 'MUL0413.json', 'PMUL1356.json', 'MUL0924.json', 'PMUL1160.json', 'MUL2165.json', 'PMUL1638.json', 'MUL2245.json', 'SNG01938.json', 'MUL1296.json', 'SNG02085.json', 'MUL1261.json', 'MUL1046.json', 'PMUL3854.json', 'SNG01421.json', 'SNG1305.json', 'SNG0921.json', 'SNG0861.json', 'WOZ20013.json', 'PMUL3116.json', 'PMUL4412.json', 'PMUL1408.json', 'PMUL3432.json', 'MUL1145.json', 'PMUL1316.json', 'SNG01378.json', 'SNG01276.json', 'PMUL3172.json', 'MUL0937.json', 'PMUL3244.json', 'PMUL3988.json', 'MUL0288.json', 'PMUL1027.json', 'WOZ20106.json', 'PMUL4448.json', 'SNG01954.json', 'SSNG0008.json', 'SNG0566.json', 'PMUL3640.json', 'PMUL1167.json', 'SNG02010.json', 'SNG1068.json', 'PMUL0270.json', 'PMUL0512.json', 'SNG02163.json', 'PMUL3359.json', 'PMUL0819.json', 'PMUL4879.json', 'SNG01908.json', 'PMUL4475.json', 'PMUL1179.json', 'MUL2041.json', 'SNG02164.json', 'PMUL3595.json', 'PMUL3665.json', 'SNG01799.json', 'SSNG0105.json', 'SNG01863.json', 'SSNG0241.json', 'PMUL3012.json', 'PMUL4925.json', 'WOZ20613.json', 'PMUL3973.json', 'PMUL3592.json', 'PMUL0913.json', 'SSNG0122.json', 'SNG01646.json', 'PMUL0041.json', 'MUL0212.json', 'MUL1081.json', 'PMUL2215.json', 'PMUL3870.json', 'PMUL1367.json', 'PMUL1510.json', 'SNG02290.json', 'SNG0094.json', 'MUL2303.json', 'MUL0552.json', 'MUL2530.json', 'PMUL4482.json', 'WOZ20206.json', 'PMUL1608.json', 'MUL2173.json', 'PMUL3416.json', 'SNG01270.json', 'MUL1816.json', 'PMUL2603.json', 'SNG01528.json', 'SNG02127.json', 'WOZ20586.json', 'SNG01591.json', 'MUL1348.json', 'PMUL2374.json', 'MUL1053.json', 'MUL1705.json', 'WOZ20494.json', 'MUL0393.json', 'SNG01216.json', 'WOZ20005.json', 'PMUL4506.json', 'PMUL1161.json', 'PMUL1447.json', 'PMUL1666.json', 'MUL2119.json', 'SNG1240.json', 'PMUL4985.json', 'PMUL3138.json', 'WOZ20022.json', 'MUL2109.json', 'SNG01810.json', 'SNG1308.json', 'PMUL2340.json', 'MUL1374.json', 'PMUL0741.json', 'PMUL4435.json', 'PMUL2772.json', 'SNG1109.json', 'PMUL2200.json', 'MUL0435.json', 'SNG1289.json', 'SNG0821.json', 'SNG0018.json', 'PMUL2430.json', 'PMUL4066.json', 'PMUL2875.json', 'PMUL2278.json', 'SNG1309.json', 'SNG01524.json', 'PMUL4622.json', 'PMUL0513.json', 'SNG1272.json', 'PMUL3508.json', 'SNG01975.json', 'PMUL4173.json', 'PMUL0430.json', 'SNG0844.json', 'SNG0820.json', 'SNG02223.json', 'SNG01952.json', 'MUL2454.json', 'PMUL2648.json', 'PMUL4254.json', 'WOZ20108.json', 'PMUL1494.json', 'PMUL4499.json', 'SNG02126.json', 'MUL0421.json', 'PMUL4815.json', 'SNG0981.json', 'SNG01902.json', 'SNG01511.json', 'PMUL0718.json', 'PMUL4477.json', 'SNG0980.json', 'MUL2491.json', 'PMUL4747.json', 'PMUL1428.json', 'SNG1376.json', 'MUL2662.json', 'PMUL1890.json', 'MUL0152.json', 'PMUL1445.json', 'MUL1492.json', 'SSNG0078.json', 'PMUL1295.json', 'PMUL3863.json', 'PMUL0193.json', 'SSNG0100.json', 'PMUL3096.json', 'MUL0077.json', 'MUL1946.json', 'WOZ20490.json', 'PMUL2703.json', 'MUL1426.json', 'PMUL1246.json', 'PMUL1202.json', 'SNG0401.json', 'MUL1614.json', 'SNG0286.json', 'SSNG0351.json', 'MUL0592.json', 'PMUL3965.json', 'WOZ20509.json', 'PMUL3377.json', 'MUL2552.json', 'PMUL1904.json', 'SNG01802.json', 'WOZ20439.json', 'MUL0387.json', 'SNG0892.json', 'SNG01868.json', 'PMUL3124.json', 'MUL2536.json', 'PMUL3179.json', 'PMUL4356.json', 'PMUL1480.json', 'PMUL0376.json', 'MUL0556.json', 'PMUL3162.json', 'SNG01679.json', 'PMUL3494.json', 'MUL1731.json', 'MUL1523.json', 'MUL2619.json', 'SNG0006.json', 'PMUL0525.json', 'PMUL1724.json', 'PMUL1682.json', 'SNG02313.json', 'SSNG0257.json', 'SNG1360.json', 'WOZ20034.json', 'WOZ20178.json', 'PMUL2982.json', 'MUL0048.json', 'PMUL4302.json', 'WOZ20000.json', 'MUL1147.json', 'MUL0897.json', 'PMUL4601.json', 'MUL0831.json', 'MUL0792.json', 'SNG01964.json', 'PMUL3995.json', 'PMUL3531.json', 'SNG02080.json', 'SNG0796.json', 'MUL0084.json', 'MUL2134.json', 'WOZ20251.json', 'MUL1716.json', 'MUL0581.json', 'MUL0046.json', 'SSNG0119.json', 'MUL1684.json', 'SNG0466.json', 'PMUL0540.json', 'PMUL0739.json', 'PMUL2286.json', 'MUL2140.json', 'MUL2448.json', 'SSNG0130.json', 'SNG02284.json', 'PMUL1577.json', 'MUL1535.json', 'MUL2029.json', 'MUL0273.json', 'PMUL3524.json', 'PMUL2007.json', 'SNG01691.json', 'PMUL0716.json', 'PMUL0538.json', 'SNG0738.json', 'SNG0269.json', 'SNG0166.json', 'SNG0836.json', 'PMUL0537.json', 'PMUL3770.json', 'SSNG0079.json', 'PMUL3998.json', 'PMUL4824.json', 'MUL0326.json', 'SNG0165.json', 'PMUL0329.json', 'SNG1380.json', 'MUL1754.json', 'MUL0384.json', 'SNG01493.json', 'SNG01379.json', 'PMUL4345.json', 'WOZ20019.json', 'PMUL3412.json', 'SNG0702.json', 'MUL0189.json', 'PMUL0745.json', 'PMUL3871.json', 'PMUL1339.json', 'WOZ20030.json', 'PMUL4515.json', 'PMUL0034.json', 'SNG0015.json', 'WOZ20648.json', 'MUL2401.json', 'PMUL1661.json', 'MUL0105.json', 'MUL2548.json', 'MUL2250.json', 'PMUL4878.json', 'MUL1786.json', 'SNG0414.json', 'PMUL0801.json', 'SNG0383.json', 'PMUL4707.json', 'MUL2163.json', 'PMUL0863.json', 'MUL0202.json', 'PMUL4549.json', 'MUL2043.json', 'PMUL2180.json', 'WOZ20179.json', 'PMUL2277.json', 'SNG02003.json', 'PMUL1639.json', 'MUL2164.json', 'MUL1747.json', 'PMUL3642.json', 'SNG02017.json', 'WOZ20617.json', 'SNG0360.json', 'SNG0624.json', 'PMUL2239.json', 'PMUL1590.json', 'SSNG0091.json', 'PMUL1166.json', 'SNG0043.json', 'PMUL1922.json', 'SNG1335.json', 'PMUL0222.json', 'SNG01347.json', 'MUL0418.json', 'MUL1069.json', 'SNG02232.json', 'PMUL2673.json', 'PMUL4960.json', 'SNG1048.json', 'PMUL4715.json', 'MUL2447.json', 'SNG1022.json', 'PMUL4328.json', 'MUL0867.json', 'PMUL4318.json', 'PMUL2497.json', 'PMUL0627.json', 'PMUL0756.json', 'SSNG0258.json', 'MUL2462.json', 'PMUL4774.json', 'MUL0026.json', 'SNG1001.json', 'MUL1622.json', 'SNG02124.json', 'PMUL1446.json', 'SNG01765.json', 'MUL0029.json', 'PMUL4474.json', 'MUL0651.json', 'MUL2096.json', 'MUL0511.json', 'WOZ20012.json', 'SNG0181.json', 'PMUL2595.json', 'PMUL4798.json', 'SNG0329.json', 'MUL1375.json', 'PMUL2341.json', 'PMUL1660.json', 'MUL0366.json', 'SNG0202.json', 'MUL2279.json', 'SSNG0087.json', 'SSNG0025.json', 'SNG01991.json', 'MUL1915.json', 'WOZ20487.json', 'PMUL1785.json', 'SNG02206.json', 'SNG0266.json', 'MUL0622.json', 'MUL1276.json', 'MUL2562.json', 'PMUL2865.json', 'SNG1166.json', 'WOZ20501.json', 'SNG01535.json', 'SNG1026.json', 'MUL2347.json', 'PMUL1823.json', 'PMUL2940.json', 'SNG0760.json', 'MUL2319.json', 'PMUL2589.json', 'MUL0132.json', 'PMUL3830.json', 'WOZ20486.json', 'SNG01636.json', 'PMUL4077.json', 'MUL2501.json', 'PMUL1953.json', 'PMUL1783.json', 'MUL1321.json', 'MUL1792.json', 'PMUL3869.json', 'PMUL1999.json', 'SSNG0177.json', 'MUL1740.json', 'SNG0023.json', 'PMUL3166.json', 'WOZ20513.json', 'SNG1341.json', 'MUL1805.json', 'MUL1297.json', 'SSNG0165.json', 'PMUL0457.json', 'PMUL0327.json', 'MUL1197.json', 'MUL1343.json', 'MUL2116.json', 'PMUL1669.json', 'PMUL4531.json', 'WOZ20594.json', 'PMUL1982.json', 'PMUL4267.json', 'PMUL1174.json', 'SSNG0067.json', 'PMUL4171.json', 'SNG1057.json', 'PMUL1091.json', 'PMUL4388.json', 'PMUL1605.json', 'PMUL1352.json', 'MUL1249.json', 'MUL2046.json', 'PMUL1701.json', 'PMUL1542.json', 'SNG0450.json', 'MUL1246.json', 'MUL1169.json', 'WOZ20447.json', 'PMUL1297.json', 'MUL1228.json', 'SNG1100.json', 'MUL1461.json', 'PMUL1762.json', 'PMUL1545.json', 'SNG1092.json', 'WOZ20077.json', 'SSNG0083.json', 'SNG01625.json', 'MUL1746.json', 'SNG0300.json', 'PMUL1104.json', 'WOZ20065.json', 'MUL0580.json', 'MUL1134.json', 'PMUL3767.json', 'MUL2637.json', 'PMUL1602.json', 'MUL2179.json', 'MUL1819.json', 'PMUL0417.json', 'PMUL3202.json', 'MUL0690.json', 'PMUL1837.json', 'MUL2353.json', 'WOZ20167.json', 'PMUL3488.json', 'SNG1346.json', 'SNG0639.json', 'WOZ20640.json', 'WOZ20165.json', 'PMUL1636.json', 'SNG02047.json', 'SNG1108.json', 'PMUL3746.json', 'PMUL3766.json', 'MUL0896.json', 'SNG01456.json', 'SNG01940.json', 'PMUL3117.json', 'SNG1113.json', 'SNG01747.json', 'SSNG0101.json', 'SNG01208.json', 'SNG1095.json', 'PMUL0532.json', 'SNG01462.json', 'SNG01725.json', 'MUL0883.json', 'WOZ20183.json', 'PMUL3935.json', 'SNG0632.json', 'SNG0310.json', 'SNG0629.json', 'SNG1070.json', 'MUL2301.json', 'WOZ20055.json', 'SNG01848.json', 'PMUL3006.json', 'MUL2669.json', 'PMUL4579.json', 'PMUL4946.json', 'PMUL2197.json', 'SSNG0263.json', 'SNG0077.json', 'PMUL2959.json', 'PMUL3461.json', 'WOZ20672.json', 'SNG0995.json', 'SNG02004.json', 'SNG02059.json', 'SNG1285.json', 'PMUL2231.json', 'MUL1019.json', 'MUL1156.json', 'PMUL0239.json', 'SNG0471.json', 'MUL1468.json', 'MUL0296.json', 'SNG1222.json', 'PMUL4167.json', 'PMUL2196.json', 'PMUL3043.json', 'MUL1873.json', 'MUL0868.json', 'PMUL4327.json', 'PMUL1560.json', 'SNG01833.json', 'MUL2014.json', 'SSNG0045.json', 'WOZ20001.json', 'PMUL3238.json', 'MUL1898.json', 'MUL1044.json', 'PMUL4160.json', 'SNG01915.json', 'SNG1306.json', 'SSNG0158.json', 'SNG01957.json', 'PMUL4369.json', 'SNG1297.json', 'PMUL3808.json', 'PMUL4039.json', 'SNG01400.json', 'PMUL0220.json', 'PMUL3395.json', 'MUL1191.json', 'WOZ20671.json', 'MUL1545.json', 'PMUL0089.json', 'MUL0564.json', 'PMUL3233.json', 'WOZ20626.json', 'MUL2248.json', 'MUL0484.json', 'PMUL4640.json', 'PMUL3954.json', 'WOZ20562.json', 'SNG0975.json', 'PMUL3919.json', 'WOZ20632.json', 'PMUL2061.json', 'MUL1990.json', 'PMUL0416.json', 'SNG01849.json', 'PMUL1740.json', 'PMUL1662.json', 'MUL0017.json', 'MUL0955.json', 'MUL0565.json', 'MUL0971.json', 'SNG02106.json', 'SNG02321.json', 'PMUL2157.json', 'SNG01586.json', 'SNG1030.json', 'PMUL3235.json', 'PMUL0027.json', 'PMUL0789.json', 'PMUL4625.json', 'PMUL4517.json', 'PMUL2834.json', 'PMUL0361.json', 'MUL1116.json', 'SNG02005.json', 'PMUL0997.json', 'SNG0896.json', 'SNG01891.json', 'PMUL3428.json', 'PMUL3037.json', 'SNG0272.json', 'MUL1304.json', 'SNG01214.json', 'SNG01249.json', 'PMUL0434.json', 'MUL2330.json', 'PMUL4685.json', 'SNG01252.json', 'PMUL1180.json', 'PMUL0564.json', 'PMUL4660.json', 'PMUL3590.json', 'MUL0452.json', 'SNG0996.json', 'MUL1712.json', 'PMUL1562.json', 'MUL1597.json', 'PMUL2750.json', 'PMUL1390.json', 'PMUL3481.json', 'PMUL2768.json', 'MUL1924.json', 'PMUL4639.json', 'MUL2272.json', 'PMUL2425.json', 'PMUL0487.json', 'SNG1148.json', 'PMUL3193.json', 'MUL0334.json', 'SNG0562.json', 'SNG1034.json', 'MUL1646.json', 'SNG01737.json', 'PMUL1361.json', 'PMUL3750.json', 'PMUL1317.json', 'PMUL4984.json', 'PMUL0731.json', 'WOZ20474.json', 'PMUL1759.json', 'SNG01988.json', 'SNG0177.json', 'PMUL3736.json', 'PMUL4701.json', 'MUL0916.json', 'MUL2269.json', 'SNG1173.json', 'PMUL4253.json', 'PMUL0233.json', 'SNG1074.json', 'SNG0767.json', 'WOZ20326.json', 'MUL1472.json', 'MUL1174.json', 'PMUL1908.json', 'PMUL2657.json', 'PMUL0442.json', 'PMUL1401.json', 'MUL2034.json', 'SNG02113.json', 'WOZ20212.json', 'PMUL0560.json', 'SNG02317.json', 'SNG01977.json', 'MUL1876.json', 'PMUL2129.json', 'MUL1048.json', 'SNG01978.json', 'PMUL2942.json', 'PMUL4104.json', 'MUL0701.json', 'MUL2392.json', 'PMUL1769.json', 'WOZ20252.json', 'SNG0105.json', 'PMUL3672.json', 'MUL1715.json', 'PMUL2969.json', 'MUL2071.json', 'SNG0555.json', 'MUL1451.json', 'MUL0310.json', 'MUL0323.json', 'PMUL0351.json', 'PMUL0409.json', 'PMUL0005.json', 'WOZ20266.json', 'PMUL2736.json', 'PMUL4390.json', 'SNG01903.json', 'PMUL1298.json', 'PMUL2096.json', 'PMUL1007.json', 'PMUL0809.json', 'MUL2543.json', 'SNG0938.json', 'PMUL4060.json', 'PMUL4431.json', 'PMUL2722.json', 'MUL1583.json', 'MUL0749.json', 'PMUL0551.json', 'MUL1078.json', 'SSNG0226.json', 'PMUL3469.json', 'SNG01794.json', 'SNG1312.json', 'MUL0846.json', 'SSNG0363.json', 'SNG0345.json', 'SSNG0299.json', 'MUL0977.json', 'PMUL0754.json', 'MUL1685.json', 'SNG1378.json', 'MUL0872.json', 'SSNG0289.json', 'MUL0915.json', 'SNG01533.json', 'MUL0557.json', 'MUL0344.json', 'PMUL1993.json', 'MUL1707.json', 'PMUL3934.json', 'PMUL0544.json', 'PMUL1568.json', 'WOZ20279.json', 'MUL0785.json', 'PMUL0842.json', 'PMUL1437.json', 'MUL0407.json', 'MUL2013.json', 'SNG01834.json', 'PMUL4779.json', 'SNG01869.json', 'PMUL4361.json', 'SNG0340.json', 'SSNG0179.json', 'SNG0279.json', 'MUL1473.json', 'PMUL0575.json', 'MUL2040.json', 'PMUL4432.json', 'WOZ20263.json', 'MUL2540.json', 'WOZ20399.json', 'MUL1824.json', 'MUL2047.json', 'PMUL1084.json', 'WOZ20668.json', 'PMUL0723.json', 'SNG0703.json', 'PMUL3765.json', 'SSNG0233.json', 'WOZ20389.json', 'MUL1380.json', 'SNG1277.json', 'SNG01193.json', 'PMUL2782.json', 'PMUL4373.json', 'PMUL3144.json', 'MUL2178.json', 'PMUL1603.json', 'WOZ20435.json', 'MUL0810.json', 'MUL0481.json', 'WOZ20330.json', 'PMUL4255.json', 'SNG0965.json', 'WOZ20485.json', 'PMUL4131.json', 'SNG02171.json', 'PMUL2891.json', 'PMUL2530.json', 'PMUL4610.json', 'MUL2356.json', 'PMUL4869.json', 'MUL1721.json', 'PMUL3384.json', 'PMUL0044.json', 'MUL0912.json', 'MUL2623.json', 'PMUL4075.json', 'WOZ20079.json', 'SNG01685.json', 'MUL1137.json', 'PMUL4059.json', 'PMUL4631.json', 'MUL0303.json', 'MUL1706.json', 'PMUL0142.json', 'SNG02007.json', 'PMUL1684.json', 'MUL0112.json', 'SSNG0330.json', 'MUL0414.json', 'SNG1234.json', 'PMUL4216.json', 'MUL1022.json', 'MUL0282.json', 'MUL1512.json', 'PMUL2195.json', 'PMUL0328.json', 'SNG1130.json', 'MUL2227.json', 'PMUL1737.json', 'SNG1296.json', 'PMUL2222.json', 'SNG01835.json', 'MUL2012.json', 'MUL0245.json', 'MUL0392.json', 'WOZ20094.json', 'PMUL4367.json', 'MUL0003.json', 'PMUL1725.json', 'MUL0188.json', 'PMUL3645.json', 'MUL1072.json', 'PMUL3206.json', 'WOZ20356.json', 'SNG01773.json', 'PMUL1338.json', 'MUL2613.json', 'SNG0427.json', 'MUL1445.json', 'PMUL2256.json', 'WOZ20371.json', 'SNG0973.json', 'MUL1725.json', 'MUL2224.json', 'PMUL1900.json', 'SNG0225.json', 'WOZ20430.json', 'MUL0063.json', 'PMUL1938.json', 'PMUL4975.json', 'SNG1205.json', 'PMUL3404.json', 'PMUL4730.json', 'SNG0664.json', 'MUL2607.json', 'PMUL3485.json', 'WOZ20438.json', 'MUL0907.json', 'PMUL4006.json', 'MUL0566.json', 'SNG0999.json', 'PMUL0182.json', 'PMUL0021.json', 'SNG0071.json', 'SNG0829.json', 'MUL1936.json', 'PMUL2698.json', 'PMUL1248.json', 'SNG02281.json', 'PMUL2980.json', 'WOZ20099.json', 'PMUL3058.json', 'SNG01312.json', 'PMUL3609.json', 'MUL0394.json', 'PMUL4787.json', 'PMUL2542.json', 'SNG02251.json', 'PMUL4502.json', 'PMUL1719.json', 'MUL2166.json', 'WOZ20614.json', 'SNG0060.json', 'MUL1772.json', 'SNG01198.json', 'MUL2108.json', 'PMUL2890.json', 'MUL1546.json', 'PMUL4574.json', 'PMUL1095.json', 'MUL1458.json', 'PMUL4568.json', 'PMUL0663.json', 'PMUL1294.json', 'MUL1325.json', 'PMUL1420.json', 'PMUL2373.json', 'SNG01227.json', 'SNG0058.json', 'MUL1014.json', 'PMUL1293.json', 'PMUL2778.json', 'WOZ20119.json', 'SNG0180.json', 'MUL1841.json', 'PMUL1521.json', 'MUL0339.json', 'PMUL3807.json', 'PMUL2511.json', 'SNG01742.json', 'SNG1043.json', 'SNG01531.json', 'MUL2156.json', 'MUL0204.json', 'PMUL2789.json', 'PMUL4681.json', 'SNG0824.json', 'MUL0311.json', 'PMUL0028.json', 'SSNG0356.json', 'MUL2574.json', 'PMUL1966.json', 'PMUL4573.json', 'SNG02129.json', 'MUL1914.json', 'PMUL0168.json', 'MUL1698.json', 'PMUL4544.json', 'PMUL1972.json', 'PMUL4122.json', 'PMUL3517.json', 'MUL2589.json', 'MUL1007.json', 'SNG0320.json', 'MUL2048.json', 'PMUL4565.json', 'MUL2359.json', 'MUL1284.json', 'SNG0074.json', 'SSNG0357.json', 'SNG01553.json', 'SNG0769.json', 'SSNG0030.json', 'SNG02168.json', 'SNG0035.json', 'SSNG0328.json', 'SNG01408.json', 'PMUL1718.json', 'MUL0162.json', 'PMUL3501.json', 'SNG0215.json', 'PMUL2620.json', 'MUL2262.json', 'MUL0718.json', 'MUL1008.json', 'PMUL3643.json', 'SNG02271.json', 'WOZ20256.json', 'MUL0676.json', 'SNG01323.json', 'PMUL0083.json', 'SNG0868.json', 'PMUL3586.json', 'PMUL3699.json', 'PMUL4023.json', 'SNG1195.json', 'MUL1791.json', 'PMUL3087.json', 'MUL1186.json', 'MUL1615.json', 'PMUL1162.json', 'WOZ20422.json', 'PMUL0095.json', 'MUL0807.json', 'MUL1870.json', 'PMUL4413.json', 'MUL1999.json', 'PMUL2068.json', 'PMUL3120.json', 'SSNG0316.json', 'PMUL0271.json', 'PMUL1897.json', 'MUL2665.json', 'PMUL4575.json', 'PMUL4204.json', 'SNG01325.json', 'PMUL2877.json', 'PMUL3099.json', 'MUL1877.json', 'WOZ20228.json', 'SNG01904.json', 'MUL2323.json', 'PMUL1396.json', 'PMUL3668.json', 'SNG1392.json', 'SNG0925.json', 'PMUL0951.json', 'PMUL0677.json', 'SNG01770.json', 'SNG02283.json', 'WOZ20098.json', 'PMUL1247.json', 'SNG0391.json', 'PMUL3376.json', 'WOZ20425.json', 'PMUL2483.json', 'WOZ20172.json', 'PMUL2704.json', 'MUL2219.json', 'SNG01668.json', 'PMUL0852.json', 'PMUL3900.json', 'SNG0946.json', 'SNG0063.json', 'WOZ20437.json', 'WOZ20638.json', 'SNG02309.json', 'PMUL1425.json', 'MUL2010.json', 'MUL0350.json', 'WOZ20235.json', 'MUL1771.json', 'SNG02306.json', 'SNG02029.json', 'SNG1051.json', 'WOZ20216.json', 'MUL2614.json', 'PMUL0085.json', 'MUL0145.json', 'PMUL0302.json', 'MUL2283.json', 'PMUL3809.json', 'MUL0309.json', 'MUL2438.json', 'PMUL0370.json', 'MUL2593.json', 'PMUL2912.json', 'MUL1655.json', 'PMUL1086.json', 'MUL1822.json', 'SNG0267.json', 'MUL1577.json', 'PMUL4189.json', 'SNG0822.json', 'MUL2583.json', 'SSNG0296.json', 'MUL0207.json', 'PMUL2448.json', 'SNG0949.json', 'PMUL3496.json', 'PMUL3266.json', 'SNG0013.json', 'PMUL3774.json', 'PMUL4306.json', 'SSNG0103.json', 'MUL0795.json', 'SNG0511.json', 'SNG0818.json', 'PMUL1501.json', 'PMUL0468.json', 'PMUL0023.json', 'PMUL3949.json', 'PMUL4459.json', 'PMUL4853.json', 'MUL0443.json', 'PMUL3336.json', 'WOZ20230.json', 'WOZ20423.json', 'PMUL2677.json', 'MUL1751.json', 'PMUL4819.json', 'PMUL0714.json', 'SNG0611.json', 'PMUL2629.json', 'SNG01890.json', 'MUL0961.json', 'PMUL0674.json', 'SSNG0230.json', 'SSNG0068.json', 'SNG0757.json', 'SNG0849.json', 'PMUL0452.json', 'MUL2681.json', 'SNG1363.json', 'PMUL1350.json', 'PMUL4510.json', 'PMUL1433.json', 'WOZ20396.json', 'MUL1372.json', 'MUL1537.json', 'PMUL2518.json', 'PMUL2184.json', 'WOZ20003.json', 'SNG02159.json', 'MUL0147.json', 'SNG01179.json', 'MUL1883.json', 'PMUL2132.json', 'MUL2385.json', 'PMUL2941.json', 'MUL1167.json', 'MUL1373.json', 'PMUL2347.json', 'SNG1204.json', 'SNG1192.json', 'MUL0626.json', 'MUL2297.json', 'SNG0658.json', 'PMUL2946.json', 'MUL2204.json', 'PMUL1928.json', 'PMUL3029.json', 'PMUL3737.json', 'MUL1452.json', 'PMUL2338.json', 'PMUL1449.json', 'WOZ20543.json', 'WOZ20168.json', 'MUL0963.json', 'MUL0200.json', 'MUL2318.json', 'PMUL0133.json', 'SNG01752.json', 'MUL1556.json', 'PMUL3022.json', 'PMUL2135.json', 'MUL1884.json', 'MUL2331.json', 'SNG0775.json', 'PMUL1318.json', 'PMUL1372.json', 'MUL0515.json', 'PMUL4700.json', 'PMUL2270.json', 'MUL2633.json', 'PMUL1739.json', 'PMUL3497.json', 'SNG0948.json', 'SSNG0393.json', 'MUL1878.json', 'PMUL2728.json', 'MUL1589.json', 'SNG01932.json', 'PMUL1351.json', 'SNG1313.json', 'PMUL1903.json', 'PMUL2306.json', 'MUL1522.json', 'PMUL3696.json', 'PMUL3024.json', 'SSNG0027.json', 'SSNG0394.json', 'PMUL3528.json', 'SNG0348.json', 'PMUL0651.json', 'MUL2273.json', 'SNG0884.json', 'PMUL0734.json', 'PMUL1491.json', 'MUL0818.json', 'PMUL4101.json', 'PMUL3658.json', 'SNG01274.json', 'MUL0368.json', 'WOZ20237.json', 'MUL2610.json', 'WOZ20482.json', 'PMUL1137.json', 'PMUL3019.json', 'MUL0489.json', 'SNG0990.json', 'MUL2278.json', 'MUL0274.json', 'PMUL3661.json', 'MUL0239.json', 'SNG01169.json', 'SNG0079.json', 'PMUL4242.json', 'MUL1536.json', 'PMUL4884.json', 'PMUL4458.json', 'PMUL0346.json', 'PMUL0924.json', 'PMUL4460.json', 'PMUL1262.json', 'PMUL3018.json', 'PMUL1858.json', 'MUL2609.json', 'WOZ20506.json', 'PMUL2133.json', 'MUL1882.json', 'WOZ20127.json', 'WOZ20294.json', 'MUL1907.json', 'PMUL0600.json', 'MUL0004.json', 'SSNG0354.json', 'MUL1913.json', 'MUL1065.json', 'WOZ20200.json', 'PMUL3500.json', 'SSNG0010.json', 'PMUL4058.json', 'MUL1027.json', 'PMUL2661.json', 'PMUL3390.json', 'PMUL4572.json', 'SNG0205.json', 'MUL0764.json', 'PMUL4516.json', 'PMUL4714.json', 'SNG01316.json', 'SNG01210.json', 'SSNG0255.json', 'SNG02204.json', 'PMUL3814.json', 'PMUL0219.json', 'MUL2174.json', 'PMUL4239.json', 'MUL1404.json', 'PMUL0493.json', 'SSNG0048.json', 'PMUL0305.json', 'PMUL0408.json', 'PMUL1954.json', 'MUL2506.json', 'PMUL1307.json', 'WOZ20622.json', 'SNG1302.json', 'PMUL4071.json', 'PMUL2950.json', 'SNG0550.json', 'PMUL3473.json', 'PMUL4682.json', 'PMUL2868.json', 'MUL1820.json', 'MUL0438.json', 'PMUL1080.json', 'SNG01819.json', 'MUL2032.json', 'PMUL1862.json', 'MUL2650.json', 'SNG0815.json', 'MUL1101.json', 'PMUL0491.json', 'WOZ20254.json', 'SNG02303.json', 'PMUL0755.json', 'PMUL2690.json', 'PMUL2057.json', 'PMUL1474.json', 'SNG1393.json', 'WOZ20499.json', 'SNG0380.json', 'MUL0297.json', 'PMUL0082.json', 'PMUL1216.json', 'PMUL1400.json', 'PMUL3762.json', 'PMUL3321.json', 'SNG01203.json', 'SNG01548.json', 'PMUL2957.json', 'PMUL1569.json', 'PMUL4918.json', 'SNG0840.json', 'MUL1562.json', 'WOZ20148.json', 'SNG0376.json', 'SNG0953.json', 'SNG02138.json', 'MUL1400.json', 'PMUL4856.json', 'PMUL4705.json', 'SNG0655.json', 'MUL1800.json', 'PMUL4830.json', 'MUL1806.json', 'PMUL0557.json', 'SNG02233.json', 'PMUL3566.json', 'PMUL0254.json', 'SNG0987.json', 'WOZ20669.json', 'WOZ20345.json', 'WOZ20171.json', 'PMUL0304.json', 'PMUL3558.json', 'WOZ20424.json', 'MUL1503.json', 'MUL1529.json', 'MUL0748.json', 'PMUL4818.json', 'SNG02315.json', 'WOZ20484.json', 'PMUL2192.json', 'MUL1750.json', 'PMUL2858.json', 'PMUL1596.json', 'SNG0311.json', 'MUL0291.json', 'PMUL2465.json', 'SSNG0329.json', 'SNG0189.json', 'MUL0480.json', 'MUL2045.json', 'MUL1923.json', 'PMUL2454.json', 'SNG01826.json', 'SSNG0237.json', 'SNG02205.json', 'MUL0598.json', 'PMUL1040.json', 'PMUL1198.json', 'MUL1555.json', 'PMUL0106.json', 'PMUL1391.json', 'PMUL1597.json', 'MUL0985.json', 'MUL0741.json', 'WOZ20601.json', 'PMUL1503.json', 'SNG1282.json', 'PMUL2951.json', 'SNG0317.json', 'PMUL1424.json', 'WOZ20213.json', 'PMUL0825.json', 'MUL0283.json', 'SNG02240.json', 'PMUL3851.json', 'PMUL3779.json', 'SNG01494.json', 'PMUL2414.json', 'MUL0970.json', 'PMUL4804.json', 'MUL2053.json', 'PMUL4590.json', 'PMUL3764.json', 'MUL0561.json', 'MUL0746.json', 'SNG01255.json', 'MUL2431.json', 'PMUL4723.json', 'SNG1072.json', 'WOZ20057.json', 'MUL1073.json', 'PMUL1985.json', 'SNG0409.json', 'PMUL0419.json', 'SNG0520.json', 'SNG0053.json', 'PMUL0098.json', 'PMUL4320.json', 'PMUL3650.json', 'PMUL2732.json', 'PMUL0032.json', 'SNG0092.json', 'MUL0761.json', 'PMUL1978.json', 'MUL1415.json', 'PMUL0173.json', 'SNG01530.json', 'PMUL0802.json', 'MUL0999.json', 'SNG0637.json', 'SNG02162.json', 'PMUL2344.json', 'MUL1370.json', 'PMUL4175.json', 'PMUL0959.json', 'PMUL4881.json', 'SNG0617.json', 'PMUL2189.json', 'PMUL3089.json', 'MUL1237.json', 'PMUL2505.json', 'MUL2495.json', 'PMUL4743.json', 'PMUL0060.json', 'MUL2399.json', 'SNG02132.json', 'WOZ20515.json', 'PMUL4282.json', 'MUL0037.json', 'SSNG0228.json', 'MUL1964.json', 'PMUL2037.json', 'MUL1900.json', 'WOZ20293.json', 'WOZ20084.json', 'MUL0781.json', 'PMUL2885.json', 'PMUL1607.json', 'SSNG0250.json', 'MUL2612.json', 'SNG0916.json', 'WOZ20514.json', 'WOZ20549.json', 'PMUL3169.json', 'MUL2084.json', 'PMUL4404.json', 'PMUL1364.json', 'SNG01428.json', 'MUL2336.json', 'MUL2244.json', 'WOZ20584.json', 'MUL0518.json', 'SSNG0392.json', 'PMUL3739.json', 'MUL2286.json', 'SNG0403.json', 'PMUL0589.json', 'MUL1885.json', 'PMUL2134.json', 'MUL0194.json', 'PMUL0138.json', 'MUL1957.json', 'SNG1042.json', 'PMUL2194.json', 'SNG0547.json', 'PMUL1324.json', 'SNG01804.json', 'PMUL1182.json', 'WOZ20037.json', 'WOZ20328.json', 'PMUL1649.json', 'PMUL1743.json', 'SNG0853.json', 'MUL0427.json', 'PMUL1380.json', 'MUL2398.json', 'PMUL1058.json', 'MUL1774.json', 'PMUL2711.json', 'SNG0963.json', 'SNG01681.json', 'SNG0415.json', 'PMUL1085.json', 'PMUL4609.json', 'PMUL0235.json', 'PMUL4740.json', 'MUL2496.json', 'SNG0882.json', 'WOZ20292.json', 'MUL1901.json', 'SNG01416.json', 'SNG0685.json', 'PMUL1287.json', 'SSNG0180.json', 'MUL0567.json', 'PMUL4146.json', 'PMUL4217.json', 'PMUL1387.json', 'SNG02270.json', 'PMUL0010.json', 'SSNG0367.json', 'PMUL1613.json', 'MUL2186.json', 'MUL1948.json', 'PMUL4442.json', 'SSNG0288.json', 'WOZ20556.json', 'WOZ20618.json', 'SNG0986.json', 'PMUL1399.json', 'SNG1168.json', 'PMUL0306.json', 'PMUL3471.json', 'WOZ20473.json', 'PMUL2534.json', 'PMUL0195.json', 'PMUL3332.json', 'PMUL3822.json', 'SNG01539.json', 'SNG01995.json', 'MUL0072.json', 'MUL1221.json', 'MUL0766.json', 'SNG1107.json', 'PMUL0795.json', 'SNG0347.json', 'PMUL1641.json', 'WOZ20197.json', 'MUL0459.json', 'PMUL1097.json', 'PMUL4249.json', 'MUL1301.json', 'MUL1908.json', 'PMUL2225.json', 'PMUL3276.json', 'PMUL0940.json', 'SSNG0334.json', 'PMUL4316.json', 'SNG0005.json', 'SNG01410.json', 'PMUL3834.json', 'PMUL4935.json', 'WOZ20267.json', 'PMUL2815.json', 'PMUL2383.json', 'MUL1875.json', 'PMUL4904.json', 'WOZ20388.json', 'SNG0618.json', 'PMUL1183.json', 'PMUL2779.json', 'MUL0980.json', 'WOZ20233.json', 'WOZ20675.json', 'SNG0256.json', 'MUL1602.json', 'SNG1290.json', 'PMUL2279.json', 'PMUL4366.json', 'SNG02026.json', 'PMUL1381.json', 'PMUL0946.json', 'PMUL1554.json', 'PMUL4043.json', 'PMUL2869.json', 'MUL2477.json', 'PMUL4765.json', 'PMUL0453.json', 'MUL1129.json', 'MUL0668.json', 'PMUL4944.json', 'PMUL4419.json', 'PMUL2956.json', 'PMUL0629.json', 'MUL1863.json', 'PMUL2112.json', 'PMUL3086.json', 'PMUL4851.json', 'SNG01495.json', 'SNG0364.json', 'MUL1209.json', 'SNG1200.json', 'PMUL3145.json', 'WOZ20234.json', 'MUL2582.json', 'MUL0098.json', 'PMUL2650.json', 'PMUL2065.json', 'MUL1994.json', 'MUL2434.json', 'SNG0426.json', 'MUL0103.json', 'WOZ20031.json', 'MUL2570.json', 'PMUL1962.json', 'PMUL2004.json', 'PMUL1096.json', 'SNG0784.json', 'PMUL2265.json', 'PMUL0422.json', 'MUL1175.json', 'SSNG0332.json', 'PMUL3793.json', 'PMUL3143.json', 'SSNG0140.json', 'SNG02225.json', 'PMUL0112.json', 'MUL2634.json', 'WOZ20402.json', 'PMUL1594.json', 'PMUL0967.json', 'PMUL1642.json', 'PMUL0827.json', 'PMUL2382.json', 'SSNG0269.json', 'PMUL0662.json', 'WOZ20350.json', 'MUL1549.json', 'PMUL3088.json', 'MUL2125.json', 'PMUL1670.json', 'WOZ20579.json', 'PMUL3718.json', 'MUL0456.json', 'PMUL3742.json', 'MUL2363.json', 'PMUL1807.json', 'PMUL1456.json', 'MUL0220.json', 'WOZ20657.json', 'SNG1259.json', 'PMUL2708.json', 'SNG01163.json', 'PMUL0261.json', 'PMUL3474.json', 'MUL2358.json', 'PMUL3185.json', 'WOZ20232.json', 'PMUL2163.json', 'WOZ20040.json', 'SNG1206.json', 'PMUL0125.json', 'MUL0369.json', 'MUL0838.json', 'PMUL2569.json', 'MUL1074.json', 'MUL2205.json', 'MUL1146.json', 'MUL1111.json', 'MUL1104.json', 'SNG1303.json', 'PMUL4386.json', 'MUL0647.json', 'PMUL1496.json', 'PMUL2839.json', 'MUL1743.json', 'PMUL3911.json', 'PMUL0664.json', 'PMUL2377.json', 'PMUL0202.json', 'PMUL2944.json', 'PMUL4737.json', 'MUL2429.json', 'PMUL1574.json', 'PMUL0841.json', 'SSNG0142.json', 'SNG01443.json', 'MUL0799.json', 'PMUL4713.json', 'PMUL2323.json', 'SSNG0042.json', 'SNG02217.json', 'MUL1548.json', 'WOZ20290.json', 'MUL1903.json', 'SNG02027.json', 'SNG02136.json', 'MUL0269.json', 'PMUL2488.json', 'PMUL1941.json', 'MUL0532.json', 'PMUL2459.json', 'WOZ20625.json', 'PMUL3391.json', 'WOZ20517.json', 'PMUL2474.json', 'PMUL0650.json', 'MUL1043.json', 'PMUL1531.json', 'MUL0806.json', 'MUL1572.json', 'SNG01642.json', 'PMUL1313.json', 'PMUL0599.json', 'PMUL2934.json', 'MUL2628.json', 'SSNG0353.json', 'PMUL2324.json', 'PMUL1717.json', 'PMUL1136.json', 'PMUL4485.json', 'PMUL0999.json', 'SSNG0244.json', 'MUL0013.json', 'PMUL0391.json', 'WOZ20660.json', 'SSNG0358.json', 'SSNG0061.json', 'WOZ20042.json', 'WOZ20546.json', 'SSNG0235.json', 'WOZ20142.json', 'PMUL3571.json', 'SNG0009.json', 'PMUL4652.json', 'WOZ20639.json', 'PMUL0368.json', 'PMUL0439.json', 'PMUL3510.json', 'PMUL4026.json', 'PMUL4684.json', 'SNG0766.json', 'MUL1300.json', 'PMUL0145.json', 'MUL0679.json', 'SNG01633.json', 'PMUL1485.json', 'PMUL3617.json', 'PMUL3272.json', 'PMUL2098.json', 'MUL1158.json', 'WOZ20470.json', 'SNG0758.json', 'MUL0667.json', 'SNG02218.json', 'WOZ20253.json', 'PMUL2249.json', 'PMUL4375.json', 'MUL1802.json', 'SNG0214.json', 'SSNG0290.json', 'WOZ20555.json', 'PMUL0943.json', 'SNG01158.json', 'MUL0800.json', 'WOZ20428.json', 'PMUL0837.json', 'PMUL1893.json', 'MUL2661.json', 'PMUL1553.json', 'MUL0765.json', 'WOZ20161.json', 'SNG01905.json', 'SNG01473.json', 'PMUL1847.json', 'PMUL2450.json', 'MUL1120.json', 'PMUL3180.json', 'PMUL4020.json', 'MUL0866.json', 'PMUL4329.json', 'MUL1879.json', 'PMUL1158.json', 'MUL1181.json', 'PMUL2854.json', 'SNG0212.json', 'SNG02263.json', 'PMUL1507.json', 'PMUL0737.json', 'SNG0748.json', 'PMUL2981.json', 'WOZ20553.json', 'MUL1681.json', 'SNG01490.json', 'SNG01599.json', 'PMUL3970.json', 'SNG02167.json', 'MUL1664.json', 'SNG01882.json', 'SNG1352.json', 'PMUL3345.json', 'PMUL1386.json', 'PMUL1217.json', 'PMUL1490.json', 'MUL0885.json', 'SNG0858.json', 'SNG0433.json', 'MUL1741.json', 'PMUL4600.json', 'PMUL1840.json', 'WOZ20390.json', 'SNG01619.json', 'SSNG0057.json', 'PMUL4780.json', 'SNG01498.json', 'PMUL1855.json', 'PMUL1777.json', 'PMUL4188.json', 'PMUL4203.json', 'SNG0330.json', 'SSNG0261.json', 'PMUL0371.json', 'SNG1123.json', 'MUL2602.json', 'PMUL1834.json', 'MUL1510.json', 'PMUL2380.json', 'PMUL1301.json', 'SNG0164.json', 'PMUL4335.json', 'SNG0254.json', 'MUL2031.json', 'SNG02041.json', 'PMUL2735.json', 'SNG1293.json', 'SNG0233.json', 'SNG01945.json', 'PMUL1000.json', 'SNG1151.json', 'PMUL3199.json', 'SNG0726.json', 'SSNG0273.json', 'SNG1251.json', 'SSNG0335.json', 'MUL0704.json', 'PMUL4664.json', 'MUL0987.json', 'SSNG0355.json', 'PMUL3344.json', 'SNG1087.json', 'WOZ20048.json', 'PMUL3706.json', 'PMUL0154.json', 'MUL0374.json', 'PMUL2688.json', 'PMUL2770.json', 'MUL1528.json', 'WOZ20361.json', 'SNG0994.json', 'SNG01483.json', 'PMUL4478.json', 'PMUL4576.json', 'SNG0539.json', 'MUL1588.json', 'PMUL2729.json', 'PMUL2679.json', 'SNG0291.json', 'PMUL2856.json', 'PMUL4880.json', 'SNG1348.json', 'PMUL3959.json', 'SNG01551.json', 'MUL0786.json', 'PMUL0939.json', 'MUL2585.json', 'SNG01446.json', 'SNG1342.json', 'PMUL0407.json', 'SNG01342.json', 'WOZ20373.json', 'SNG01422.json', 'PMUL0318.json', 'PMUL2071.json', 'SNG01507.json', 'PMUL4805.json', 'WOZ20255.json', 'MUL1377.json', 'PMUL2343.json', 'PMUL1009.json', 'PMUL2446.json', 'PMUL0892.json', 'SNG01775.json', 'MUL1889.json', 'PMUL2138.json', 'PMUL4087.json', 'PMUL1426.json', 'PMUL4231.json', 'PMUL1231.json', 'PMUL1448.json', 'SNG1330.json', 'MUL0853.json', 'PMUL0086.json', 'WOZ20631.json', 'SNG1124.json', 'SNG02147.json', 'PMUL4407.json', 'MUL0628.json', 'PMUL4159.json', 'MUL0691.json', 'MUL1437.json', 'SNG01161.json', 'SNG1021.json', 'PMUL0693.json', 'SNG0929.json', 'PMUL0715.json', 'SNG0506.json', 'PMUL0546.json', 'PMUL4924.json', 'PMUL4076.json', 'PMUL4667.json', 'PMUL3079.json', 'PMUL3357.json', 'PMUL0185.json', 'PMUL0190.json', 'SNG02089.json', 'PMUL0925.json', 'PMUL3011.json', 'WOZ20563.json', 'MUL0380.json', 'PMUL3753.json', 'PMUL1416.json', 'WOZ20135.json', 'MUL0613.json', 'PMUL3507.json', 'SNG01366.json', 'MUL2097.json', 'PMUL4554.json', 'PMUL1062.json', 'SNG02133.json', 'PMUL0425.json', 'MUL0988.json', 'MUL0470.json', 'SNG0997.json', 'SNG01281.json', 'PMUL4221.json', 'WOZ20420.json', 'SNG0369.json', 'PMUL1508.json', 'PMUL1619.json', 'SNG02227.json', 'SNG0251.json', 'PMUL3472.json', 'PMUL3526.json', 'PMUL3506.json', 'SSNG0040.json', 'MUL0698.json', 'PMUL4074.json', 'PMUL3810.json', 'PMUL3475.json', 'PMUL2423.json', 'SNG0636.json', 'PMUL1250.json', 'WOZ20641.json', 'MUL0331.json', 'MUL1346.json', 'MUL0390.json', 'PMUL0698.json', 'PMUL2327.json', 'PMUL4998.json', 'SNG01294.json', 'WOZ20122.json', 'PMUL4319.json', 'PMUL4468.json', 'SNG01275.json', 'SNG01616.json', 'SNG0570.json', 'PMUL3201.json', 'PMUL3979.json', 'WOZ20502.json', 'PMUL2284.json', 'SNG02264.json', 'PMUL2009.json', 'SNG02239.json', 'PMUL3691.json', 'PMUL3858.json', 'MUL1205.json', 'SSNG0041.json', 'PMUL4867.json', 'PMUL4127.json', 'MUL1912.json', 'PMUL0059.json', 'MUL0863.json', 'WOZ20574.json', 'PMUL4900.json', 'SNG1028.json', 'SNG0903.json', 'SNG1395.json', 'WOZ20140.json', 'PMUL4245.json', 'PMUL1064.json', 'PMUL2397.json', 'PMUL1252.json', 'PMUL1121.json', 'PMUL0983.json', 'PMUL4646.json', 'SNG1253.json', 'PMUL1131.json', 'PMUL1663.json', 'MUL0118.json', 'PMUL0426.json', 'MUL1217.json', 'PMUL2853.json', 'MUL0572.json', 'PMUL0040.json', 'MUL1940.json', 'MUL1371.json', 'PMUL2345.json', 'SNG01598.json', 'SNG0247.json', 'WOZ20446.json', 'WOZ20573.json', 'PMUL2700.json', 'PMUL2579.json', 'WOZ20452.json', 'MUL2435.json', 'PMUL4727.json', 'MUL1580.json', 'PMUL2721.json', 'SNG01164.json', 'PMUL1002.json', 'MUL0083.json', 'SNG0549.json', 'SNG1264.json', 'SNG0368.json', 'PMUL0529.json', 'SNG01871.json', 'PMUL1965.json', 'MUL2577.json', 'PMUL4003.json', 'PMUL4377.json', 'PMUL0824.json', 'PMUL0880.json', 'SNG0707.json', 'MUL1330.json', 'SNG0605.json', 'SNG0895.json', 'SNG01883.json', 'PMUL3003.json', 'SNG02265.json', 'SNG1219.json', 'PMUL0107.json', 'PMUL3248.json', 'SNG02082.json', 'SNG01429.json', 'SNG0465.json', 'MUL2006.json', 'SNG01432.json', 'PMUL3880.json', 'PMUL4758.json', 'MUL0791.json', 'MUL0590.json', 'PMUL3419.json', 'PMUL1920.json', 'SNG1186.json', 'PMUL3330.json', 'SNG0812.json', 'MUL0893.json', 'PMUL1702.json', 'PMUL3355.json', 'MUL1881.json', 'PMUL2130.json', 'PMUL3441.json', 'PMUL2108.json', 'SNG1189.json', 'MUL0618.json', 'PMUL2645.json', 'MUL2420.json', 'SNG0774.json', 'WOZ20575.json', 'PMUL2040.json', 'MUL1788.json', 'SNG0950.json', 'PMUL0573.json', 'WOZ20280.json', 'PMUL3181.json', 'SNG0544.json', 'PMUL4350.json', 'PMUL3578.json', 'PMUL0388.json', 'SNG1170.json', 'PMUL4764.json', 'MUL2476.json', 'PMUL0591.json', 'MUL0856.json', 'SSNG0272.json', 'MUL1652.json', 'MUL1621.json', 'PMUL3860.json', 'MUL0832.json', 'PMUL3556.json', 'PMUL1841.json', 'SNG01537.json', 'PMUL1693.json', 'MUL2106.json', 'MUL1015.json', 'SNG0517.json', 'PMUL0854.json', 'PMUL1593.json', 'PMUL0053.json', 'PMUL3067.json', 'PMUL3446.json', 'SNG1032.json', 'MUL1394.json', 'SNG1185.json', 'PMUL3666.json', 'PMUL0101.json', 'MUL2641.json', 'SNG1286.json', 'SSNG0206.json', 'PMUL4393.json', 'PMUL0912.json', 'MUL0694.json', 'PMUL4616.json', 'SSNG0121.json', 'WOZ20605.json', 'WOZ20145.json', 'MUL1484.json', 'MUL0636.json', 'PMUL0257.json', 'PMUL3009.json', 'MUL0033.json', 'SNG0478.json', 'MUL2059.json', 'SNG01573.json', 'PMUL0113.json', 'MUL1253.json', 'SNG01569.json', 'WOZ20372.json', 'SNG02069.json', 'SNG1011.json', 'SNG0750.json', 'SNG0763.json', 'PMUL1658.json', 'PMUL2871.json', 'SSNG0053.json', 'PMUL2156.json', 'PMUL2243.json', 'PMUL1322.json', 'PMUL1671.json', 'MUL2124.json', 'SNG0546.json', 'PMUL2274.json', 'MUL0354.json', 'PMUL0294.json', 'PMUL1068.json', 'PMUL2142.json', 'MUL1891.json', 'PMUL4213.json', 'PMUL3139.json', 'PMUL3209.json', 'SNG1165.json', 'PMUL2255.json', 'WOZ20021.json', 'PMUL3632.json', 'PMUL0855.json', 'PMUL4991.json', 'PMUL0268.json', 'WOZ20560.json', 'PMUL3657.json', 'PMUL3440.json', 'SSNG0039.json', 'MUL0065.json', 'MUL0878.json', 'MUL1573.json', 'SNG0393.json', 'SNG1278.json', 'MUL0136.json', 'PMUL3712.json', 'SNG0934.json', 'SNG1191.json', 'MUL1631.json', 'MUL0102.json', 'WOZ20510.json', 'PMUL1708.json', 'WOZ20153.json', 'MUL0525.json', 'SNG0847.json', 'PMUL1106.json', 'PMUL1126.json', 'MUL0646.json', 'PMUL4121.json', 'MUL1149.json', 'MUL2337.json', 'SNG0957.json', 'MUL2455.json', 'PMUL2952.json', 'PMUL2831.json', 'SNG01771.json', 'SNG0103.json', 'SNG0971.json', 'PMUL4229.json', 'WOZ20083.json', 'PMUL2245.json', 'PMUL2314.json', 'MUL2470.json', 'WOZ20139.json', 'PMUL1224.json', 'WOZ20408.json', 'PMUL0583.json', 'SSNG0254.json', 'PMUL3505.json', 'PMUL3896.json', 'SNG02134.json', 'SNG02006.json', 'PMUL3287.json', 'SNG02051.json', 'PMUL1063.json', 'MUL2306.json', 'SNG0799.json', 'SNG0186.json', 'PMUL1312.json', 'PMUL1595.json', 'SNG1276.json', 'SNG01280.json', 'PMUL2790.json', 'PMUL1950.json', 'PMUL1434.json', 'SNG01215.json', 'MUL0158.json', 'MUL2083.json', 'SSNG0342.json', 'PMUL0234.json', 'PMUL4542.json', 'PMUL4451.json', 'SNG0743.json', 'SNG0257.json', 'SNG01660.json', 'PMUL1572.json', 'MUL0772.json', 'SNG0854.json', 'SNG01199.json', 'MUL1282.json', 'SNG0250.json', 'SNG0602.json', 'SNG0265.json', 'SNG1396.json', 'MUL0216.json', 'SNG0691.json', 'MUL1216.json', 'SNG0295.json', 'PMUL1127.json', 'MUL0025.json', 'SNG1299.json', 'SNG0280.json', 'PMUL0735.json', 'PMUL0992.json', 'PMUL3946.json', 'PMUL4989.json', 'PMUL0778.json', 'SNG01476.json', 'MUL0864.json', 'MUL0839.json', 'MUL1780.json', 'MUL0822.json', 'MUL0231.json', 'SNG0970.json', 'SSNG0339.json', 'SNG1005.json', 'PMUL2960.json', 'SNG0577.json', 'SNG0964.json', 'SNG0690.json', 'PMUL2879.json', 'MUL2425.json', 'SNG1210.json', 'PMUL4795.json', 'SNG01534.json', 'PMUL4421.json', 'PMUL1870.json', 'MUL2557.json', 'PMUL2509.json', 'PMUL4876.json', 'SNG0993.json', 'SSNG0050.json', 'PMUL0917.json', 'SSNG0014.json', 'PMUL0274.json', 'MUL0159.json', 'PMUL3063.json', 'PMUL0933.json', 'SNG0293.json', 'SNG02018.json', 'SNG1060.json', 'PMUL2038.json', 'SNG0003.json', 'PMUL0530.json', 'WOZ20516.json', 'SNG1294.json', 'MUL1653.json', 'SSNG0149.json', 'SNG0667.json', 'MUL2687.json', 'PMUL4222.json', 'WOZ20239.json', 'SNG1172.json', 'PMUL4362.json', 'PMUL1505.json', 'SNG1147.json', 'WOZ20414.json', 'PMUL2485.json', 'PMUL1146.json', 'PMUL1235.json', 'SNG0452.json', 'SNG1018.json', 'SNG02060.json', 'SNG1329.json', 'PMUL0483.json', 'SNG01162.json', 'WOZ20599.json', 'SNG1017.json', 'PMUL4855.json', 'MUL1519.json', 'SNG01919.json', 'SNG01447.json', 'MUL1722.json', 'MUL0198.json', 'MUL1869.json', 'PMUL2118.json', 'PMUL4843.json', 'SNG0115.json', 'MUL1331.json', 'MUL0430.json', 'SNG1120.json', 'SNG1321.json', 'MUL0884.json', 'SNG01998.json', 'SNG01396.json', 'PMUL3114.json', 'MUL0911.json', 'PMUL1513.json', 'WOZ20160.json', 'SNG0751.json', 'MUL0150.json', 'SNG01196.json', 'PMUL1141.json', 'WOZ20049.json', 'SNG1086.json', 'PMUL0708.json', 'PMUL3687.json', 'PMUL4324.json', 'SNG01311.json', 'SNG0593.json', 'SNG0595.json', 'PMUL1153.json', 'MUL1324.json', 'PMUL0366.json', 'PMUL3698.json', 'SSNG0123.json', 'PMUL3078.json', 'PMUL4117.json', 'PMUL1388.json', 'PMUL3915.json', 'SSNG0044.json', 'PMUL3429.json', 'PMUL3638.json', 'SNG0695.json', 'SNG0119.json', 'MUL2450.json', 'SSNG0256.json', 'PMUL3856.json', 'MUL0250.json', 'MUL2222.json', 'MUL0295.json', 'PMUL3447.json', 'PMUL4426.json', 'PMUL2080.json', 'MUL0693.json', 'PMUL2452.json', 'PMUL3119.json', 'PMUL2907.json', 'PMUL3884.json', 'MUL2199.json', 'PMUL0381.json', 'MUL0630.json', 'WOZ20612.json', 'SNG0873.json', 'SNG1370.json', 'PMUL3326.json', 'PMUL3439.json', 'WOZ20568.json', 'PMUL3794.json', 'MUL1366.json', 'PMUL2352.json', 'MUL1075.json', 'PMUL2594.json', 'PMUL1382.json', 'PMUL4103.json', 'PMUL4863.json', 'SNG0050.json', 'SNG0195.json', 'WOZ20143.json', 'MUL1692.json', 'PMUL1551.json', 'WOZ20023.json', 'PMUL0011.json', 'PMUL1147.json', 'SNG01639.json', 'MUL2137.json', 'WOZ20144.json', 'PMUL0860.json', 'PMUL2993.json', 'PMUL0699.json', 'SNG1157.json', 'PMUL0840.json', 'MUL2123.json', 'MUL1252.json', 'MUL2011.json', 'MUL0001.json', 'SNG0649.json', 'SNG01513.json', 'SNG01861.json', 'SNG01874.json', 'MUL1312.json', 'PMUL2242.json', 'SNG01358.json', 'MUL0437.json', 'PMUL0497.json', 'WOZ20590.json', 'SNG1292.json', 'PMUL2226.json', 'SNG02050.json', 'PMUL3723.json', 'PMUL1201.json', 'PMUL3833.json', 'PMUL2329.json', 'SNG0972.json', 'PMUL2164.json', 'MUL0410.json', 'PMUL4604.json', 'SSNG0331.json', 'SNG0070.json', 'WOZ20458.json', 'PMUL2453.json', 'SNG0648.json', 'PMUL1125.json', 'SNG0710.json', 'SNG1375.json', 'SNG0275.json', 'MUL0725.json', 'SNG01934.json', 'PMUL4479.json', 'MUL2432.json', 'SNG0749.json', 'MUL2658.json', 'PMUL0022.json', 'MUL1527.json', 'PMUL3160.json', 'PMUL0576.json', 'MUL0826.json', 'SNG1368.json', 'MUL1717.json', 'PMUL0938.json', 'SSNG0036.json', 'PMUL0905.json', 'MUL0717.json', 'PMUL2628.json', 'SNG1179.json', 'PMUL4655.json', 'PMUL4811.json', 'PMUL3514.json', 'PMUL3477.json', 'SNG0027.json', 'MUL0535.json', 'MUL0138.json', 'PMUL2438.json', 'PMUL2546.json', 'PMUL2075.json', 'PMUL1761.json', 'PMUL0179.json', 'SSNG0126.json', 'PMUL4112.json', 'PMUL2520.json', 'MUL2696.json', 'SNG0072.json', 'SNG0803.json', 'MUL0099.json', 'WOZ20521.json', 'PMUL0340.json', 'SNG01654.json', 'PMUL2089.json', 'PMUL4647.json', 'PMUL0326.json', 'SNG02286.json', 'PMUL3075.json', 'WOZ20542.json', 'PMUL3619.json', 'SNG01828.json', 'MUL2021.json', 'PMUL1808.json', 'SSNG0159.json', 'PMUL3465.json', 'SNG0631.json', 'PMUL4370.json', 'WOZ20136.json', 'SNG1223.json', 'PMUL3108.json', 'SNG02161.json', 'SSNG0059.json', 'MUL1757.json', 'MUL1505.json', 'PMUL3745.json', 'SNG01605.json', 'PMUL4492.json', 'MUL2524.json', 'MUL1185.json', 'SSNG0321.json', 'PMUL2258.json', 'PMUL0163.json', 'SNG0461.json', 'MUL2113.json', 'SNG02276.json', 'MUL0727.json', 'SNG01209.json', 'SNG01319.json', 'SNG01850.json', 'SSNG0227.json', 'MUL1387.json', 'MUL0171.json', 'MUL0640.json', 'MUL0857.json', 'SNG1263.json', 'MUL0370.json', 'PMUL0418.json', 'MUL0348.json', 'SNG1012.json', 'SNG1252.json', 'PMUL4874.json', 'MUL0075.json', 'MUL0060.json', 'SNG01974.json', 'PMUL2514.json', 'PMUL0753.json', 'SNG0123.json', 'SNG1358.json', 'MUL2422.json', 'SSNG0349.json', 'MUL1984.json', 'WOZ20217.json', 'WOZ20159.json', 'SNG0124.json', 'MUL2007.json', 'SNG0843.json', 'MUL0259.json', 'WOZ20221.json', 'MUL0486.json', 'MUL2093.json', 'PMUL4550.json', 'MUL1641.json', 'WOZ20305.json', 'MUL1979.json', 'PMUL4615.json', 'SNG01200.json', 'PMUL2148.json', 'PMUL0516.json', 'PMUL1680.json', 'PMUL4894.json', 'PMUL0519.json', 'MUL0983.json', 'PMUL0637.json', 'MUL1290.json', 'SSNG0266.json', 'PMUL3436.json', 'SSNG0174.json', 'PMUL4214.json', 'SNG0160.json', 'MUL0991.json', 'PMUL2591.json', 'SNG01397.json', 'PMUL2830.json', 'PMUL0476.json', 'SNG01414.json', 'SNG0728.json', 'MUL0167.json', 'MUL1960.json', 'PMUL2033.json', 'SNG0521.json', 'SNG02187.json', 'PMUL4902.json', 'PMUL3857.json', 'WOZ20249.json', 'PMUL1465.json', 'MUL0442.json', 'MUL0615.json', 'PMUL0052.json', 'PMUL0987.json', 'PMUL0684.json', 'MUL0542.json', 'MUL0059.json', 'MUL2154.json', 'PMUL1623.json', 'MUL2130.json', 'MUL2594.json', 'PMUL3183.json', 'PMUL1582.json', 'MUL2584.json', 'MUL1756.json', 'PMUL4624.json', 'PMUL2321.json', 'PMUL2809.json', 'PMUL1618.json', 'MUL1421.json', 'PMUL4028.json', 'WOZ20366.json', 'MUL1085.json', 'PMUL2211.json', 'PMUL2828.json', 'MUL1449.json', 'SNG1091.json', 'PMUL1210.json', 'SNG0474.json', 'PMUL1343.json', 'PMUL3993.json', 'SNG1081.json', 'MUL2058.json', 'MUL1793.json', 'SNG1217.json', 'MUL1431.json', 'MUL1287.json', 'WOZ20419.json', 'PMUL1140.json', 'MUL2265.json', 'PMUL1275.json', 'MUL0285.json', 'MUL2228.json', 'MUL0092.json', 'MUL0010.json', 'SNG01192.json', 'PMUL4376.json', 'SNG01860.json', 'SNG01361.json', 'SSNG0386.json', 'SNG0927.json', 'PMUL0319.json', 'SNG02254.json', 'PMUL0079.json', 'PMUL4733.json', 'SNG1044.json', 'PMUL3314.json', 'PMUL2479.json', 'SNG01256.json', 'WOZ20202.json', 'SNG0525.json', 'MUL1608.json', 'SNG0878.json', 'PMUL1220.json', 'PMUL2093.json', 'PMUL4395.json', 'SNG1153.json', 'PMUL1371.json', 'SNG1175.json', 'PMUL2719.json', 'PMUL2030.json', 'MUL1963.json', 'PMUL0324.json', 'MUL1313.json', 'MUL2131.json', 'SNG0575.json', 'PMUL0901.json', 'SNG02087.json', 'SSNG0286.json', 'MUL2260.json', 'PMUL4208.json', 'PMUL3502.json', 'MUL1973.json', 'WOZ20286.json', 'PMUL2307.json', 'SNG0959.json', 'PMUL1709.json', 'PMUL3898.json', 'SNG0363.json', 'MUL1250.json', 'PMUL2331.json', 'MUL1630.json', 'PMUL0399.json', 'SSNG0154.json', 'PMUL4968.json', 'SNG1040.json', 'PMUL1845.json', 'PMUL2753.json', 'MUL1594.json', 'PMUL4690.json', 'MUL1810.json', 'PMUL2464.json', 'SNG01618.json', 'PMUL3487.json', 'PMUL2426.json', 'PMUL4050.json', 'MUL1921.json', 'SNG0586.json', 'WOZ20409.json', 'SNG0660.json', 'SSNG0111.json', 'MUL0732.json', 'SNG02202.json', 'SNG1244.json', 'MUL2397.json', 'WOZ20386.json', 'MUL1763.json', 'PMUL2811.json', 'MUL1749.json', 'SNG0148.json', 'SNG0800.json', 'SNG1391.json', 'PMUL2359.json', 'MUL2138.json', 'SNG0084.json', 'SNG01884.json', 'MUL0391.json', 'MUL2258.json', 'PMUL2605.json', 'PMUL4241.json', 'PMUL4308.json', 'SNG02105.json', 'SNG02009.json', 'SNG1071.json', 'PMUL2634.json', 'PMUL1130.json', 'SNG0725.json', 'SNG1337.json', 'MUL2194.json', 'PMUL3889.json', 'PMUL1378.json', 'MUL1735.json', 'PMUL1044.json', 'PMUL0766.json', 'MUL2324.json', 'SNG01885.json', 'PMUL4872.json', 'MUL1164.json', 'PMUL1763.json', 'MUL1202.json', 'MUL0397.json', 'MUL1407.json', 'SSNG0390.json', 'MUL1494.json', 'MUL1295.json', 'PMUL1788.json', 'WOZ20011.json', 'PMUL3519.json', 'SNG01634.json', 'PMUL2674.json', 'MUL1329.json', 'SNG1188.json', 'SNG01157.json', 'PMUL3806.json', 'MUL0074.json', 'SNG01435.json', 'SSNG0275.json', 'MUL2651.json', 'PMUL1863.json', 'MUL2193.json', 'MUL1781.json', 'MUL1135.json', 'PMUL4207.json', 'SNG0470.json', 'PMUL3744.json', 'SNG01653.json', 'SSNG0173.json', 'SNG0252.json', 'PMUL4180.json', 'MUL2615.json', 'PMUL2152.json', 'MUL2185.json', 'PMUL1610.json', 'SNG1055.json', 'WOZ20652.json', 'WOZ20327.json', 'SSNG0120.json', 'PMUL0245.json', 'PMUL0527.json', 'SSNG0274.json', 'SSNG0229.json', 'SNG01470.json', 'WOZ20596.json', 'SNG01769.json', 'SSNG0127.json', 'MUL0119.json', 'SNG01283.json', 'PMUL4621.json', 'MUL0649.json', 'MUL1188.json', 'MUL0325.json', 'MUL0625.json', 'MUL0804.json', 'PMUL1119.json', 'SSNG0058.json', 'PMUL0832.json', 'MUL2367.json', 'PMUL1803.json', 'PMUL3504.json', 'PMUL3060.json', 'PMUL2820.json', 'PMUL0865.json', 'WOZ20375.json', 'WOZ20449.json', 'SSNG0088.json', 'SNG1096.json', 'WOZ20073.json', 'SSNG0303.json', 'MUL0521.json', 'PMUL4409.json', 'PMUL2491.json', 'PMUL1067.json', 'PMUL4155.json', 'PMUL1039.json', 'WOZ20020.json', 'WOZ20374.json', 'WOZ20329.json', 'PMUL3781.json', 'PMUL0424.json', 'MUL2451.json', 'PMUL3888.json', 'MUL2195.json', 'PMUL1018.json', 'MUL2072.json', 'WOZ20027.json', 'SNG1301.json', 'SNG01688.json', 'MUL2000.json', 'MUL1868.json', 'SNG01250.json', 'SSNG0172.json', 'SNG01942.json', 'SNG01931.json', 'PMUL4990.json', 'SNG1364.json', 'PMUL2694.json', 'MUL0266.json', 'SNG1397.json', 'WOZ20369.json', 'SNG1138.json', 'WOZ20600.json', 'PMUL4380.json', 'PMUL1362.json', 'SNG01701.json', 'PMUL3958.json', 'WOZ20188.json', 'SNG01167.json', 'PMUL2047.json', 'PMUL0909.json', 'PMUL4929.json', 'PMUL3845.json', 'PMUL2063.json', 'MUL1992.json', 'PMUL2998.json', 'PMUL1766.json', 'MUL2133.json', 'SNG0906.json', 'MUL2509.json', 'PMUL2171.json', 'SNG1351.json', 'MUL0606.json', 'PMUL2882.json', 'PMUL4603.json', 'SNG0355.json', 'PMUL1225.json', 'PMUL1949.json', 'MUL2517.json', 'PMUL0055.json', 'PMUL1800.json', 'MUL2364.json', 'MUL1170.json', 'PMUL1341.json', 'SNG0646.json', 'WOZ20072.json', 'PMUL0400.json', 'PMUL0345.json', 'SNG01565.json', 'SNG01189.json', 'SNG1377.json', 'SSNG0285.json', 'MUL1450.json', 'SNG0167.json', 'PMUL3280.json', 'SNG01238.json', 'MUL0998.json', 'PMUL2906.json', 'SNG0988.json', 'MUL1218.json', 'PMUL3653.json', 'PMUL1073.json', 'SSNG0046.json', 'MUL0478.json', 'PMUL3104.json', 'SSNG0028.json', 'MUL1975.json', 'PMUL2461.json', 'SNG1228.json', 'MUL0450.json', 'PMUL2742.json', 'SNG1359.json', 'PMUL2403.json', 'PMUL3281.json', 'PMUL4934.json', 'PMUL3211.json', 'PMUL4297.json', 'PMUL2794.json', 'PMUL0267.json', 'PMUL4976.json', 'PMUL0648.json', 'MUL1291.json', 'PMUL0205.json', 'MUL1032.json', 'SNG0243.json', 'MUL0012.json', 'PMUL3130.json', 'MUL1041.json', 'SNG0678.json', 'MUL2203.json', 'SNG01921.json', 'PMUL3582.json', 'SNG0819.json', 'PMUL1237.json', 'PMUL1589.json', 'MUL1211.json', 'SNG0612.json', 'PMUL3695.json', 'MUL2407.json', 'WOZ20087.json', 'WOZ20146.json', 'SNG01839.json', 'SNG0459.json', 'SNG02135.json', 'PMUL1363.json', 'PMUL4858.json', 'SSNG0128.json', 'SNG0036.json', 'PMUL4041.json', 'MUL1274.json', 'MUL1062.json', 'MUL1210.json', 'PMUL2968.json', 'SNG0897.json', 'SNG0499.json', 'MUL1540.json', 'MUL0235.json', 'PMUL4054.json', 'MUL2617.json', 'PMUL1825.json', 'PMUL3618.json', 'PMUL4877.json', 'WOZ20667.json', 'PMUL3928.json', 'MUL0488.json', 'MUL2386.json', 'MUL1034.json', 'PMUL2411.json', 'PMUL0656.json', 'WOZ20176.json', 'SNG01635.json', 'MUL0825.json', 'SSNG0219.json', 'PMUL2710.json', 'PMUL1211.json', 'PMUL2855.json', 'SNG1310.json', 'MUL0947.json', 'SNG1233.json', 'PMUL3443.json', 'WOZ20028.json', 'PMUL0413.json', 'MUL2036.json', 'MUL0547.json', 'MUL0860.json', 'PMUL0170.json', 'MUL1931.json', 'PMUL2845.json', 'SSNG0345.json', 'PMUL3686.json', 'MUL1001.json', 'MUL0959.json', 'WOZ20354.json', 'MUL2310.json', 'MUL2094.json', 'PMUL4019.json', 'SNG01886.json', 'PMUL1022.json', 'SSNG0391.json', 'PMUL2494.json', 'MUL1397.json', 'WOZ20150.json', 'SNG02199.json', 'SSNG0009.json', 'PMUL0482.json', 'SNG0089.json', 'MUL1922.json', 'PMUL2774.json', 'SNG01572.json', 'SNG02301.json', 'PMUL4861.json', 'MUL1729.json', 'PMUL1010.json', 'WOZ20319.json', 'MUL0156.json', 'SNG0887.json', 'PMUL0864.json', 'SNG0635.json', 'MUL0353.json', 'SNG0816.json', 'PMUL3522.json', 'MUL2051.json', 'PMUL4592.json', 'MUL2075.json', 'PMUL4018.json', 'MUL0040.json', 'SNG1381.json', 'PMUL2246.json', 'SNG0106.json', 'SNG01303.json', 'PMUL0001.json', 'PMUL3214.json', 'SSNG0170.json', 'SNG1319.json', 'WOZ20245.json', 'PMUL2590.json', 'WOZ20187.json', 'MUL1842.json', 'WOZ20646.json', 'PMUL0217.json', 'SNG0729.json', 'SSNG0277.json', 'MUL1624.json', 'MUL1830.json', 'MUL1902.json', 'WOZ20291.json', 'MUL1416.json', 'MUL2192.json', 'MUL1423.json', 'PMUL4744.json', 'MUL2492.json', 'PMUL1330.json', 'PMUL4198.json', 'PMUL1109.json', 'PMUL4709.json', 'SNG01943.json', 'SNG0662.json', 'MUL0664.json', 'MUL0474.json', 'MUL0931.json', 'PMUL4829.json', 'WOZ20297.json', 'PMUL4803.json', 'PMUL4261.json', 'SSNG0075.json', 'PMUL2976.json', 'PMUL3457.json', 'PMUL1877.json', 'MUL2649.json', 'PMUL1714.json', 'SNG0789.json', 'MUL0539.json', 'PMUL1853.json', 'MUL2621.json', 'PMUL1348.json', 'MUL1728.json', 'PMUL4860.json', 'WOZ20070.json', 'SNG0864.json', 'SNG02247.json', 'MUL0009.json', 'PMUL1347.json', 'PMUL0390.json', 'PMUL4298.json', 'MUL2115.json', 'PMUL1689.json', 'PMUL4011.json', 'PMUL0748.json', 'PMUL2639.json', 'PMUL3499.json', 'PMUL1519.json', 'WOZ20445.json', 'PMUL1515.json', 'SNG0619.json', 'WOZ20377.json', 'PMUL2992.json', 'PMUL2614.json', 'PMUL2777.json', 'MUL1766.json', 'MUL2074.json', 'SNG0194.json', 'SNG0144.json', 'MUL1244.json', 'MUL2088.json', 'MUL0166.json', 'PMUL0401.json', 'MUL2018.json', 'PMUL2264.json', 'PMUL1464.json', 'PMUL3361.json', 'SNG0240.json', 'WOZ20400.json', 'SSNG0293.json', 'PMUL2299.json', 'PMUL4807.json', 'PMUL4931.json', 'PMUL3621.json', 'MUL0089.json', 'PMUL1912.json', 'MUL2236.json', 'WOZ20459.json', 'PMUL4953.json', 'MUL0697.json', 'MUL1508.json', 'MUL2408.json', 'SNG0488.json', 'MUL1538.json', 'SNG02086.json', 'MUL0685.json', 'MUL0499.json', 'SNG01564.json', 'PMUL0105.json', 'MUL1812.json', 'MUL0549.json', 'PMUL1977.json', 'SNG1159.json', 'PMUL2280.json', 'MUL0487.json', 'PMUL3902.json', 'MUL0294.json', 'SNG1112.json', 'SSNG0387.json', 'PMUL2702.json', 'SNG01338.json', 'PMUL3623.json', 'SNG0192.json', 'PMUL1285.json', 'PMUL1733.json', 'MUL0093.json', 'MUL2188.json', 'WOZ20393.json', 'PMUL2577.json', 'SSNG0313.json', 'MUL2122.json', 'PMUL1998.json', 'WOZ20616.json', 'PMUL2630.json', 'MUL1476.json', 'PMUL0645.json', 'PMUL3340.json', 'PMUL1760.json', 'MUL2243.json', 'MUL1479.json', 'MUL1601.json', 'PMUL1241.json', 'PMUL2355.json', 'MUL1361.json', 'MUL1755.json', 'MUL0292.json', 'PMUL2911.json', 'PMUL1767.json', 'MUL1591.json', 'PMUL2756.json', 'PMUL3282.json', 'PMUL2901.json', 'PMUL2381.json', 'PMUL3131.json', 'SNG01779.json', 'PMUL2537.json', 'MUL1004.json', 'SNG0607.json', 'PMUL1646.json', 'PMUL4941.json', 'MUL2170.json', 'SNG1169.json', 'WOZ20541.json', 'PMUL2466.json', 'MUL0337.json', 'SNG01570.json', 'WOZ20644.json', 'SNG01705.json', 'MUL0545.json', 'PMUL1940.json', 'WOZ20130.json', 'WOZ20287.json', 'MUL1972.json', 'MUL1672.json', 'PMUL4295.json', 'PMUL4522.json', 'MUL2087.json', 'SNG02190.json', 'MUL1980.json', 'MUL0180.json', 'MUL1327.json', 'SNG0481.json', 'MUL1770.json', 'SNG0787.json', 'MUL2686.json', 'SNG0034.json', 'SNG01439.json', 'SNG02221.json', 'PMUL2155.json', 'PMUL2761.json', 'PMUL4889.json', 'MUL1213.json', 'MUL0901.json', 'MUL0043.json', 'PMUL2283.json', 'PMUL3681.json', 'MUL2208.json', 'PMUL1924.json', 'PMUL1087.json', 'PMUL2293.json', 'MUL2128.json', 'SNG1332.json', 'SNG0852.json', 'SNG0734.json', 'MUL1959.json', 'PMUL2028.json', 'SSNG0054.json', 'SNG02310.json', 'MUL1861.json', 'PMUL2110.json', 'MUL1845.json', 'MUL1748.json', 'MUL0446.json', 'PMUL1144.json', 'SNG1144.json', 'WOZ20595.json', 'PMUL2149.json', 'SNG1110.json', 'SSNG0152.json', 'SSNG0370.json', 'WOZ20229.json', 'PMUL0709.json', 'PMUL4620.json', 'PMUL1011.json', 'PMUL1734.json', 'PMUL1261.json', 'MUL0526.json', 'PMUL2014.json', 'MUL1495.json', 'MUL2695.json', 'WOZ20322.json', 'PMUL4895.json', 'SNG01682.json', 'SNG0179.json', 'MUL0639.json', 'SNG01716.json', 'SNG0628.json', 'SNG0866.json', 'PMUL1695.json', 'MUL2100.json', 'MUL0015.json', 'PMUL2469.json', 'WOZ20154.json', 'WOZ20526.json', 'SNG01234.json', 'PMUL0878.json', 'PMUL3926.json', 'PMUL0395.json', 'PMUL2706.json', 'PMUL1793.json', 'WOZ20451.json', 'PMUL2895.json', 'PMUL4410.json', 'MUL2076.json', 'SNG01391.json', 'MUL0471.json', 'SNG0504.json', 'MUL2426.json', 'MUL1782.json', 'WOZ20270.json', 'SNG01301.json', 'SNG02342.json', 'MUL0123.json', 'PMUL1342.json', 'MUL2412.json', 'PMUL1927.json', 'MUL1844.json', 'SNG1142.json', 'PMUL0262.json', 'PMUL0816.json', 'PMUL2808.json', 'PMUL4507.json', 'SNG0083.json', 'PMUL3533.json', 'PMUL0427.json', 'SNG0883.json', 'PMUL4334.json', 'PMUL1794.json', 'PMUL2821.json', 'PMUL3829.json', 'PMUL4893.json', 'PMUL0891.json', 'SNG0830.json', 'SSNG0262.json', 'SNG01708.json', 'SSNG0125.json', 'PMUL2303.json', 'SNG01951.json', 'SNG0977.json', 'MUL0797.json', 'PMUL1768.json', 'PMUL1079.json', 'SNG0031.json', 'PMUL3212.json', 'PMUL3386.json', 'PMUL3967.json', 'SNG0419.json', 'PMUL4162.json', 'PMUL0638.json', 'PMUL3215.json', 'PMUL4833.json', 'SNG1160.json', 'PMUL2643.json', 'SNG0771.json', 'SNG0944.json', 'PMUL0478.json', 'MUL1444.json', 'SNG1382.json', 'MUL2339.json', 'PMUL1102.json', 'SSNG0133.json', 'SNG01776.json', 'MUL1314.json', 'SSNG0213.json', 'SNG0860.json', 'PMUL0784.json', 'PMUL4013.json', 'PMUL3790.json', 'WOZ20362.json', 'PMUL2936.json', 'PMUL2916.json', 'WOZ20025.json', 'SNG01612.json', 'PMUL3431.json', 'SNG0200.json', 'SNG02183.json', 'SNG1080.json', 'MUL0121.json', 'SNG0337.json', 'SNG01153.json', 'WOZ20314.json', 'SSNG0205.json', 'SNG0375.json', 'SNG0400.json', 'MUL1447.json', 'MUL1141.json', 'MUL1315.json', 'SNG0135.json', 'PMUL3367.json', 'PMUL1585.json', 'PMUL1792.json', 'SNG01413.json', 'PMUL3324.json', 'PMUL1477.json', 'MUL2550.json', 'PMUL1906.json', 'PMUL0534.json', 'PMUL1463.json', 'PMUL1003.json', 'SNG0407.json', 'MUL0949.json', 'MUL0778.json', 'MUL2372.json', 'PMUL3975.json', 'PMUL0115.json', 'PMUL0702.json', 'WOZ20033.json', 'PMUL4936.json', 'MUL0935.json', 'WOZ20313.json', 'PMUL0985.json', 'PMUL0610.json', 'PMUL2160.json', 'MUL2554.json', 'PMUL1314.json', 'PMUL2216.json', 'MUL1082.json', 'PMUL0308.json', 'MUL2655.json', 'PMUL1867.json', 'SNG0543.json', 'WOZ20647.json', 'PMUL2272.json', 'MUL1892.json', 'PMUL2141.json', 'SNG01918.json', 'SNG01304.json', 'PMUL1730.json', 'PMUL1716.json', 'SNG1366.json', 'MUL0208.json', 'PMUL2360.json', 'MUL1354.json', 'MUL1504.json', 'PMUL4454.json', 'MUL0829.json', 'SSNG0215.json', 'SNG01735.json', 'PMUL3542.json', 'SNG01201.json', 'MUL2215.json', 'PMUL1931.json', 'PMUL4278.json', 'SSNG0380.json', 'MUL0619.json', 'SNG02030.json', 'PMUL2917.json', 'PMUL0767.json', 'MUL1251.json', 'PMUL1260.json', 'SNG01689.json', 'PMUL3073.json', 'SNG01692.json', 'MUL2374.json', 'PMUL1818.json', 'MUL0531.json', 'MUL0278.json', 'PMUL1092.json', 'PMUL3279.json', 'SNG01920.json', 'MUL0497.json', 'PMUL1310.json', 'SNG1163.json', 'SNG0178.json', 'PMUL3221.json', 'MUL0941.json', 'PMUL3319.json', 'PMUL3072.json', 'MUL2640.json', 'SNG0650.json', 'PMUL2495.json', 'WOZ20315.json', 'MUL2218.json', 'MUL1131.json', 'PMUL1006.json', 'MUL2264.json', 'PMUL2566.json', 'MUL0595.json', 'PMUL0382.json', 'SNG1271.json', 'SNG0565.json', 'PMUL1824.json', 'MUL2616.json', 'MUL0762.json', 'MUL1520.json', 'MUL1513.json', 'WOZ20653.json', 'PMUL4663.json', 'PMUL1561.json', 'MUL0926.json', 'PMUL3839.json', 'PMUL1030.json', 'SNG01881.json', 'SNG0299.json', 'SNG0893.json', 'PMUL0661.json', 'PMUL3226.json', 'SNG1066.json', 'SNG0306.json', 'PMUL0761.json', 'PMUL4939.json', 'PMUL3883.json', 'MUL1696.json', 'PMUL4504.json', 'MUL1206.json', 'MUL1179.json', 'PMUL1453.json', 'PMUL0743.json', 'WOZ20604.json', 'PMUL0984.json', 'PMUL0899.json', 'PMUL4476.json', 'MUL2504.json', 'PMUL4886.json', 'MUL1846.json', 'SNG02122.json', 'SNG02334.json', 'MUL0364.json', 'PMUL0295.json', 'PMUL2545.json', 'SNG01814.json', 'PMUL0667.json', 'PMUL1164.json', 'MUL2275.json', 'PMUL0773.json', 'PMUL3700.json', 'PMUL1038.json', 'PMUL4651.json', 'MUL1455.json', 'SNG1354.json', 'MUL0340.json', 'PMUL0272.json', 'SSNG0270.json', 'SNG0287.json', 'PMUL1547.json', 'WOZ20655.json', 'SNG0714.json', 'PMUL4174.json', 'SNG0173.json', 'SNG0615.json', 'PMUL4110.json', 'PMUL2963.json', 'PMUL3492.json', 'PMUL1305.json', 'PMUL4771.json', 'MUL2467.json', 'SNG0942.json', 'PMUL0289.json', 'PMUL0008.json', 'SNG02255.json', 'PMUL3220.json', 'SSNG0066.json', 'PMUL1113.json', 'MUL1713.json', 'SNG0759.json', 'SNG01392.json', 'PMUL0606.json', 'PMUL4270.json', 'MUL0756.json', 'PMUL4027.json', 'PMUL0817.json', 'SSNG0184.json', 'PMUL3572.json', 'MUL0358.json', 'MUL1051.json', 'MUL0946.json', 'PMUL0392.json', 'PMUL2889.json', 'PMUL4147.json', 'WOZ20370.json', 'SNG0294.json', 'PMUL1118.json', 'MUL0805.json', 'SNG1267.json', 'PMUL0507.json', 'WOZ20492.json', 'PMUL1414.json', 'PMUL1470.json', 'MUL2488.json', 'MUL2001.json', 'PMUL0843.json', 'MUL2635.json', 'MUL1533.json', 'SNG02277.json', 'PMUL2573.json', 'PMUL4009.json', 'PMUL0964.json', 'MUL1920.json', 'SNG02097.json', 'MUL2221.json', 'PMUL2977.json', 'MUL0803.json', 'SSNG0314.json', 'PMUL1518.json', 'PMUL2390.json', 'SNG02266.json', 'SNG02231.json', 'PMUL3813.json', 'SNG02224.json', 'MUL1123.json', 'PMUL2498.json', 'PMUL2743.json', 'PMUL3288.json', 'PMUL1795.json', 'PMUL4149.json', 'MUL0555.json', 'SNG0644.json', 'PMUL1412.json', 'MUL0948.json', 'SSNG0005.json', 'SNG1098.json', 'SNG1398.json', 'PMUL1989.json', 'PMUL4688.json', 'MUL0738.json', 'PMUL2714.json', 'PMUL0054.json', 'PMUL4158.json', 'SNG0174.json', 'SNG0880.json', 'PMUL4322.json', 'MUL0184.json', 'PMUL2888.json', 'SNG0037.json', 'PMUL1244.json', 'MUL0080.json', 'SNG0331.json', 'MUL2259.json', 'SNG0377.json', 'SNG01709.json', 'PMUL0875.json', 'SNG0030.json', 'SSNG0364.json', 'PMUL2050.json', 'MUL1987.json', 'MUL1785.json', 'MUL1316.json', 'SNG01800.json', 'PMUL0700.json', 'PMUL1471.json', 'SNG01696.json', 'MUL2068.json', 'MUL1219.json', 'SNG02304.json', 'SSNG0212.json', 'PMUL0595.json', 'PMUL4769.json', 'MUL0548.json', 'SSNG0276.json', 'WOZ20105.json', 'MUL0669.json', 'SNG01532.json', 'MUL0051.json', 'PMUL2745.json', 'WOZ20335.json', 'MUL1942.json', 'PMUL0508.json', 'PMUL4437.json', 'PMUL4038.json', 'WOZ20624.json', 'MUL2196.json', 'MUL2645.json', 'PMUL1633.json', 'SNG1367.json', 'SSNG0295.json', 'PMUL3103.json', 'PMUL3874.json', 'SNG01487.json', 'MUL0441.json', 'PMUL2757.json', 'MUL1590.json', 'PMUL0542.json', 'SNG01968.json', 'MUL0739.json', 'PMUL3721.json', 'SNG01729.json', 'WOZ20312.json', 'SNG02278.json', 'PMUL3579.json', 'PMUL4940.json', 'MUL2627.json', 'MUL1214.json', 'MUL1521.json', 'SNG1343.json', 'PMUL1478.json', 'MUL0978.json', 'MUL2027.json', 'PMUL0975.json', 'PMUL2182.json', 'SNG0745.json', 'PMUL1765.json', 'SNG0534.json', 'SNG0832.json', 'PMUL0290.json', 'PMUL0146.json', 'PMUL4822.json', 'PMUL4712.json', 'SNG01302.json', 'PMUL1664.json', 'SNG0558.json', 'SNG0592.json', 'WOZ20395.json', 'MUL1828.json', 'MUL1779.json', 'SNG0423.json', 'SNG01305.json', 'PMUL4849.json', 'SNG0677.json', 'PMUL3071.json', 'MUL2478.json', 'PMUL2564.json', 'PMUL3274.json', 'SNG02144.json', 'MUL2388.json', 'PMUL3670.json', 'PMUL1773.json', 'MUL1128.json', 'SNG01887.json', 'WOZ20208.json', 'PMUL0614.json', 'PMUL4271.json', 'PMUL2292.json', 'MUL1258.json', 'PMUL4184.json', 'MUL2299.json', 'MUL0513.json', 'SSNG0341.json', 'SSNG0208.json', 'MUL2350.json', 'PMUL2260.json', 'MUL2149.json', 'PMUL3876.json', 'MUL0938.json', 'SNG0968.json', 'PMUL2584.json', 'MUL1042.json', 'PMUL4381.json', 'PMUL3318.json', 'PMUL2304.json', 'PMUL2526.json', 'SNG0947.json', 'PMUL3498.json', 'MUL2630.json', 'MUL1864.json', 'MUL0030.json', 'PMUL3227.json', 'MUL1687.json', 'MUL2150.json', 'PMUL1627.json', 'MUL2252.json', 'PMUL0826.json', 'MUL0473.json', 'PMUL2632.json', 'PMUL3283.json', 'PMUL4611.json', 'PMUL0926.json', 'SNG02095.json', 'SSNG0307.json', 'PMUL3259.json', 'WOZ20241.json', 'PMUL2873.json', 'WOZ20308.json', 'SNG01717.json', 'SSNG0080.json', 'PMUL4962.json', 'SNG01259.json', 'MUL1831.json', 'SNG0518.json', 'PMUL2734.json', 'SSNG0322.json', 'SNG0230.json', 'PMUL2848.json', 'MUL1560.json', 'PMUL3402.json', 'PMUL0920.json', 'PMUL1532.json', 'PMUL4703.json', 'PMUL0479.json', 'MUL1539.json', 'PMUL1016.json', 'PMUL1124.json', 'MUL2541.json', 'PMUL1913.json', 'PMUL2970.json', 'SNG1196.json', 'SNG0701.json', 'PMUL0625.json', 'MUL1212.json', 'PMUL4888.json', 'SNG02230.json', 'SNG0302.json', 'SNG01563.json', 'PMUL3904.json', 'PMUL1273.json', 'PMUL0866.json', 'PMUL0153.json', 'PMUL2043.json', 'SNG01489.json', 'WOZ20180.json', 'PMUL1944.json', 'MUL0787.json', 'PMUL3685.json', 'PMUL4125.json', 'PMUL2633.json', 'PMUL4113.json', 'PMUL0799.json', 'SNG01562.json', 'MUL1433.json', 'PMUL4529.json', 'MUL1093.json', 'PMUL0966.json', 'MUL0939.json', 'MUL0585.json', 'PMUL3627.json', 'SNG0791.json', 'PMUL1860.json', 'MUL2652.json', 'PMUL3679.json', 'PMUL4537.json', 'MUL0608.json', 'PMUL1624.json', 'MUL2153.json', 'WOZ20621.json', 'MUL0705.json', 'PMUL2499.json', 'PMUL4072.json', 'MUL1279.json', 'PMUL0644.json', 'MUL1858.json', 'PMUL1082.json', 'SSNG0073.json', 'PMUL2318.json', 'PMUL1712.json', 'MUL2143.json', 'SNG0894.json', 'PMUL3136.json', 'SNG01797.json', 'MUL1896.json', 'SNG01336.json', 'PMUL1265.json', 'SSNG0280.json', 'WOZ20301.json', 'MUL2547.json', 'PMUL1915.json', 'PMUL3728.json', 'MUL2349.json', 'PMUL3217.json', 'PMUL4937.json', 'MUL0758.json', 'SNG1324.json', 'PMUL2658.json', 'PMUL3302.json', 'PMUL4760.json', 'PMUL0719.json', 'SNG1379.json', 'MUL0229.json', 'PMUL2780.json', 'PMUL3137.json', 'MUL2525.json', 'PMUL4493.json', 'WOZ20341.json', 'MUL2489.json', 'MUL1676.json', 'PMUL2445.json', 'SNG0408.json', 'PMUL3148.json', 'PMUL1907.json', 'MUL2551.json', 'MUL1177.json', 'SNG1356.json', 'SNG1207.json', 'PMUL3205.json', 'PMUL3974.json', 'PMUL3348.json', 'PMUL0104.json', 'PMUL3305.json', 'MUL0349.json', 'WOZ20380.json', 'MUL1817.json', 'SNG0229.json', 'PMUL0642.json', 'PMUL3568.json', 'PMUL2351.json', 'MUL1365.json', 'PMUL0703.json', 'MUL1636.json', 'PMUL2900.json', 'PMUL0867.json', 'SNG01469.json', 'SNG0597.json', 'PMUL4735.json', 'PMUL3317.json', 'PMUL1186.json', 'SNG1079.json', 'MUL0247.json', 'PMUL1189.json', 'PMUL3176.json', 'MUL2539.json', 'PMUL1379.json', 'SNG01330.json', 'PMUL0102.json', 'SNG0730.json', 'PMUL1601.json', 'WOZ20603.json', 'SNG0708.json', 'WOZ20469.json', 'SNG0154.json', 'PMUL4111.json', 'PMUL4992.json', 'MUL1558.json', 'MUL0144.json', 'SNG0149.json', 'SNG0406.json', 'MUL2642.json', 'SNG01481.json', 'PMUL4837.json', 'SNG01962.json', 'SNG0394.json', 'PMUL2317.json', 'PMUL4883.json', 'PMUL0995.json', 'SNG0052.json', 'SNG0778.json', 'MUL0616.json', 'PMUL4330.json', 'MUL1021.json', 'PMUL0047.json', 'PMUL2332.json', 'PMUL1576.json', 'PMUL4634.json', 'MUL2555.json', 'PMUL0144.json', 'PMUL3303.json', 'PMUL3256.json', 'SNG0967.json', 'SNG0788.json', 'SNG0676.json', 'PMUL1650.json', 'MUL1454.json', 'PMUL0123.json', 'SNG0449.json', 'PMUL2731.json', 'SNG01180.json', 'PMUL3631.json', 'PMUL3298.json', 'SNG01398.json', 'MUL1547.json', 'MUL0255.json', 'MUL1714.json', 'MUL1154.json', 'MUL0641.json', 'PMUL0297.json', 'SNG1182.json', 'SNG0802.json', 'SNG1211.json', 'SNG0298.json', 'PMUL0851.json', 'PMUL1043.json', 'PMUL1535.json', 'MUL0927.json', 'PMUL2553.json', 'MUL0258.json', 'MUL2576.json', 'PMUL4444.json', 'SNG0460.json', 'PMUL2436.json', 'SNG01291.json', 'SNG01503.json', 'MUL1225.json', 'SNG1009.json', 'SNG02071.json', 'SNG1131.json', 'PMUL4729.json', 'PMUL3789.json', 'MUL0782.json', 'SNG02172.json', 'PMUL3916.json', 'SNG02101.json', 'SNG1347.json', 'WOZ20589.json', 'PMUL1898.json', 'PMUL0971.json', 'MUL1640.json', 'PMUL1873.json', 'PMUL1799.json', 'MUL1270.json', 'SNG0117.json', 'SNG02346.json', 'MUL0899.json', 'PMUL0169.json', 'PMUL2619.json', 'SNG0781.json', 'PMUL4201.json', 'PMUL0844.json', 'MUL1068.json', 'SNG0374.json', 'PMUL1455.json', 'SNG0232.json', 'SNG01233.json', 'SNG1053.json', 'SNG0373.json', 'PMUL2713.json', 'PMUL2179.json', 'SNG1224.json', 'PMUL1534.json', 'SNG01744.json', 'MUL0940.json', 'PMUL0322.json', 'SNG1013.json', 'SSNG0026.json', 'SNG0564.json', 'MUL1178.json', 'MUL0359.json', 'WOZ20066.json', 'SNG02197.json', 'PMUL0298.json', 'SNG0429.json', 'SSNG0361.json', 'SNG1125.json', 'MUL1599.json', 'WOZ20592.json', 'MUL1050.json', 'MUL0688.json', 'PMUL4788.json', 'PMUL4496.json', 'MUL2520.json', 'PMUL0619.json', 'PMUL4555.json', 'PMUL4560.json', 'PMUL0141.json', 'PMUL4286.json', 'SNG1208.json', 'PMUL3931.json', 'PMUL4915.json', 'SSNG0139.json', 'SNG02305.json', 'MUL0506.json', 'SNG1362.json', 'MUL1395.json', 'PMUL0353.json', 'SNG01364.json', 'MUL0898.json', 'PMUL3599.json', 'SNG01444.json', 'PMUL0480.json', 'SNG01194.json', 'WOZ20126.json', 'SNG01892.json', 'SNG02111.json', 'SNG0170.json', 'MUL1311.json', 'MUL1176.json', 'PMUL2350.json', 'SSNG0004.json', 'PMUL2420.json', 'SSNG0181.json', 'WOZ20261.json', 'PMUL1581.json', 'PMUL4303.json', 'SNG02269.json', 'PMUL2094.json', 'PMUL1462.json', 'SNG1227.json', 'MUL0879.json', 'PMUL1523.json', 'PMUL0090.json', 'SNG01831.json', 'MUL2016.json', 'SNG0497.json', 'WOZ20298.json', 'PMUL4932.json', 'MUL1384.json', 'SNG01788.json', 'SNG02100.json', 'SNG1047.json', 'MUL0635.json', 'SNG1230.json', 'SNG0107.json', 'WOZ20039.json', 'PMUL3134.json', 'PMUL2567.json', 'PMUL4649.json', 'SNG1149.json', 'SNG02063.json', 'WOZ20351.json', 'SNG01337.json', 'PMUL3735.json', 'PMUL4150.json', 'SNG0093.json', 'SNG01393.json', 'SNG01449.json', 'MUL0675.json', 'WOZ20134.json', 'MUL1110.json', 'SSNG0197.json', 'WOZ20104.json', 'PMUL0379.json', 'MUL1467.json', 'SNG01349.json', 'MUL0416.json', 'PMUL3467.json', 'SNG0032.json', 'MUL1310.json', 'MUL0405.json', 'MUL2280.json', 'PMUL3933.json', 'PMUL1070.json', 'PMUL3895.json', 'SNG0237.json', 'PMUL0025.json', 'SSNG0089.json', 'MUL2101.json', 'PMUL1694.json', 'PMUL0014.json', 'SNG0010.json', 'SNG01836.json', 'PMUL2267.json', 'MUL2389.json', 'MUL2458.json', 'PMUL3589.json', 'PMUL1961.json', 'MUL2573.json', 'MUL1368.json', 'MUL0373.json', 'SNG0519.json', 'MUL1890.json', 'SNG0196.json', 'PMUL3304.json', 'WOZ20307.json', 'MUL2055.json', 'PMUL4596.json', 'WOZ20610.json', 'SNG0590.json', 'PMUL2571.json', 'PMUL3076.json', 'MUL1514.json', 'SNG0308.json', 'PMUL3759.json', 'MUL1263.json', 'SNG0917.json', 'WOZ20281.json', 'MUL1974.json', 'PMUL2421.json', 'PMUL1791.json', 'PMUL3693.json', 'PMUL4966.json', 'WOZ20533.json', 'SNG0366.json', 'PMUL1394.json', 'PMUL1299.json', 'WOZ20189.json', 'PMUL4293.json', 'SSNG0095.json', 'MUL2631.json', 'PMUL1481.json', 'SNG01841.json', 'MUL2132.json', 'PMUL3191.json', 'SNG1084.json', 'PMUL4128.json', 'PMUL1683.json', 'MUL2466.json', 'PMUL4770.json', 'PMUL2034.json', 'MUL1967.json', 'MUL0006.json', 'SNG0974.json', 'PMUL2939.json', 'PMUL2079.json', 'WOZ20376.json', 'MUL1317.json', 'MUL0186.json', 'SNG02173.json', 'PMUL0810.json', 'MUL1033.json', 'WOZ20460.json', 'PMUL1336.json', 'PMUL3438.json', 'PMUL2539.json', 'WOZ20522.json', 'PMUL2513.json', 'PMUL2371.json', 'SNG01307.json', 'PMUL4118.json', 'SNG01809.json', 'WOZ20236.json', 'SNG0992.json', 'SSNG0216.json', 'WOZ20302.json', 'MUL2249.json', 'PMUL1536.json', 'PMUL0835.json', 'PMUL0694.json', 'PMUL0811.json', 'PMUL2388.json', 'SNG0413.json', 'SNG0912.json', 'PMUL0881.json', 'MUL0314.json', 'WOZ20054.json', 'PMUL0503.json', 'MUL2030.json', 'PMUL0962.json', 'SNG0422.json', 'PMUL1943.json', 'SNG0421.json', 'SNG01278.json', 'SNG01817.json', 'PMUL4595.json', 'MUL2056.json', 'MUL1422.json', 'PMUL3065.json', 'SNG1325.json', 'SNG01785.json', 'SNG02148.json', 'WOZ20404.json', 'SNG01315.json', 'SNG1010.json', 'SNG02068.json', 'MUL1089.json', 'PMUL3939.json', 'SNG01627.json', 'MUL1925.json', 'PMUL4650.json', 'MUL0578.json', 'SNG02318.json', 'MUL2460.json', 'PMUL4776.json', 'MUL0160.json', 'PMUL2457.json', 'MUL2558.json', 'MUL2253.json', 'SNG0838.json', 'PMUL0357.json', 'PMUL3758.json', 'PMUL2517.json', 'WOZ20316.json', 'PMUL3427.json', 'SNG0025.json', 'MUL0187.json', 'PMUL2122.json', 'PMUL2663.json', 'MUL2406.json', 'PMUL0396.json', 'SNG01246.json', 'WOZ20620.json', 'PMUL4656.json', 'PMUL0555.json', 'PMUL4796.json', 'PMUL1083.json', 'PMUL4702.json', 'PMUL0065.json', 'PMUL4230.json', 'MUL1638.json', 'SNG0004.json', 'SNG0323.json', 'MUL0111.json', 'MUL0854.json', 'PMUL1679.json', 'PMUL1281.json', 'PMUL3322.json', 'PMUL3070.json', 'MUL1932.json', 'PMUL3780.json', 'PMUL3420.json', 'SNG01527.json', 'PMUL4970.json', 'PMUL3600.json', 'SNG01595.json', 'PMUL3435.json', 'PMUL3008.json', 'MUL2667.json', 'WOZ20203.json', 'PMUL2827.json', 'MUL0316.json', 'MUL0164.json', 'SNG0492.json', 'PMUL3454.json', 'SNG0696.json', 'MUL1826.json', 'SNG0382.json', 'PMUL2441.json', 'MUL2327.json', 'MUL0419.json', 'MUL0055.json', 'PMUL4570.json', 'PMUL4677.json', 'MUL0201.json', 'WOZ20407.json', 'PMUL4917.json', 'SNG0776.json', 'SNG01388.json', 'PMUL2816.json', 'PMUL2671.json', 'MUL2527.json', 'MUL0859.json', 'MUL2561.json', 'PMUL2170.json', 'MUL2142.json', 'SNG0029.json', 'MUL2394.json', 'MUL1691.json', 'MUL1086.json', 'SNG01578.json', 'MUL0095.json', 'MUL0155.json', 'PMUL4275.json', 'MUL1102.json', 'MUL0579.json', 'PMUL3223.json', 'PMUL4391.json', 'PMUL0884.json', 'PMUL4961.json', 'PMUL0147.json', 'WOZ20304.json', 'WOZ20244.json', 'PMUL0710.json', 'SNG1067.json', 'PMUL3426.json', 'PMUL3353.json', 'SSNG0017.json', 'SNG0125.json', 'PMUL0140.json', 'MUL2062.json', 'PMUL4587.json', 'MUL1559.json', 'PMUL4176.json', 'PMUL2599.json', 'SSNG0003.json', 'PMUL1282.json', 'SSNG0171.json', 'MUL0110.json', 'SNG02339.json', 'PMUL0515.json', 'SNG01523.json', 'SSNG0182.json', 'PMUL0823.json', 'MUL0620.json', 'MUL1865.json', 'PMUL2114.json', 'MUL1617.json', 'PMUL1726.json', 'SNG02314.json', 'MUL1767.json', 'MUL2069.json', 'MUL0736.json', 'PMUL4472.json', 'MUL2169.json', 'PMUL1634.json', 'WOZ20524.json', 'PMUL3382.json', 'SNG0473.json', 'PMUL3107.json', 'PMUL4971.json', 'MUL2433.json', 'PMUL3690.json', 'PMUL2974.json', 'PMUL3153.json', 'PMUL3952.json', 'PMUL4260.json', 'PMUL3897.json', 'PMUL2730.json', 'MUL1342.json', 'WOZ20117.json', 'MUL0605.json', 'PMUL0077.json', 'SSNG0378.json', 'PMUL4471.json', 'PMUL1600.json', 'WOZ20103.json', 'SNG1094.json', 'WOZ20071.json', 'SNG0603.json', 'MUL0820.json', 'SNG0434.json', 'SNG1056.json', 'MUL2441.json', 'PMUL1804.json', 'MUL2360.json', 'SNG0489.json', 'PMUL1849.json', 'WOZ20585.json', 'WOZ20078.json', 'PMUL3154.json', 'SNG0683.json', 'PMUL4689.json', 'MUL2528.json', 'MUL1443.json', 'PMUL4081.json', 'PMUL3237.json', 'PMUL4524.json', 'MUL2081.json', 'SNG0231.json', 'PMUL1558.json', 'PMUL2048.json', 'MUL0783.json', 'SNG01757.json', 'PMUL1212.json', 'SNG0236.json', 'PMUL1779.json', 'WOZ20411.json', 'WOZ20278.json', 'MUL0347.json', 'PMUL2117.json', 'MUL1866.json', 'MUL1629.json', 'SNG0147.json', 'MUL2683.json', 'MUL2370.json', 'SNG0309.json', 'PMUL0201.json', 'SSNG0141.json', 'PMUL3968.json', 'MUL1637.json', 'MUL0254.json', 'WOZ20045.json', 'MUL0848.json', 'SNG1350.json', 'SNG0327.json', 'SNG02092.json', 'PMUL2583.json', 'MUL0932.json', 'MUL0222.json', 'MUL1155.json', 'SSNG0072.json', 'SSNG0033.json', 'PMUL1056.json', 'MUL2403.json', 'SNG0467.json', 'MUL0477.json', 'MUL0610.json', 'PMUL4144.json', 'WOZ20418.json', 'PMUL3152.json', 'PMUL3007.json', 'MUL0408.json', 'PMUL2523.json', 'PMUL4810.json', 'MUL1758.json', 'SNG0979.json', 'PMUL0812.json', 'PMUL0531.json', 'PMUL0585.json', 'SNG0698.json', 'SNG01784.json', 'MUL0133.json', 'PMUL0915.json', 'WOZ20663.json', 'WOZ20041.json', 'SNG01997.json', 'PMUL2932.json', 'SNG02014.json', 'SNG0779.json', 'MUL1639.json', 'MUL1268.json', 'SSNG0167.json', 'PMUL3483.json', 'WOZ20504.json', 'SNG01177.json', 'SNG0576.json', 'WOZ20133.json', 'SNG01380.json', 'PMUL1541.json', 'MUL1937.json', 'PMUL4215.json', 'WOZ20476.json', 'PMUL2090.json', 'SNG01677.json', 'PMUL3892.json', 'PMUL4911.json', 'SNG1039.json', 'MUL1061.json', 'PMUL0165.json', 'PMUL2989.json', 'PMUL4800.json', 'MUL0172.json', 'MUL1887.json', 'PMUL2136.json', 'PMUL2444.json', 'WOZ20211.json', 'SNG0620.json', 'SNG0604.json', 'PMUL2797.json', 'MUL2565.json', 'MUL1736.json', 'MUL0962.json', 'WOZ20651.json', 'PMUL1026.json', 'MUL0289.json', 'PMUL0451.json', 'PMUL2606.json', 'PMUL0918.json', 'SNG01790.json', 'MUL0550.json', 'PMUL3828.json', 'SNG0064.json', 'WOZ20067.json', 'MUL1544.json', 'PMUL4342.json', 'MUL0975.json', 'PMUL1269.json', 'MUL0327.json', 'SSNG0074.json', 'MUL1951.json', 'SNG0371.json', 'SNG01614.json', 'MUL0276.json', 'MUL1442.json', 'SNG0220.json', 'MUL0401.json', 'PMUL3990.json', 'PMUL0300.json', 'PMUL3629.json', 'MUL2026.json', 'SNG0372.json', 'SNG01699.json', 'SNG0111.json', 'MUL1852.json', 'PMUL2101.json', 'PMUL3961.json', 'PMUL4629.json', 'PMUL2368.json', 'SSNG0138.json', 'PMUL4724.json', 'MUL2436.json', 'MUL0928.json', 'MUL0236.json', 'MUL2452.json', 'PMUL3421.json', 'SNG0367.json', 'SNG02038.json', 'PMUL1227.json', 'SNG0495.json', 'PMUL2434.json', 'PMUL3133.json', 'SNG0985.json', 'MUL1859.json', 'PMUL3664.json', 'SNG0176.json', 'PMUL3308.json', 'WOZ20174.json', 'WOZ20110.json', 'SNG02110.json', 'SSNG0246.json', 'SNG0806.json', 'PMUL0196.json', 'PMUL4265.json', 'PMUL3796.json', 'SNG0239.json', 'MUL1030.json', 'MUL1678.json', 'PMUL1035.json', 'SSNG0190.json', 'MUL2572.json', 'PMUL1960.json', 'PMUL3848.json', 'SNG01966.json', 'SNG0097.json', 'MUL2145.json', 'MUL2077.json', 'PMUL3908.json', 'PMUL0907.json', 'SSNG0011.json', 'MUL2035.json', 'SNG1273.json', 'PMUL4635.json', 'SNG02036.json', 'MUL1643.json', 'PMUL1567.json', 'SSNG0185.json', 'SNG01644.json', 'PMUL2416.json', 'PMUL0492.json', 'MUL1872.json', 'WOZ20346.json', 'SNG01926.json', 'SNG01454.json', 'SNG1357.json', 'MUL1257.json', 'SNG0128.json', 'SNG1394.json', 'SNG0028.json', 'PMUL2166.json', 'SNG0904.json', 'SNG01290.json', 'PMUL1329.json', 'SNG0831.json', 'MUL2646.json', 'WOZ20090.json', 'SNG02244.json', 'SNG0057.json', 'SNG0221.json', 'MUL0211.json', 'PMUL0460.json', 'PMUL0885.json', 'PMUL2954.json', 'MUL0714.json', 'PMUL0458.json', 'PMUL1884.json', 'MUL2672.json', 'MUL1501.json', 'WOZ20111.json', 'PMUL0013.json', 'PMUL0002.json', 'SNG01460.json', 'PMUL2741.json', 'PMUL3393.json', 'SNG0610.json', 'SSNG0018.json', 'PMUL4993.json', 'PMUL2642.json', 'PMUL3989.json', 'SNG02215.json', 'PMUL4633.json', 'SNG01518.json', 'PMUL3459.json', 'PMUL0428.json', 'PMUL3041.json', 'PMUL4169.json', 'PMUL2412.json', 'MUL0537.json', 'PMUL2001.json', 'MUL0131.json', 'SSNG0396.json', 'PMUL1266.json', 'PMUL0293.json', 'PMUL1331.json', 'PMUL4641.json', 'PMUL4294.json', 'PMUL4995.json', 'PMUL4693.json', 'PMUL2923.json', 'PMUL4210.json', 'SSNG0064.json', 'PMUL3053.json', 'PMUL3155.json', 'MUL1302.json', 'PMUL1822.json', 'MUL2346.json', 'SNG01824.json', 'PMUL3135.json', 'SNG0665.json', 'SSNG0236.json', 'WOZ20118.json', 'PMUL2928.json', 'SSNG0371.json', 'MUL0631.json', 'PMUL4835.json', 'PMUL0524.json', 'SSNG0084.json', 'PMUL3749.json', 'PMUL0569.json', 'MUL0908.json', 'PMUL3251.json', 'SNG02323.json', 'PMUL1987.json', 'PMUL2294.json', 'MUL0213.json', 'WOZ20181.json', 'MUL0206.json', 'SNG1007.json', 'MUL1905.json', 'MUL2240.json', 'SSNG0281.json', 'SNG01764.json', 'PMUL1359.json', 'SNG0127.json', 'MUL0362.json', 'PMUL4914.json', 'MUL1777.json', 'WOZ20190.json', 'SSNG0298.json', 'SNG0418.json', 'PMUL4812.json', 'PMUL4561.json', 'PMUL2287.json', 'PMUL2532.json', 'PMUL0775.json', 'SNG0885.json', 'PMUL0030.json', 'MUL2404.json', 'MUL2459.json', 'SNG0687.json', 'MUL2442.json', 'WOZ20271.json', 'PMUL3938.json', 'PMUL4679.json', 'MUL2291.json', 'WOZ20184.json', 'SNG01237.json', 'PMUL0960.json', 'MUL1222.json', 'MUL1627.json', 'PMUL3300.json', 'SNG01263.json', 'MUL2111.json', 'PMUL3338.json', 'PMUL4187.json', 'MUL1648.json', 'PMUL3615.json', 'PMUL1700.json', 'MUL1764.json', 'WOZ20381.json', 'PMUL3410.json', 'SSNG0112.json', 'PMUL1303.json', 'PMUL4272.json', 'PMUL3689.json', 'PMUL4098.json', 'SNG01652.json', 'SSNG0160.json', 'PMUL1413.json', 'SNG1146.json', 'SNG02250.json', 'PMUL0410.json', 'MUL1787.json', 'PMUL0091.json', 'PMUL2593.json', 'MUL1498.json', 'SNG01808.json', 'PMUL4964.json', 'SNG0627.json', 'PMUL4163.json', 'MUL0673.json', 'MUL0433.json', 'PMUL4567.json', 'PMUL0613.json', 'MUL0018.json', 'PMUL1232.json', 'MUL2172.json', 'PMUL1609.json', 'SNG01327.json', 'SNG0765.json', 'PMUL4834.json', 'PMUL4602.json', 'SNG01298.json', 'PMUL2863.json', 'SSNG0013.json', 'PMUL3894.json', 'SNG0343.json', 'MUL1666.json', 'PMUL3992.json', 'MUL1463.json', 'PMUL0822.json', 'PMUL4571.json', 'WOZ20060.json', 'MUL1847.json', 'PMUL4617.json', 'MUL0209.json', 'MUL1292.json', 'MUL2263.json', 'MUL1773.json', 'WOZ20433.json', 'WOZ20540.json', 'PMUL4827.json', 'PMUL4403.json', 'PMUL1253.json', 'PMUL1279.json', 'PMUL2670.json', 'SNG01806.json', 'SNG0666.json', 'MUL0219.json', 'PMUL0481.json', 'PMUL3366.json', 'MUL0386.json', 'PMUL0097.json', 'MUL1564.json', 'PMUL4364.json', 'SNG02180.json', 'PMUL3372.json', 'MUL1399.json', 'MUL0844.json', 'SNG0490.json', 'WOZ20464.json', 'SNG0875.json', 'SNG0834.json', 'SNG0410.json', 'PMUL1205.json', 'PMUL4965.json', 'WOZ20113.json', 'SNG1229.json', 'PMUL2386.json', 'SNG0724.json', 'PMUL4423.json', 'WOZ20529.json', 'PMUL4519.json', 'PMUL4398.json', 'SNG0661.json', 'SNG01262.json', 'SNG01517.json', 'PMUL0339.json', 'PMUL0592.json', 'MUL1435.json', 'PMUL1384.json', 'PMUL2559.json', 'WOZ20537.json', 'PMUL0081.json', 'MUL1945.json', 'MUL0870.json', 'MUL2235.json', 'PMUL1911.json', 'SNG0226.json', 'SNG1015.json', 'SNG0139.json', 'PMUL4461.json', 'MUL0621.json', 'PMUL0012.json', 'WOZ20215.json', 'MUL1355.json', 'PMUL2361.json', 'MUL0177.json', 'PMUL4792.json', 'PMUL1197.json', 'MUL1277.json', 'SNG0305.json', 'PMUL4864.json', 'MUL1616.json', 'SNG0813.json', 'SNG02042.json', 'PMUL4942.json', 'PMUL1540.json', 'PMUL2861.json', 'PMUL1831.json', 'MUL2355.json', 'SNG1162.json', 'WOZ20493.json', 'SNG0594.json', 'MUL0153.json', 'SNG01264.json', 'PMUL3297.json', 'PMUL3164.json', 'SNG01190.json', 'PMUL2400.json', 'SSNG0337.json', 'PMUL0314.json', 'WOZ20427.json', 'MUL0068.json', 'PMUL0683.json', 'PMUL0818.json', 'SNG0718.json', 'MUL1789.json', 'PMUL2751.json', 'MUL1596.json', 'WOZ20544.json', 'MUL0094.json', 'PMUL3847.json', 'MUL2237.json', 'PMUL4433.json', 'PMUL3560.json', 'SNG0794.json', 'PMUL3784.json', 'SNG01492.json', 'MUL2095.json', 'PMUL4556.json', 'SNG0333.json', 'SNG1254.json', 'MUL1753.json', 'SSNG0156.json', 'SNG0140.json', 'PMUL3997.json', 'SNG0877.json', 'PMUL4814.json', 'MUL1142.json', 'PMUL1789.json', 'MUL1264.json', 'SNG0191.json', 'PMUL3921.json', 'PMUL2073.json', 'PMUL4151.json', 'PMUL1778.json', 'PMUL2914.json', 'PMUL3052.json', 'SNG01669.json', 'MUL2446.json', 'MUL1475.json', 'PMUL2123.json', 'SNG0428.json', 'PMUL1105.json', 'MUL0964.json', 'PMUL1148.json', 'SNG0483.json', 'PMUL2598.json', 'PMUL0815.json', 'WOZ20336.json', 'SNG01640.json', 'PMUL1321.json', 'SSNG0131.json', 'PMUL3026.json', 'SSNG0115.json', 'SNG0234.json', 'PMUL1486.json', 'SNG01711.json', 'SNG0989.json', 'PMUL2174.json', 'WOZ20565.json', 'PMUL2326.json', 'PMUL4182.json', 'MUL0272.json', 'WOZ20056.json', 'SNG1073.json', 'WOZ20634.json', 'SNG0697.json', 'SNG0357.json', 'PMUL4017.json', 'SNG0001.json', 'PMUL3773.json', 'PMUL2219.json', 'PMUL1550.json', 'MUL1485.json', 'PMUL2026.json', 'PMUL2207.json', 'PMUL2874.json', 'SNG01690.json', 'PMUL4607.json', 'PMUL4384.json', 'PMUL4623.json', 'SNG02099.json', 'PMUL3468.json', 'PMUL1829.json', 'SNG0244.json', 'WOZ20207.json', 'PMUL3950.json', 'PMUL3705.json', 'PMUL0288.json', 'PMUL4411.json', 'PMUL0859.json', 'PMUL2125.json', 'PMUL3512.json', 'SNG0503.json', 'SSNG0108.json', 'WOZ20015.json', 'SNG02015.json', 'SSNG0369.json', 'WOZ20444.json', 'PMUL4500.json', 'SSNG0163.json', 'SSNG0301.json', 'PMUL1053.json', 'SSNG0304.json', 'SNG1241.json', 'PMUL2867.json', 'PMUL2183.json', 'SSNG0035.json', 'SNG0420.json', 'PMUL0378.json', 'MUL2437.json', 'PMUL4725.json', 'MUL1488.json', 'MUL2390.json', 'PMUL3722.json', 'PMUL1996.json', 'PMUL3328.json', 'SNG0801.json', 'SNG0444.json', 'PMUL2137.json', 'MUL1886.json', 'PMUL4464.json', 'SSNG0114.json', 'MUL0599.json', 'SNG0507.json', 'MUL0248.json', 'SNG0090.json', 'PMUL4671.json', 'MUL1293.json', 'MUL2566.json', 'PMUL1138.json', 'SNG01727.json', 'PMUL3918.json', 'SNG0514.json', 'PMUL3972.json', 'MUL1183.json', 'WOZ20269.json', 'SNG01292.json', 'SSNG0195.json', 'MUL1761.json', 'WOZ20201.json', 'PMUL0726.json', 'SNG0199.json', 'PMUL3951.json', 'PMUL1556.json', 'MUL0512.json', 'MUL2523.json', 'SNG02121.json', 'SNG0098.json', 'MUL0880.json', 'MUL2328.json', 'MUL0558.json', 'PMUL2851.json', 'PMUL4483.json', 'MUL2531.json', 'MUL2618.json', 'PMUL3711.json', 'WOZ20014.json', 'PMUL0354.json', 'MUL1132.json', 'PMUL2896.json', 'PMUL4123.json', 'SNG01543.json', 'SNG01265.json', 'PMUL1452.json', 'PMUL0813.json', 'PMUL3085.json', 'MUL0042.json', 'PMUL4896.json', 'PMUL2527.json', 'MUL0142.json', 'SNG02152.json', 'SNG01981.json', 'SNG01663.json', 'PMUL0976.json', 'SNG0132.json', 'SNG01341.json', 'PMUL0705.json', 'PMUL3122.json', 'SSNG0002.json', 'SNG01872.json', 'PMUL4148.json', 'PMUL3976.json', 'WOZ20496.json', 'PMUL2724.json', 'MUL1585.json', 'SSNG0333.json', 'PMUL3862.json', 'PMUL3258.json', 'PMUL4172.json', 'MUL0568.json', 'PMUL1337.json', 'PMUL4890.json', 'PMUL0249.json', 'PMUL4950.json', 'PMUL2800.json', 'PMUL2786.json', 'PMUL4553.json', 'MUL2090.json', 'MUL0871.json', 'PMUL0838.json', 'SNG0510.json', 'SNG1140.json', 'MUL1571.json', 'PMUL1901.json', 'PMUL1047.json', 'SNG01907.json', 'MUL2484.json', 'MUL0357.json', 'SNG0833.json', 'PMUL2092.json', 'PMUL4756.json', 'SNG1111.json', 'MUL0176.json', 'MUL2300.json', 'PMUL0443.json', 'PMUL3159.json', 'SNG0315.json', 'PMUL3354.json', 'PMUL3907.json', 'MUL2078.json', 'PMUL4782.json', 'WOZ20102.json', 'PMUL0570.json', 'MUL0882.json', 'SNG0468.json', 'PMUL2154.json', 'PMUL1747.json', 'PMUL1983.json', 'MUL0902.json', 'MUL1700.json', 'PMUL3262.json', 'MUL1115.json', 'PMUL1752.json', 'MUL1807.json', 'PMUL1843.json', 'MUL0241.json', 'MUL1759.json', 'PMUL3394.json', 'PMUL2955.json', 'PMUL1720.json', 'WOZ20649.json', 'PMUL1472.json', 'PMUL0759.json', 'PMUL1306.json', 'PMUL1256.json', 'PMUL4728.json', 'SNG01928.json', 'PMUL3816.json', 'MUL1424.json', 'SNG0626.json', 'PMUL4157.json', 'PMUL0373.json', 'PMUL4488.json', 'MUL0403.json', 'MUL0382.json', 'SNG01783.json', 'PMUL4266.json', 'PMUL3678.json', 'PMUL0733.json', 'SNG0657.json', 'SNG01629.json', 'PMUL0887.json', 'MUL0921.json', 'MUL1345.json', 'PMUL4400.json', 'MUL0527.json', 'PMUL3776.json', 'PMUL3425.json', 'PMUL2311.json', 'PMUL1218.json', 'WOZ20547.json', 'SNG01676.json', 'PMUL3710.json', 'SNG01782.json', 'PMUL4349.json', 'MUL1233.json', 'SNG0152.json', 'SNG0022.json', 'MUL0328.json', 'PMUL1570.json', 'MUL0755.json', 'SNG01671.json', 'PMUL4357.json', 'MUL0228.json', 'WOZ20441.json', 'SNG01939.json', 'MUL0677.json', 'PMUL2496.json', 'PMUL1222.json', 'PMUL4497.json', 'MUL0715.json', 'PMUL0895.json', 'SNG01927.json', 'SNG01672.json', 'WOZ20002.json', 'MUL2371.json', 'SNG0282.json', 'WOZ20461.json', 'SSNG0020.json', 'PMUL0707.json', 'PMUL0150.json', 'PMUL3548.json', 'SNG1052.json', 'SNG1122.json', 'PMUL4578.json', 'SNG01825.json', 'SNG01418.json', 'MUL0066.json', 'MUL1117.json', 'PMUL4669.json', 'PMUL2186.json', 'SNG0568.json', 'MUL0402.json', 'SSNG0116.json', 'MUL0049.json', 'SNG0143.json', 'MUL2377.json', 'MUL1016.json', 'PMUL2088.json', 'PMUL3996.json', 'PMUL2625.json', 'MUL1578.json', 'SNG0966.json', 'SNG1372.json', 'MUL1425.json', 'MUL1430.json', 'PMUL4130.json', 'MUL2231.json', 'PMUL3724.json', 'PMUL1163.json', 'PMUL0429.json', 'PMUL2533.json', 'PMUL4406.json', 'SNG01929.json', 'MUL0888.json', 'SNG0417.json', 'PMUL0764.json', 'PMUL3403.json', 'SNG0933.json', 'SNG0709.json', 'WOZ20120.json', 'MUL0917.json', 'PMUL3385.json', 'PMUL4825.json', 'PMUL4247.json', 'PMUL0088.json', 'PMUL0031.json', 'MUL1056.json', 'MUL2220.json', 'PMUL4424.json', 'MUL0429.json', 'MUL0517.json', 'PMUL1875.json', 'PMUL3378.json', 'PMUL1366.json', 'SNG1320.json', 'WOZ20204.json', 'WOZ20016.json', 'PMUL2987.json', 'MUL0027.json', 'PMUL1369.json', 'PMUL2602.json', 'MUL2118.json', 'PMUL1667.json', 'SNG01387.json', 'PMUL4107.json', 'SNG01254.json', 'PMUL0762.json', 'SNG0530.json', 'SNG0920.json', 'WOZ20463.json', 'SNG01293.json', 'MUL2316.json', 'PMUL2759.json', 'PMUL1994.json', 'MUL0974.json', 'PMUL0808.json', 'MUL2464.json', 'PMUL4772.json', 'PMUL4870.json', 'MUL1738.json', 'PMUL0119.json', 'MUL0724.json', 'PMUL3463.json', 'SNG0739.json', 'PMUL3701.json', 'PMUL0355.json', 'SNG0982.json', 'PMUL4541.json', 'MUL1092.json', 'MUL1645.json', 'PMUL1402.json', 'PMUL4697.json', 'MUL1332.json', 'MUL1409.json', 'SSNG0092.json', 'PMUL4190.json', 'MUL1281.json', 'PMUL4821.json', 'PMUL3151.json', 'SNG0475.json', 'PMUL1240.json', 'MUL1933.json', 'PMUL1974.json', 'MUL2234.json', 'SNG0482.json', 'SNG0491.json', 'PMUL0724.json', 'PMUL3374.json', 'SNG01913.json', 'WOZ20656.json', 'WOZ20124.json', 'SNG0930.json', 'PMUL3964.json', 'PMUL2617.json', 'PMUL1522.json', 'SNG1014.json', 'MUL1031.json', 'PMUL2151.json', 'SNG01542.json', 'PMUL3491.json', 'MUL2352.json', 'MUL0035.json', 'MUL1910.json', 'SNG0871.json', 'PMUL3924.json', 'PMUL1529.json', 'MUL0700.json', 'MUL0218.json', 'PMUL1429.json', 'WOZ20443.json', 'PMUL1771.json', 'PMUL0944.json', 'PMUL1755.json', 'PMUL3891.json', 'PMUL1278.json', 'MUL1848.json', 'SSNG0375.json', 'MUL2144.json', 'PMUL3980.json', 'PMUL2656.json', 'SNG01847.json', 'SSNG0291.json', 'SNG01906.json', 'MUL1248.json', 'SNG01510.json', 'SNG0296.json', 'SNG0099.json', 'WOZ20570.json', 'PMUL3783.json', 'PMUL4119.json', 'PMUL1385.json', 'PMUL3460.json', 'MUL0522.json', 'SNG0120.json', 'MUL1530.json', 'PMUL2000.json', 'PMUL3538.json', 'PMUL1620.json', 'MUL2157.json', 'SNG1280.json', 'SNG01178.json', 'PMUL3887.json', 'WOZ20491.json', 'SNG01723.json', 'SNG01953.json', 'PMUL2486.json', 'MUL2538.json', 'PMUL3177.json', 'PMUL3987.json', 'PMUL4508.json', 'PMUL3141.json', 'PMUL4089.json', 'SNG02259.json', 'WOZ20275.json', 'PMUL4427.json', 'PMUL0383.json', 'PMUL0158.json', 'MUL2223.json', 'SNG0939.json', 'WOZ20391.json', 'MUL2605.json', 'SNG0091.json', 'SSNG0360.json', 'MUL0900.json', 'SNG01453.json', 'SNG01830.json', 'PMUL0181.json', 'SNG01749.json', 'PMUL2173.json', 'WOZ20587.json', 'SNG1327.json', 'MUL0299.json', 'MUL1196.json', 'SSNG0336.json', 'SNG01759.json', 'PMUL1691.json', 'MUL2104.json', 'SNG01488.json', 'PMUL1754.json', 'PMUL1630.json', 'MUL1398.json', 'SNG0719.json', 'PMUL3129.json', 'PMUL2740.json', 'SNG02295.json', 'SNG0151.json', 'MUL0950.json', 'PMUL2006.json', 'PMUL3655.json', 'MUL0468.json', 'SNG01609.json', 'WOZ20440.json', 'MUL2276.json', 'PMUL1156.json', 'PMUL0721.json', 'PMUL4436.json', 'WOZ20260.json', 'SSNG0178.json', 'MUL2232.json', 'SNG1245.json', 'PMUL3046.json', 'PMUL4606.json', 'PMUL4248.json', 'PMUL2746.json', 'MUL2295.json', 'PMUL3445.json', 'SNG01781.json', 'PMUL2072.json', 'MUL2684.json', 'PMUL3624.json', 'PMUL3339.json', 'SNG1311.json', 'SNG0945.json', 'PMUL3771.json', 'MUL1396.json', 'PMUL4717.json', 'MUL2445.json', 'MUL2304.json', 'PMUL4289.json', 'PMUL2640.json', 'WOZ20081.json', 'MUL2255.json', 'PMUL0800.json', 'PMUL3362.json', 'SNG0567.json', 'PMUL0183.json', 'SNG0222.json', 'SNG0623.json', 'PMUL0605.json', 'MUL0424.json', 'PMUL1123.json', 'PMUL1357.json', 'MUL0417.json', 'MUL2400.json', 'SNG02002.json', 'SNG02324.json', 'SNG0397.json', 'SNG0169.json', 'MUL0109.json', 'MUL0367.json', 'PMUL2240.json', 'PMUL0692.json', 'PMUL2767.json', 'PMUL1909.json', 'MUL1240.json', 'MUL1619.json', 'PMUL2627.json', 'MUL1058.json', 'PMUL0259.json', 'MUL1675.json', 'SNG02203.json', 'PMUL4545.json', 'PMUL2862.json', 'PMUL2587.json', 'MUL0594.json', 'PMUL3555.json', 'SNG02098.json', 'PMUL2181.json', 'SNG0936.json', 'PMUL0225.json', 'SNG0952.json', 'MUL0788.json', 'SNG0674.json', 'PMUL3803.json', 'MUL0633.json', 'SNG1027.json', 'SNG01269.json', 'SNG0856.json', 'PMUL3207.json', 'SNG0692.json', 'PMUL0622.json', 'MUL1351.json', 'PMUL2365.json', 'SSNG0161.json', 'SNG01937.json', 'WOZ20588.json', 'SSNG0315.json', 'SNG0599.json', 'PMUL4793.json', 'PMUL1782.json', 'MUL0967.json', 'MUL0905.json', 'SNG01958.json', 'PMUL0016.json', 'PMUL0251.json', 'MUL0789.json', 'SNG01372.json', 'MUL2603.json', 'PMUL1566.json', 'SNG01602.json', 'SNG0613.json', 'PMUL4156.json', 'MUL2638.json', 'SNG0472.json', 'PMUL3329.json', 'SNG0081.json', 'SNG0109.json', 'SNG0922.json', 'SNG0733.json', 'MUL0587.json', 'PMUL4704.json', 'MUL2335.json', 'SNG01710.json', 'MUL0510.json', 'SNG0937.json', 'MUL0388.json', 'SNG0277.json', 'PMUL3539.json', 'MUL2591.json', 'PMUL2864.json', 'SSNG0242.json', 'PMUL0788.json', 'SNG0210.json', 'WOZ20061.json', 'PMUL0435.json', 'PMUL2641.json', 'MUL1986.json', 'PMUL2051.json', 'SNG1262.json', 'PMUL3433.json', 'PMUL4786.json', 'MUL1480.json', 'SNG01976.json', 'PMUL2370.json', 'PMUL3341.json', 'PMUL4057.json', 'MUL2091.json', 'PMUL4552.json', 'SNG01820.json', 'MUL1656.json', 'SNG01197.json', 'SNG0384.json', 'SNG1088.json', 'PMUL2850.json', 'PMUL1405.json', 'PMUL1537.json', 'PMUL0386.json', 'MUL1438.json', 'SNG0477.json', 'PMUL2482.json', 'MUL2354.json', 'PMUL1830.json', 'MUL0711.json', 'PMUL3913.json', 'PMUL2562.json', 'PMUL0236.json', 'SNG0138.json', 'MUL0270.json', 'PMUL0189.json', 'MUL0913.json', 'SNG01466.json', 'PMUL3841.json', 'PMUL3084.json', 'SNG1388.json', 'PMUL0676.json', 'SNG0954.json', 'PMUL2799.json', 'SNG01911.json', 'WOZ20342.json', 'SNG1288.json', 'SSNG0245.json', 'MUL0632.json', 'MUL0440.json', 'SSNG0365.json', 'PMUL2214.json', 'MUL1080.json', 'PMUL3702.json', 'PMUL1756.json', 'SNG01733.json', 'PMUL0474.json', 'MUL1153.json', 'PMUL4317.json', 'MUL0843.json', 'SNG0886.json', 'SNG0754.json', 'MUL0979.json', 'PMUL4397.json', 'SNG01734.json', 'PMUL4100.json', 'MUL2549.json', 'WOZ20629.json', 'PMUL4252.json', 'MUL0731.json', 'MUL0969.json', 'SNG1062.json', 'PMUL0988.json', 'SNG02072.json', 'WOZ20008.json', 'PMUL1345.json', 'PMUL4237.json', 'SSNG0069.json', 'MUL1229.json', 'MUL0256.json', 'PMUL3055.json', 'PMUL4430.json', 'MUL2542.json', 'SNG0350.json', 'SNG01261.json', 'MUL2600.json', 'MUL0238.json', 'MUL0252.json', 'PMUL2637.json', 'PMUL3293.json', 'SNG01678.json', 'PMUL4608.json', 'MUL1654.json', 'PMUL4848.json', 'WOZ20265.json', 'PMUL3247.json', 'MUL1871.json', 'MUL0271.json', 'SNG0021.json', 'PMUL3054.json', 'MUL2666.json', 'PMUL1894.json', 'SNG01426.json', 'PMUL1450.json', 'PMUL1349.json', 'PMUL4287.json', 'PMUL1916.json', 'MUL2544.json', 'PMUL2500.json', 'PMUL1223.json', 'PMUL1842.json', 'MUL1506.json', 'WOZ20635.json', 'SNG0122.json', 'PMUL3986.json', 'PMUL0448.json', 'PMUL1606.json', 'SNG01173.json', 'PMUL0704.json', 'PMUL3817.json', 'MUL2685.json', 'MUL0101.json', 'SSNG0085.json', 'PMUL0876.json', 'MUL2579.json', 'PMUL0647.json', 'SSNG0094.json', 'PMUL3240.json', 'MUL2015.json', 'WOZ20047.json', 'PMUL4790.json', 'PMUL4439.json', 'PMUL3255.json', 'SNG0486.json', 'MUL1260.json', 'PMUL3163.json', 'PMUL3843.json', 'SNG0756.json', 'SNG1389.json', 'PMUL2305.json', 'MUL0412.json', 'PMUL4498.json', 'PMUL3234.json', 'SNG02312.json', 'MUL2578.json', 'MUL0302.json', 'PMUL2621.json', 'PMUL3901.json', 'PMUL3066.json', 'PMUL3015.json', 'SNG01832.json', 'MUL2274.json', 'SNG0859.json', 'SNG0161.json', 'PMUL0641.json', 'SNG02055.json', 'PMUL2510.json', 'MUL0191.json', 'MUL1326.json', 'PMUL1997.json', 'MUL2213.json', 'PMUL1937.json', 'SSNG0310.json', 'PMUL1185.json', 'PMUL1052.json', 'PMUL4637.json', 'SNG1266.json', 'PMUL1142.json', 'MUL0607.json', 'PMUL3584.json', 'PMUL0258.json', 'SNG0155.json', 'WOZ20194.json', 'SNG1174.json', 'PMUL4954.json', 'SNG01526.json', 'MUL1563.json', 'MUL1226.json', 'SNG01673.json', 'MUL0227.json', 'PMUL4095.json', 'MUL1410.json', 'WOZ20169.json', 'PMUL3358.json', 'SSNG0086.json', 'PMUL1323.json', 'PMUL0727.json', 'SNG0924.json', 'PMUL0026.json', 'PMUL0607.json', 'PMUL3246.json', 'SNG1242.json', 'MUL0163.json', 'PMUL0720.json', 'PMUL4197.json', 'PMUL1175.json', 'MUL1739.json', 'PMUL4871.json', 'PMUL2739.json', 'SNG01170.json', 'MUL0770.json', 'MUL1983.json', 'PMUL4136.json', 'PMUL0356.json', 'MUL0376.json', 'WOZ20170.json', 'MUL1077.json', 'MUL0920.json', 'MUL2421.json', 'SNG01181.json', 'PMUL1981.json', 'MUL0039.json', 'SNG01247.json', 'MUL0044.json', 'MUL0889.json', 'PMUL2692.json', 'PMUL0561.json', 'PMUL1054.json', 'PMUL1432.json', 'SNG01271.json', 'PMUL3994.json', 'PMUL2418.json', 'SSNG0183.json', 'SNG0874.json', 'PMUL4791.json', 'SNG02057.json', 'MUL2653.json', 'PMUL1861.json', 'PMUL2375.json', 'MUL1349.json', 'MUL1459.json', 'PMUL4080.json', 'PMUL2150.json', 'PMUL1178.json', 'SSNG0070.json', 'SNG02156.json', 'PMUL0869.json', 'SNG0476.json', 'SSNG0372.json', 'PMUL1107.json', 'MUL0744.json', 'PMUL3644.json', 'SNG0645.json', 'PMUL1060.json', 'PMUL3587.json', 'MUL0445.json', 'SNG0616.json', 'SNG02257.json', 'MUL1584.json', 'WOZ20561.json', 'PMUL4591.json', 'MUL2052.json', 'SNG1000.json', 'PMUL3327.json', 'SNG0141.json', 'SNG01219.json', 'MUL0050.json', 'PMUL4973.json', 'MUL0876.json', 'SNG1003.json', 'MUL0752.json', 'PMUL2840.json', 'MUL2309.json', 'SSNG0029.json', 'PMUL0981.json', 'PMUL1980.json', 'MUL2271.json', 'MUL0903.json', 'PMUL4056.json', 'MUL0877.json', 'PMUL1738.json', 'SNG0288.json', 'SNG0108.json', 'PMUL1249.json', 'MUL0523.json', 'PMUL0963.json', 'MUL0904.json', 'SNG01155.json', 'SNG0578.json', 'MUL0808.json', 'PMUL1115.json', 'WOZ20173.json', 'MUL1049.json', 'MUL2023.json', 'SNG01842.json', 'PMUL0847.json', 'PMUL4563.json', 'PMUL2898.json', 'MUL1339.json', 'WOZ20633.json', 'PMUL2565.json', 'MUL0034.json', 'WOZ20163.json', 'PMUL3039.json', 'SNG1339.json', 'MUL1582.json', 'PMUL2723.json', 'SNG0680.json', 'SSNG0264.json', 'MUL1911.json', 'PMUL1645.json', 'PMUL3747.json', 'WOZ20602.json', 'MUL2663.json', 'PMUL0228.json', 'PMUL3660.json', 'SNG0273.json', 'PMUL1615.json', 'MUL2180.json', 'MUL0742.json', 'SNG0837.json', 'MUL0836.json', 'PMUL3125.json', 'SNG0249.json', 'PMUL3097.json', 'SNG0848.json', 'SNG1158.json', 'PMUL2783.json', 'MUL0735.json', 'PMUL2994.json', 'SNG01464.json', 'SNG01694.json', 'SNG0825.json', 'WOZ20571.json', 'PMUL3083.json', 'SNG0274.json', 'MUL0753.json', 'PMUL0500.json', 'SSNG0034.json', 'WOZ20403.json', 'MUL1730.json', 'SNG02274.json', 'SSNG0362.json', 'MUL1507.json', 'PMUL4612.json', 'MUL2595.json', 'MUL2009.json', 'PMUL0717.json', 'WOZ20364.json', 'SNG01317.json', 'PMUL3407.json', 'PMUL1721.json', 'PMUL0120.json', 'PMUL1451.json', 'PMUL1090.json', 'SNG02308.json', 'PMUL4986.json', 'MUL0653.json', 'MUL1797.json', 'WOZ20398.json', 'MUL2449.json', 'MUL2308.json', 'MUL0712.json', 'WOZ20551.json', 'SNG1270.json', 'PMUL3365.json', 'PMUL3591.json', 'PMUL3057.json', 'PMUL2624.json', 'PMUL2680.json', 'PMUL2502.json', 'SNG0068.json', 'SSNG0374.json', 'PMUL4514.json', 'PMUL1286.json', 'SNG1220.json', 'WOZ20262.json', 'PMUL4069.json', 'MUL0976.json', 'MUL1991.json', 'PMUL2060.json', 'PMUL3960.json', 'MUL0174.json', 'MUL1724.json', 'PMUL3478.json', 'PMUL3320.json', 'MUL1096.json', 'MUL0016.json', 'MUL2693.json', 'PMUL3850.json', 'MUL0707.json', 'SNG0040.json', 'SNG0841.json', 'SNG0354.json', 'SNG0318.json', 'SNG01478.json', 'PMUL3379.json', 'PMUL3489.json', 'SNG0113.json', 'PMUL1139.json', 'PMUL0229.json', 'MUL0490.json', 'PMUL2362.json', 'MUL1356.json', 'PMUL4745.json', 'PMUL1969.json', 'PMUL3444.json', 'PMUL1864.json', 'MUL2656.json', 'PMUL1277.json', 'SNG0353.json', 'MUL0193.json', 'MUL0056.json', 'MUL2632.json', 'PMUL3241.json', 'MUL0308.json', 'MUL1669.json', 'MUL2176.json', 'SNG1033.json', 'MUL2586.json', 'SNG02258.json', 'MUL0415.json', 'SNG1119.json', 'MUL0453.json', 'MUL0919.json', 'MUL2494.json', 'PMUL2257.json', 'SNG1300.json', 'PMUL2859.json', 'PMUL4948.json', 'PMUL0264.json', 'PMUL2524.json', 'SNG01867.json', 'PMUL2712.json', 'PMUL4085.json', 'SNG0088.json', 'SSNG0082.json', 'SNG0059.json', 'MUL1018.json', 'MUL2384.json', 'SNG1281.json', 'PMUL2235.json', 'MUL0954.json', 'MUL0143.json', 'PMUL0316.json', 'PMUL2241.json', 'PMUL0501.json', 'SSNG0284.json', 'SNG0537.json', 'SNG01795.json', 'PMUL4383.json', 'PMUL4392.json', 'PMUL4926.json', 'PMUL4455.json', 'MUL1862.json', 'SNG0899.json', 'PMUL4141.json', 'SNG0087.json', 'SNG02256.json', 'PMUL4546.json', 'MUL1023.json', 'SNG0328.json', 'SNG01545.json', 'PMUL3922.json', 'PMUL0459.json', 'PMUL1255.json', 'PMUL0139.json', 'PMUL2676.json', 'PMUL0742.json', 'PMUL1698.json', 'PMUL4031.json', 'PMUL3173.json', 'MUL0175.json', 'SNG0688.json', 'SNG0156.json', 'WOZ20182.json', 'PMUL4015.json', 'PMUL2655.json', 'SNG1152.json', 'SNG01519.json', 'PMUL2229.json', 'PMUL0387.json', 'SNG0041.json', 'MUL0071.json', 'MUL0650.json', 'PMUL1668.json', 'MUL2117.json', 'SNG0641.json', 'MUL2678.json', 'PMUL3613.json', 'PMUL4402.json', 'PMUL4511.json', 'MUL0662.json', 'MUL0130.json', 'MUL2175.json', 'WOZ20607.json', 'WOZ20384.json', 'MUL1813.json', 'SNG1076.json', 'PMUL3725.json', 'WOZ20623.json', 'PMUL2121.json', 'SNG01728.json', 'MUL2254.json', 'PMUL2372.json', 'SNG1221.json', 'PMUL4024.json', 'PMUL4773.json', 'MUL2465.json', 'SNG01350.json', 'SNG01955.json', 'PMUL1973.json', 'PMUL0509.json', 'PMUL3090.json', 'PMUL3239.json', 'SNG01253.json', 'PMUL4114.json', 'PMUL4035.json', 'SNG1236.json', 'PMUL2672.json', 'WOZ20500.json', 'SNG0145.json', 'PMUL4153.json', 'WOZ20129.json', 'MUL0751.json', 'SSNG0176.json', 'MUL0596.json', 'PMUL0937.json', 'PMUL3149.json', 'PMUL4775.json', 'MUL2463.json', 'MUL0665.json', 'PMUL3824.json', 'PMUL1344.json', 'MUL0874.json', 'PMUL0635.json', 'MUL1148.json', 'SNG0940.json', 'SNG02084.json', 'PMUL4577.json', 'PMUL1132.json', 'PMUL0623.json', 'PMUL3912.json', 'PMUL1045.json', 'PMUL2481.json', 'PMUL2696.json', 'SSNG0191.json', 'PMUL0188.json', 'MUL1839.json', 'PMUL1640.json', 'PMUL3350.json', 'PMUL3529.json', 'MUL0183.json', 'PMUL0237.json', 'MUL1610.json', 'PMUL1538.json', 'MUL0073.json', 'MUL0623.json', 'SNG0673.json', 'PMUL3371.json', 'MUL2277.json', 'WOZ20076.json', 'SNG1093.json', 'PMUL2504.json', 'SNG1369.json', 'WOZ20495.json', 'PMUL3110.json', 'SSNG0021.json', 'SNG01356.json', 'SNG0448.json', 'SNG1215.json', 'MUL2270.json', 'MUL2190.json', 'SNG0722.json', 'PMUL3831.json', 'MUL2482.json', 'PMUL4750.json', 'MUL1649.json', 'MUL1995.json', 'PMUL2064.json', 'PMUL1157.json', 'PMUL2792.json', 'MUL0122.json', 'PMUL0087.json', 'PMUL2978.json', 'MUL2664.json', 'PMUL1896.json', 'MUL2639.json', 'MUL2622.json', 'PMUL1850.json', 'WOZ20091.json', 'MUL1341.json', 'SNG01457.json', 'SNG01736.json', 'SNG0792.json', 'MUL0670.json', 'MUL1515.json', 'SNG0606.json', 'SNG01403.json', 'PMUL0949.json', 'PMUL0604.json', 'MUL0195.json', 'PMUL0303.json', 'PMUL0122.json', 'WOZ20121.json', 'SSNG0311.json', 'PMUL3270.json', 'MUL0944.json', 'PMUL0603.json', 'PMUL3756.json', 'MUL2167.json', 'PMUL0109.json', 'SSNG0012.json', 'PMUL2717.json', 'MUL0457.json', 'PMUL2733.json', 'MUL0233.json', 'PMUL4078.json', 'SNG1059.json', 'WOZ20421.json', 'WOZ20035.json', 'PMUL4470.json', 'SNG0609.json', 'PMUL0449.json', 'PMUL4784.json', 'MUL2502.json', 'PMUL0553.json', 'PMUL3098.json', 'SNG01382.json', 'MUL0321.json', 'MUL0100.json', 'MUL1803.json', 'PMUL0836.json', 'PMUL1151.json', 'PMUL3042.json', 'SNG0261.json', 'PMUL4694.json', 'PMUL3219.json', 'PMUL1942.json', 'PMUL2230.json', 'SNG1284.json', 'PMUL3835.json', 'MUL0614.json', 'MUL1554.json', 'PMUL4365.json', 'PMUL3775.json', 'MUL1982.json', 'PMUL2055.json', 'PMUL1637.json', 'SNG1023.json', 'SSNG0150.json', 'PMUL3763.json', 'PMUL1143.json', 'SSNG0136.json', 'WOZ20112.json', 'SNG0588.json', 'SNG02118.json', 'PMUL4450.json', 'MUL0780.json', 'WOZ20628.json', 'PMUL4382.json', 'MUL0079.json', 'MUL2282.json', 'WOZ20615.json', 'PMUL3033.json', 'PMUL3437.json', 'PMUL4749.json', 'SSNG0166.json', 'PMUL3004.json', 'MUL1704.json', 'SNG02320.json', 'MUL0657.json', 'SSNG0198.json', 'SNG02013.json', 'MUL2598.json', 'PMUL3025.json', 'PMUL0862.json', 'PMUL4785.json', 'WOZ20349.json', 'PMUL4379.json', 'PMUL1458.json', 'SNG0218.json', 'MUL0444.json', 'SNG01630.json', 'SNG01587.json', 'WOZ20050.json', 'SNG0352.json', 'PMUL0697.json', 'MUL0577.json', 'PMUL2193.json', 'PMUL1656.json', 'SNG01593.json', 'WOZ20036.json', 'MUL1166.json', 'SNG01909.json', 'PMUL4927.json', 'PMUL4292.json', 'MUL1499.json', 'SNG01965.json', 'SNG1114.json', 'MUL0918.json', 'MUL1568.json', 'MUL1152.json', 'MUL0377.json', 'PMUL4052.json', 'SNG0146.json', 'PMUL2586.json', 'PMUL2476.json', 'MUL0956.json', 'PMUL1377.json', 'MUL0385.json', 'WOZ20191.json', 'SSNG0347.json', 'WOZ20332.json', 'WOZ20578.json', 'PMUL0722.json', 'SNG1307.json', 'SNG1365.json', 'PMUL3982.json', 'PMUL3743.json', 'PMUL4674.json', 'PMUL1509.json', 'SSNG0060.json', 'MUL0514.json', 'MUL0221.json', 'SSNG0395.json', 'PMUL3035.json', 'PMUL2580.json', 'PMUL3192.json', 'SNG01502.json', 'PMUL2660.json', 'PMUL3683.json', 'SNG0552.json', 'PMUL2899.json', 'MUL0560.json', 'PMUL2263.json', 'MUL0656.json', 'PMUL0463.json', 'SNG1387.json', 'PMUL2131.json', 'MUL1880.json', 'SNG02137.json', 'PMUL4746.json', 'MUL2490.json', 'SNG1218.json', 'PMUL0678.json', 'SSNG0062.json', 'PMUL3352.json', 'SNG0332.json', 'PMUL2406.json', 'SSNG0063.json', 'WOZ20247.json', 'MUL1108.json', 'SSNG0090.json', 'PMUL1404.json', 'SNG01632.json', 'PMUL4336.json', 'SNG02289.json', 'PMUL2805.json', 'PMUL3093.json', 'MUL2070.json', 'MUL0045.json', 'MUL1906.json', 'WOZ20295.json', 'PMUL2301.json', 'MUL2599.json', 'SNG01946.json', 'PMUL4945.json', 'SNG0381.json', 'PMUL3400.json', 'SSNG0102.json', 'PMUL2501.json', 'PMUL4301.json', 'SNG01154.json', 'SNG0442.json', 'MUL2626.json', 'PMUL1854.json', 'PMUL1417.json', 'PMUL0536.json', 'MUL1338.json', 'PMUL2738.json', 'PMUL4135.json', 'SNG01436.json', 'SNG0349.json', 'PMUL2705.json', 'SSNG0109.json', 'PMUL4518.json', 'WOZ20162.json', 'SNG01898.json', 'MUL1401.json', 'SSNG0049.json', 'PMUL2983.json', 'SNG0172.json', 'MUL0847.json', 'MUL0906.json', 'MUL0423.json', 'MUL0968.json', 'SNG0572.json', 'PMUL0227.json', 'MUL0813.json', 'MUL0544.json', 'WOZ20454.json', 'MUL2289.json', 'PMUL3513.json', 'PMUL4288.json', 'PMUL0404.json', 'PMUL3559.json', 'MUL1091.json', 'PMUL3864.json', 'MUL0190.json', 'PMUL4467.json', 'MUL2519.json', 'PMUL1332.json', 'MUL1109.json', 'MUL0449.json', 'PMUL1963.json', 'MUL2571.json', 'PMUL1573.json', 'PMUL3208.json', 'MUL0936.json', 'WOZ20557.json', 'SNG02117.json', 'WOZ20520.json', 'PMUL1334.json', 'MUL0794.json', 'WOZ20009.json', 'MUL2611.json', 'MUL0814.json', 'MUL1836.json', 'PMUL4062.json', 'WOZ20149.json', 'PMUL4344.json', 'PMUL2248.json', 'SNG0219.json', 'SNG02275.json', 'SSNG0189.json', 'PMUL4857.json', 'SNG01243.json', 'PMUL2407.json', 'SNG01944.json', 'WOZ20475.json', 'SNG0316.json', 'MUL1182.json', 'MUL2657.json', 'PMUL1865.json', 'SNG0264.json', 'SNG0051.json', 'PMUL3754.json', 'PMUL4014.json', 'MUL2103.json', 'PMUL1696.json', 'MUL2112.json', 'WOZ20611.json', 'PMUL4841.json', 'MUL1941.json', 'MUL0028.json', 'PMUL2953.json', 'MUL0168.json', 'SNG02119.json', 'SNG01638.json', 'PMUL1644.json', 'WOZ20508.json', 'PMUL2535.json', 'SNG0951.json', 'PMUL2357.json', 'MUL1363.json', 'SNG0807.json', 'SNG01580.json', 'SNG01329.json', 'WOZ20089.json', 'SNG01823.json', 'SNG01556.json', 'PMUL0406.json', 'SNG0978.json', 'PMUL0490.json', 'PMUL4706.json', 'PMUL0586.json', 'SSNG0200.json', 'PMUL4473.json', 'PMUL1736.json', 'PMUL0853.json', 'MUL2338.json', 'PMUL2385.json', 'SNG01279.json', 'SNG0290.json', 'MUL0812.json', 'MUL0332.json', 'MUL0113.json', 'PMUL0948.json', 'WOZ20242.json', 'PMUL3174.json', 'PMUL3716.json', 'PMUL0868.json', 'MUL0107.json', 'SNG1318.json', 'SNG0056.json', 'MUL1460.json', 'MUL0989.json', 'PMUL2002.json', 'PMUL2560.json', 'SNG01405.json', 'MUL1453.json', 'WOZ20272.json', 'SNG1283.json', 'PMUL3662.json', 'SNG01465.json', 'PMUL1705.json', 'PMUL2271.json', 'PMUL4636.json', 'PMUL2787.json', 'SSNG0389.json', 'MUL0722.json', 'PMUL2884.json', 'SNG01724.json', 'PMUL4280.json', 'SNG0823.json', 'PMUL2431.json', 'PMUL3195.json', 'MUL2587.json', 'PMUL0037.json', 'PMUL2531.json', 'MUL0169.json', 'PMUL2144.json', 'MUL1897.json', 'MUL0654.json', 'SNG01482.json', 'SNG1269.json', 'SNG01220.json', 'WOZ20606.json', 'WOZ20248.json', 'PMUL4630.json', 'PMUL0029.json', 'PMUL3943.json', 'SNG02296.json', 'PMUL4218.json', 'SNG0116.json', 'MUL1927.json', 'PMUL4333.json', 'PMUL0172.json', 'MUL2563.json', 'MUL0575.json', 'SNG01581.json', 'PMUL3032.json', 'PMUL0686.json', 'MUL1711.json', 'PMUL1775.json', 'PMUL1675.json', 'MUL2120.json', 'PMUL3056.json', 'MUL0716.json', 'WOZ20289.json', 'PMUL4956.json', 'PMUL3413.json', 'SNG02336.json', 'MUL0395.json', 'SNG0078.json', 'MUL0389.json', 'SNG0804.json', 'MUL0330.json', 'PMUL0061.json', 'SNG1133.json', 'MUL0589.json', 'MUL1840.json', 'PMUL3820.json', 'MUL1745.json', 'SSNG0146.json', 'PMUL2394.json', 'SNG01360.json', 'PMUL4004.json', 'SNG0941.json', 'MUL0021.json', 'MUL1658.json', 'WOZ20429.json', 'MUL1057.json', 'PMUL3194.json', 'PMUL0477.json', 'WOZ20545.json', 'MUL2181.json', 'PMUL4226.json', 'SNG0614.json', 'PMUL2870.json', 'WOZ20550.json', 'PMUL3168.json', 'SNG0905.json', 'PMUL1968.json', 'MUL0873.json', 'SNG01588.json', 'MUL2507.json', 'PMUL1955.json', 'PMUL0593.json', 'PMUL2238.json', 'SNG01552.json', 'PMUL1036.json', 'MUL1168.json', 'PMUL3608.json', 'PMUL3245.json', 'PMUL0952.json', 'PMUL0121.json', 'PMUL3570.json', 'SNG0447.json', 'PMUL1489.json', 'SNG1089.json', 'WOZ20046.json', 'SNG0768.json', 'PMUL1710.json', 'PMUL0126.json', 'MUL2044.json', 'PMUL4569.json', 'PMUL3574.json', 'SSNG0065.json', 'PMUL1776.json', 'SSNG0117.json', 'PMUL2059.json', 'SSNG0155.json', 'MUL0790.json', 'SNG1247.json', 'PMUL2860.json', 'PMUL0849.json', 'PMUL0679.json', 'WOZ20567.json', 'PMUL0833.json', 'PMUL1699.json', 'PMUL4030.json', 'MUL0569.json', 'PMUL0955.json', 'MUL1579.json', 'MUL2187.json', 'PMUL4220.json', 'SNG01514.json', 'PMUL0730.json', 'PMUL3121.json', 'PMUL4224.json', 'PMUL3028.json', 'PMUL1133.json', 'WOZ20619.json', 'PMUL3082.json', 'WOZ20572.json', 'PMUL4957.json', 'MUL2419.json', 'MUL1699.json', 'MUL1187.json', 'PMUL3978.json', 'PMUL0947.json', 'SNG0842.json', 'MUL0157.json', 'PMUL2966.json', 'MUL1121.json', 'PMUL3752.json', 'PMUL4246.json', 'SSNG0366.json', 'WOZ20552.json', 'PMUL2358.json', 'PMUL4564.json', 'MUL2049.json', 'MUL1720.json', 'PMUL4868.json', 'SSNG0297.json', 'PMUL1268.json', 'PMUL0099.json', 'MUL1718.json', 'SSNG0352.json', 'MUL2191.json', 'WOZ20017.json', 'MUL0448.json', 'PMUL2626.json', 'SNG1065.json', 'PMUL1517.json', 'SNG02008.json', 'SNG0881.json', 'PMUL3544.json', 'PMUL2793.json', 'PMUL1697.json', 'MUL2102.json', 'PMUL2067.json', 'MUL1996.json', 'PMUL4559.json', 'PMUL0092.json', 'PMUL3263.json', 'PMUL2399.json', 'PMUL3167.json', 'MUL1469.json', 'PMUL1587.json', 'SNG0246.json', 'PMUL4233.json', 'MUL0114.json', 'MUL0149.json', 'PMUL0341.json', 'MUL1768.json', 'MUL0981.json', 'PMUL1421.json', 'SNG0533.json', 'SNG0424.json', 'SNG0869.json', 'PMUL3142.json', 'SNG1355.json', 'PMUL2913.json', 'PMUL4558.json', 'MUL1795.json', 'PMUL1555.json', 'PMUL4227.json', 'SNG0589.json', 'SNG01434.json', 'PMUL0094.json', 'PMUL0602.json', 'PMUL0421.json', 'WOZ20397.json', 'MUL1798.json', 'MUL0432.json', 'MUL2064.json', 'PMUL4581.json', 'MUL1888.json', 'MUL1603.json', 'PMUL4840.json', 'MUL2393.json', 'PMUL1206.json', 'PMUL2275.json', 'MUL0993.json', 'MUL2604.json', 'PMUL1832.json', 'MUL0815.json', 'PMUL0779.json', 'MUL0584.json', 'PMUL4425.json', 'PMUL3203.json', 'MUL1710.json', 'MUL0232.json', 'MUL0875.json', 'SNG0998.json', 'MUL0454.json', 'PMUL0194.json', 'PMUL4321.json', 'MUL1232.json', 'MUL1025.json', 'SNG1216.json', 'SNG1004.json', 'MUL0914.json', 'SNG1049.json', 'PMUL1745.json', 'PMUL0601.json', 'PMUL0786.json', 'SNG02107.json', 'PMUL4025.json', 'PMUL0930.json', 'PMUL0130.json', 'MUL1832.json', 'SNG01583.json', 'SNG02350.json', 'MUL0573.json', 'MUL0411.json', 'MUL0892.json', 'PMUL0584.json', 'PMUL3061.json', 'WOZ20436.json', 'SSNG0210.json', 'PMUL1742.json', 'SNG0785.json', 'MUL1783.json', 'MUL0115.json', 'SNG01979.json', 'PMUL2074.json', 'PMUL0617.json', 'SNG0793.json', 'PMUL4661.json', 'PMUL2470.json', 'SNG1316.json', 'PMUL1749.json', 'MUL0078.json', 'PMUL3962.json', 'SNG1190.json', 'PMUL4314.json', 'PMUL2709.json', 'PMUL3649.json', 'PMUL4273.json', 'PMUL4414.json', 'WOZ20498.json', 'SNG0431.json', 'PMUL0129.json', 'SNG01651.json', 'PMUL4974.json', 'SSNG0031.json', 'PMUL3196.json', 'PMUL2455.json', 'SNG02146.json', 'PMUL2471.json', 'PMUL2262.json', 'PMUL0747.json', 'PMUL4826.json', 'WOZ20310.json', 'SSNG0097.json', 'PMUL3825.json', 'PMUL3349.json', 'WOZ20417.json', 'PMUL3200.json', 'PMUL3941.json', 'MUL2503.json', 'PMUL1951.json', 'WOZ20637.json', 'PMUL3707.json', 'PMUL1512.json', 'SNG01318.json', 'MUL1569.json', 'SNG01540.json', 'PMUL4120.json', 'MUL0041.json', 'SNG0573.json', 'PMUL4368.json', 'SNG02316.json', 'SSNG0052.json', 'MUL0798.json', 'WOZ20095.json', 'MUL0663.json', 'PMUL4434.json', 'PMUL0738.json', 'SNG0206.json', 'MUL2546.json', 'MUL0355.json', 'WOZ20131.json', 'WOZ20564.json', 'PMUL3654.json', 'PMUL2376.json', 'MUL2008.json', 'PMUL0131.json', 'PMUL0277.json', 'SNG0670.json', 'PMUL3616.json', 'MUL1874.json', 'SNG1102.json', 'PMUL2342.json', 'MUL1376.json', 'PMUL3682.json', 'SNG01165.json', 'PMUL1563.json', 'PMUL1869.json', 'PMUL4102.json', 'SNG0584.json', 'PMUL4726.json', 'PMUL1050.json', 'PMUL3423.json', 'SNG0301.json', 'PMUL3837.json', 'SNG1143.json', 'WOZ20052.json', 'MUL0699.json', 'MUL1059.json', 'PMUL2120.json', 'SNG0201.json', 'PMUL4988.json', 'WOZ20152.json', 'SNG1209.json', 'MUL2267.json', 'SNG0828.json', 'SSNG0253.json', 'PMUL3963.json', 'PMUL2558.json', 'PMUL4243.json', 'PMUL3778.json', 'MUL0495.json', 'SNG0213.json', 'PMUL0581.json', 'PMUL4234.json', 'WOZ20080.json', 'MUL2518.json', 'PMUL1946.json', 'PMUL1588.json', 'PMUL2126.json', 'PMUL0488.json', 'MUL1665.json', 'PMUL3225.json', 'SNG01244.json', 'SNG01970.json', 'PMUL3757.json', 'PMUL2525.json', 'PMUL3414.json', 'MUL2024.json', 'PMUL3484.json', 'WOZ20591.json', 'PMUL2320.json', 'PMUL3511.json', 'MUL2439.json', 'SNG1064.json', 'PMUL1857.json', 'MUL2625.json', 'MUL1625.json', 'SNG0764.json', 'MUL1928.json', 'PMUL1549.json', 'PMUL3811.json', 'SNG0962.json', 'PMUL0897.json', 'PMUL0218.json', 'SNG02048.json', 'SNG0016.json', 'PMUL0275.json', 'SNG0042.json', 'PMUL2188.json', 'MUL2601.json', 'PMUL0317.json', 'PMUL3836.json', 'SSNG0327.json', 'PMUL1475.json', 'SNG0857.json', 'MUL2660.json', 'PMUL1892.json', 'SNG0101.json', 'MUL0824.json', 'SNG0207.json', 'MUL0769.json', 'MUL0730.json', 'PMUL4090.json', 'SNG0727.json', 'PMUL2825.json', 'WOZ20323.json', 'PMUL0472.json', 'PMUL1041.json', 'MUL1854.json', 'SNG01959.json', 'SNG0455.json', 'MUL1079.json', 'PMUL2087.json', 'SNG0531.json', 'PMUL0039.json', 'MUL1543.json', 'PMUL4325.json', 'MUL0214.json', 'PMUL3991.json', 'MUL1586.json', 'PMUL2727.json', 'PMUL2443.json', 'PMUL0954.json', 'MUL1180.json', 'PMUL3741.json', 'SNG01546.json', 'PMUL0597.json', 'MUL0528.json', 'MUL2284.json', 'PMUL2664.json', 'MUL0361.json', 'MUL0601.json', 'SNG01409.json', 'SNG0579.json', 'SNG01188.json', 'PMUL3955.json', 'PMUL1685.json', 'PMUL3815.json', 'SSNG0221.json', 'MUL0519.json', 'WOZ20227.json', 'MUL0117.json', 'MUL0529.json', 'PMUL4313.json', 'PMUL1254.json', 'SNG0292.json', 'PMUL2945.json', 'PMUL2561.json', 'MUL0576.json', 'MUL2098.json', 'PMUL4276.json', 'WOZ20479.json', 'MUL0992.json', 'MUL2135.json', 'MUL2440.json', 'MUL0346.json', 'SNG02049.json', 'PMUL4212.json', 'SSNG0252.json', 'SNG0551.json', 'PMUL3464.json', 'MUL1456.json', 'PMUL1844.json', 'PMUL1436.json', 'MUL2003.json', 'SNG01258.json', 'PMUL4778.json', 'PMUL4920.json', 'SNG0121.json', 'MUL1825.json', 'PMUL3399.json', 'PMUL3709.json', 'PMUL0528.json', 'PMUL3101.json', 'MUL0290.json', 'PMUL3277.json', 'PMUL3842.json', 'PMUL1959.json', 'WOZ20334.json', 'SNG01355.json', 'PMUL3253.json', 'PMUL3948.json', 'PMUL3740.json', 'PMUL4675.json', 'PMUL4905.json', 'PMUL4921.json', 'PMUL3947.json', 'PMUL4332.json', 'MUL1524.json', 'PMUL1373.json', 'PMUL4672.json', 'SNG02088.json', 'MUL0304.json', 'SNG0080.json', 'PMUL1757.json', 'MUL0244.json', 'PMUL4838.json', 'PMUL1270.json', 'PMUL1715.json', 'MUL2515.json', 'SNG0289.json', 'PMUL0056.json', 'MUL0546.json', 'SNG02040.json', 'MUL2428.json', 'PMUL4736.json', 'SNG1323.json', 'MUL1308.json', 'PMUL0496.json', 'MUL2592.json', 'PMUL1094.json', 'MUL0891.json', 'PMUL0803.json', 'SNG01538.json', 'MUL1208.json', 'SNG01592.json', 'PMUL4305.json', 'MUL0360.json', 'PMUL3727.json', 'PMUL3651.json', 'MUL1220.json', 'PMUL2568.json', 'PMUL3312.json', 'PMUL3633.json', 'PMUL4086.json', 'MUL1838.json', 'PMUL4258.json', 'SSNG0043.json', 'PMUL2472.json', 'PMUL2925.json', 'PMUL1435.json', 'SSNG0283.json', 'SNG02212.json', 'SSNG0292.json', 'PMUL2253.json', 'PMUL0136.json', 'SNG0931.json', 'SNG01822.json', 'PMUL0687.json', 'SNG0891.json', 'SNG1137.json', 'SNG01373.json', 'MUL0659.json', 'MUL0058.json', 'PMUL0675.json', 'MUL0032.json', 'PMUL2097.json', 'MUL2198.json', 'PMUL3885.json', 'SNG0911.json', 'MUL2121.json', 'PMUL1674.json', 'MUL1526.json', 'PMUL0643.json', 'WOZ20085.json', 'SNG1132.json', 'SNG01272.json', 'MUL0011.json', 'PMUL2337.json', 'SNG01686.json', 'MUL1405.json', 'PMUL3290.json', 'PMUL0848.json', 'WOZ20505.json', 'SSNG0338.json', 'PMUL0558.json', 'SNG0585.json', 'SSNG0381.json', 'MUL1814.json', 'WOZ20383.json', 'WOZ20392.json', 'MUL1633.json', 'WOZ20455.json', 'MUL2229.json', 'SNG02307.json', 'PMUL1066.json', 'SNG01313.json', 'PMUL0036.json', 'MUL2025.json', 'MUL0945.json', 'SNG1194.json', 'MUL2606.json', 'MUL0406.json', 'PMUL0672.json', 'MUL1917.json', 'MUL0862.json', 'WOZ20353.json', 'MUL1309.json', 'MUL0036.json', 'SNG01401.json', 'SNG0742.json', 'WOZ20503.json', 'PMUL1120.json', 'WOZ20432.json', 'PMUL0903.json', 'SNG02235.json', 'MUL1909.json', 'SNG1184.json', 'MUL0263.json', 'SNG1231.json', 'SNG01793.json', 'WOZ20511.json', 'WOZ20238.json', 'SNG1104.json', 'MUL2588.json', 'MUL2296.json', 'PMUL1365.json', 'PMUL3188.json', 'PMUL4913.json', 'MUL1670.json', 'MUL0315.json', 'SNG0545.json', 'MUL0702.json', 'PMUL4244.json', 'PMUL0038.json', 'MUL0793.json', 'PMUL4202.json', 'MUL1106.json', 'PMUL2844.json', 'MUL1703.json', 'MUL0819.json', 'SNG0075.json', 'PMUL0124.json', 'MUL1950.json', 'SSNG0118.json', 'MUL0047.json', 'SNG1050.json', 'SNG02028.json', 'PMUL3036.json', 'WOZ20059.json', 'PMUL0782.json', 'MUL0439.json', 'SNG01656.json', 'PMUL0587.json', 'PMUL3673.json', 'SNG01284.json', 'MUL0436.json', 'MUL0139.json', 'PMUL0315.json', 'PMUL2909.json', 'SNG1187.json', 'MUL0458.json', 'MUL0251.json', 'PMUL0580.json', 'PMUL3861.json', 'PMUL1395.json', 'PMUL2159.json', 'PMUL0332.json', 'SNG01310.json', 'MUL0540.json', 'MUL0082.json', 'SNG01879.json', 'SNG1183.json', 'SNG0961.json', 'SNG1336.json', 'SSNG0201.json', 'SNG0736.json', 'WOZ20577.json', 'MUL1833.json', 'SNG0011.json', 'PMUL3545.json', 'SNG0171.json', 'SNG01427.json', 'MUL0485.json', 'PMUL2032.json', 'MUL1961.json', 'SNG01411.json', 'WOZ20018.json', 'PMUL2678.json', 'SNG02237.json', 'SNG0582.json', 'MUL2268.json', 'SNG01922.json', 'PMUL4831.json', 'SNG0435.json', 'SNG1019.json', 'PMUL4441.json', 'SNG1258.json', 'PMUL4850.json', 'PMUL1398.json', 'SNG0076.json', 'PMUL2880.json', 'SSNG0192.json', 'WOZ20006.json', 'PMUL3942.json', 'PMUL1796.json', 'PMUL3271.json', 'SNG0805.json', 'PMUL4732.json', 'PMUL2616.json', 'PMUL2145.json', 'WOZ20352.json', 'SNG0153.json', 'MUL1136.json', 'PMUL1271.json', 'SNG01870.json', 'PMUL3014.json', 'SSNG0207.json', 'PMUL2691.json', 'SNG1249.json', 'PMUL0402.json', 'MUL0695.json', 'MUL0629.json', 'MUL0106.json', 'PMUL1484.json', 'PMUL1604.json', 'PMUL0991.json', 'SNG1099.json', 'SSNG0265.json', 'SNG1287.json', 'PMUL2233.json', 'SNG01888.json', 'PMUL4040.json', 'SNG0411.json', 'MUL1017.json', 'PMUL4766.json', 'SNG01604.json', 'PMUL2838.json', 'PMUL3713.json', 'SNG01335.json', 'WOZ20092.json', 'PMUL2008.json', 'PMUL4922.json', 'PMUL2221.json', 'SNG1295.json', 'SSNG0211.json', 'PMUL2328.json', 'SNG0863.json', 'MUL2514.json', 'PMUL1190.json', 'SNG1255.json', 'MUL0687.json', 'PMUL4605.json', 'PMUL1155.json', 'SNG02077.json', 'PMUL3442.json', 'MUL1769.json', 'SSNG0282.json', 'SSNG0373.json', 'PMUL2003.json', 'PMUL0873.json', 'PMUL2984.json', 'PMUL2143.json', 'PMUL3051.json', 'SNG1083.json', 'SNG0536.json', 'PMUL3527.json', 'SNG01925.json', 'WOZ20462.json', 'WOZ20074.json', 'PMUL0048.json', 'MUL2315.json', 'PMUL1075.json', 'PMUL0310.json', 'WOZ20365.json', 'SSNG0279.json', 'SSNG0038.json', 'PMUL2005.json', 'PMUL1042.json', 'PMUL3306.json', 'MUL2382.json', 'WOZ20311.json', 'MUL0146.json', 'SNG0259.json', 'PMUL2247.json', 'PMUL4296.json', 'PMUL2902.json', 'PMUL3656.json', 'WOZ20382.json', 'MUL1815.json', 'PMUL1952.json', 'MUL2500.json', 'MUL1989.json', 'PMUL2810.json', 'PMUL3914.json', 'PMUL2489.json', 'PMUL0665.json', 'PMUL0547.json', 'MUL2332.json', 'PMUL3267.json', 'MUL1659.json', 'MUL0811.json', 'WOZ20210.json', 'PMUL0740.json', 'SNG0379.json', 'PMUL4010.json', 'PMUL1230.json', 'MUL1988.json', 'MUL2597.json', 'WOZ20379.json', 'WOZ20138.json', 'MUL2629.json', 'SNG0358.json', 'PMUL0732.json', 'MUL0024.json', 'PMUL3331.json', 'PMUL2084.json', 'PMUL3118.json', 'PMUL2020.json', 'SNG01948.json', 'PMUL0309.json', 'PMUL2967.json', 'PMUL0978.json', 'SNG01756.json', 'SNG1082.json', 'WOZ20082.json', 'PMUL2259.json', 'MUL0064.json', 'MUL0242.json', 'MUL0124.json', 'SNG0082.json', 'PMUL0958.json', 'SNG01231.json', 'SNG01367.json', 'PMUL0231.json', 'SNG01624.json', 'MUL1236.json', 'MUL2033.json', 'SNG01818.json', 'PMUL3782.json', 'SNG01343.json', 'PMUL1676.json', 'WOZ20674.json', 'MUL0398.json', 'SNG0425.json', 'MUL0678.json', 'SNG0553.json', 'SNG0047.json', 'SNG0439.json', 'PMUL0049.json', 'PMUL0438.json', 'PMUL3875.json', 'MUL0345.json', 'PMUL3224.json', 'PMUL3625.json', 'PMUL4539.json', 'SNG01661.json', 'SNG0344.json', 'MUL0261.json', 'MUL2092.json', 'PMUL3583.json', 'MUL1009.json', 'SNG0522.json', 'SNG0855.json', 'PMUL4847.json', 'MUL0837.json', 'PMUL0192.json', 'SNG01774.json', 'PMUL4653.json', 'MUL2366.json', 'PMUL3659.json', 'MUL0801.json', 'MUL2424.json', 'WOZ20164.json', 'MUL0648.json', 'PMUL2172.json', 'PMUL2699.json', 'PMUL3356.json', 'MUL0341.json', 'PMUL4866.json', 'SNG01851.json', 'PMUL4846.json', 'MUL1201.json', 'MUL0965.json', 'MUL0723.json', 'SSNG0388.json', 'MUL1173.json', 'PMUL0325.json', 'PMUL1088.json', 'SNG0686.json', 'PMUL2973.json', 'SSNG0024.json', 'MUL0851.json', 'PMUL1443.json', 'PMUL1320.json', 'MUL2410.json', 'WOZ20177.json', 'SNG0361.json', 'MUL0425.json', 'PMUL4326.json', 'MUL0869.json', 'MUL1283.json', 'SNG0188.json', 'PMUL4236.json', 'WOZ20518.json', 'PMUL3823.json', 'PMUL3612.json', 'PMUL0207.json', 'MUL2497.json', 'PMUL4741.json', 'PMUL1199.json', 'SNG02186.json', 'SNG02195.json', 'MUL0243.json', 'SNG0017.json', 'SNG1333.json', 'SSNG0260.json', 'SNG1199.json', 'MUL1347.json', 'PMUL3905.json', 'PMUL3451.json', 'SNG0456.json', 'PMUL0517.json', 'SNG1390.json', 'SNG0463.json', 'PMUL4887.json', 'WOZ20288.json', 'MUL0986.json', 'PMUL1292.json', 'SNG0958.json', 'PMUL1008.json', 'SNG01657.json', 'PMUL4290.json', 'PMUL1838.json', 'PMUL4371.json', 'PMUL2806.json', 'MUL0482.json', 'MUL0541.json', 'MUL0750.json', 'SNG01430.json', 'WOZ20467.json', 'PMUL4405.json', 'SNG02139.json', 'MUL0771.json', 'SNG0416.json', 'MUL1765.json', 'PMUL2478.json', 'PMUL1208.json', 'PMUL2842.json', 'SNG01901.json', 'PMUL1995.json', 'WOZ20431.json', 'PMUL1833.json', 'MUL2357.json', 'SNG0268.json', 'MUL1661.json', 'WOZ20665.json', 'PMUL1354.json', 'MUL0371.json', 'PMUL1319.json', 'PMUL2689.json', 'MUL2002.json', 'SNG01433.json', 'MUL1171.json', 'WOZ20360.json', 'PMUL2764.json', 'MUL0356.json', 'MUL0554.json', 'WOZ20320.json', 'SNG0432.json', 'SNG01191.json', 'PMUL1835.json', 'MUL2351.json', 'WOZ20038.json', 'MUL0612.json', 'MUL1000.json', 'SNG1239.json', 'SNG1315.json', 'SNG0362.json', 'PMUL0367.json', 'MUL0686.json', 'PMUL4543.json', 'MUL1919.json', 'PMUL3694.json', 'PMUL4708.json', 'PMUL0505.json', 'PMUL1145.json', 'PMUL1460.json', 'PMUL0375.json', 'PMUL2475.json', 'MUL0642.json', 'PMUL2036.json', 'MUL1965.json', 'SNG0723.json', 'PMUL1020.json', 'PMUL0043.json', 'PMUL3389.json', 'MUL0275.json', 'SNG01151.json', 'PMUL4670.json', 'PMUL0057.json', 'MUL1070.json', 'PMUL1758.json', 'SNG01206.json', 'MUL0375.json', 'SNG01504.json', 'PMUL0950.json', 'PMUL3002.json', 'PMUL4981.json', 'PMUL2335.json', 'SNG0102.json', 'PMUL0968.json', 'MUL2302.json', 'MUL2136.json', 'MUL2317.json', 'SNG1198.json', 'SNG02176.json', 'PMUL1591.json', 'WOZ20489.json', 'PMUL1440.json', 'SSNG0318.json', 'PMUL1810.json', 'SNG0862.json', 'MUL1029.json', 'PMUL3787.json', 'WOZ20058.json', 'PMUL4816.json', 'MUL0210.json', 'PMUL3449.json', 'SSNG0383.json', 'MUL0728.json', 'MUL2099.json', 'MUL2082.json', 'PMUL4527.json', 'WOZ20636.json', 'PMUL2228.json', 'MUL1623.json', 'PMUL2439.json', 'PMUL1643.json', 'MUL1448.json', 'SNG0392.json', 'PMUL0349.json', 'MUL1389.json', 'SNG02348.json', 'MUL0322.json', 'MUL1775.json', 'PMUL4538.json', 'MUL0268.json', 'MUL1288.json', 'SNG0505.json', 'MUL0267.json', 'PMUL0210.json', 'PMUL2398.json', 'WOZ20630.json', 'MUL0624.json', 'PMUL0311.json', 'PMUL3536.json', 'PMUL1504.json', 'PMUL4912.json', 'WOZ20218.json', 'PMUL0769.json', 'SNG1128.json', 'WOZ20333.json', 'SNG0817.json', 'SNG0928.json', 'SSNG0326.json', 'MUL0053.json', 'WOZ20283.json', 'MUL1976.json', 'PMUL3620.json', 'SNG0390.json', 'SNG0014.json', 'PMUL1051.json', 'PMUL0936.json', 'SNG0761.json', 'MUL0760.json', 'PMUL2775.json', 'SNG1203.json', 'SSNG0151.json', 'PMUL2547.json', 'WOZ20394.json', 'MUL1204.json', 'SNG01658.json', 'MUL1734.json', 'PMUL3515.json', 'PMUL4980.json', 'SNG02189.json', 'PMUL1057.json', 'SNG01184.json', 'PMUL4016.json', 'MUL1035.json', 'PMUL3769.json', 'PMUL3503.json', 'MUL0508.json', 'PMUL0348.json', 'PMUL4044.json', 'PMUL2551.json', 'WOZ20226.json', 'MUL0520.json', 'MUL2171.json', 'WOZ20222.json', 'SNG01152.json', 'MUL1671.json', 'WOZ20448.json', 'PMUL1442.json', 'WOZ20471.json', 'PMUL2814.json', 'SNG01935.json', 'MUL0995.json', 'PMUL3111.json', 'WOZ20195.json', 'SSNG0320.json', 'MUL1200.json', 'MUL0745.json', 'SSNG0218.json', 'SNG02273.json', 'PMUL0132.json', 'MUL2312.json', 'MUL0994.json', 'PMUL2841.json', 'SSNG0346.json', 'MUL1184.json', 'SNG1118.json', 'SNG0913.json', 'MUL0298.json', 'SNG01475.json', 'SNG01767.json', 'MUL0135.json', 'MUL0399.json', 'WOZ20569.json', 'PMUL4845.json', 'PMUL1524.json', 'MUL1241.json', 'MUL1386.json', 'SNG1117.json', 'MUL2411.json', 'PMUL0982.json', 'MUL2183.json', 'PMUL1616.json', 'MUL1708.json', 'PMUL4042.json', 'PMUL4463.json', 'MUL1916.json', 'SNG0737.json', 'PMUL0437.json', 'PMUL2726.json', 'MUL1587.json', 'SNG02046.json', 'PMUL0691.json', 'SNG02311.json', 'WOZ20220.json', 'PMUL3397.json', 'MUL1412.json', 'WOZ20318.json', 'PMUL4759.json', 'MUL1784.json', 'MUL0823.json', 'SNG01377.json', 'SNG01577.json', 'PMUL3523.json', 'PMUL1934.json', 'MUL2210.json', 'PMUL0215.json', 'SNG01600.json', 'SNG0870.json', 'WOZ20246.json', 'MUL0593.json', 'SSNG0175.json', 'PMUL2720.json', 'MUL1581.json', 'MUL1934.json', 'PMUL3092.json', 'PMUL4949.json', 'PMUL4109.json', 'PMUL3313.json', 'PMUL2393.json', 'SNG0923.json', 'SSNG0267.json', 'MUL1918.json', 'PMUL4731.json', 'PMUL1806.json', 'MUL2362.json', 'WOZ20559.json', 'PMUL3795.json', 'PMUL0498.json', 'PMUL3873.json', 'PMUL2666.json', 'PMUL2281.json', 'MUL0524.json', 'SNG0960.json', 'SNG0114.json', 'SNG0321.json', 'MUL2581.json', 'MUL1693.json', 'SNG0436.json', 'SNG0204.json', 'MUL0494.json', 'WOZ20673.json', 'SNG0066.json', 'PMUL2999.json', 'SNG0651.json', 'SNG1328.json', 'SNG1090.json', 'WOZ20075.json', 'PMUL2766.json', 'SNG0346.json', 'MUL0301.json', 'PMUL3260.json', 'PMUL3476.json', 'SNG0281.json', 'SNG0659.json', 'WOZ20581.json', 'SNG01334.json', 'MUL2288.json', 'SNG01314.json', 'MUL2086.json', 'PMUL4523.json', 'PMUL2336.json', 'SNG01491.json', 'PMUL0898.json', 'SNG0386.json', 'SNG0159.json', 'WOZ20367.json', 'PMUL2158.json', 'PMUL0203.json', 'SNG0118.json', 'PMUL2165.json', 'PMUL4378.json', 'PMUL3865.json', 'SNG0387.json', 'WOZ20231.json', 'SNG1041.json', 'PMUL4969.json', 'PMUL3315.json', 'PMUL1415.json', 'MUL1130.json', 'SNG01743.json', 'PMUL3210.json', 'SNG0711.json', 'PMUL0690.json', 'SNG0402.json', 'SNG01458.json', 'SNG0185.json', 'PMUL2919.json', 'PMUL4238.json', 'SNG1371.json', 'MUL0137.json', 'SNG0583.json', 'PMUL4068.json', 'SNG0508.json', 'PMUL0269.json', 'SNG02198.json', 'PMUL2477.json', 'MUL1551.json', 'MUL0262.json', 'PMUL3307.json', 'PMUL0279.json', 'SNG0908.json', 'SNG0809.json', 'SSNG0132.json', 'SNG0684.json', 'PMUL0989.json', 'WOZ20661.json', 'MUL0534.json', 'PMUL4240.json', 'PMUL2252.json', 'SNG0182.json', 'PMUL1925.json', 'MUL2209.json', 'SNG0554.json', 'PMUL2330.json', 'SSNG0268.json', 'PMUL2903.json', 'SNG0446.json', 'SNG01423.json', 'PMUL0369.json', 'WOZ20273.json', 'PMUL3415.json', 'MUL0396.json', 'SNG0339.json', 'PMUL0781.json', 'MUL1362.json', 'PMUL2356.json', 'PMUL4005.json', 'MUL0600.json', 'SNG0048.json', 'PMUL4064.json', 'PMUL2254.json', 'PMUL2578.json', 'MUL0957.json', 'MUL1328.json', 'PMUL3157.json', 'PMUL0436.json', 'SSNG0143.json', 'PMUL3534.json', 'PMUL1564.json', 'PMUL2468.json', 'PMUL0384.json', 'PMUL4987.json', 'WOZ20032.json', 'SNG0242.json', 'SNG01780.json', 'MUL0708.json', 'PMUL0167.json', 'PMUL1024.json', 'PMUL2269.json', 'WOZ20368.json', 'PMUL4666.json', 'PMUL2795.json', 'PMUL2451.json', 'SNG0810.json', 'SNG01760.json', 'WOZ20051.json', 'PMUL1135.json', 'SNG1077.json', 'SNG02090.json', 'PMUL3010.json', 'SNG0556.json', 'MUL0943.json', 'WOZ20512.json', 'SSNG0343.json', 'MUL1968.json', 'SNG02191.json', 'PMUL0494.json', 'PMUL2763.json', 'PMUL0412.json', 'PMUL2268.json', 'PMUL4618.json', 'PMUL3607.json', 'MUL1318.json', 'MUL1487.json', 'MUL0865.json', 'SNG0184.json', 'SNG0772.json', 'MUL0773.json', 'PMUL3182.json', 'PMUL3576.json', 'SNG1314.json', 'MUL0767.json', 'MUL0655.json', 'MUL2325.json', 'WOZ20043.json', 'PMUL2550.json', 'SNG1385.json', 'SNG0900.json', 'MUL0617.json', 'SNG1020.json', 'PMUL4908.json', 'PMUL4453.json', 'MUL2333.json', 'MUL1203.json', 'PMUL4428.json', 'PMUL0389.json', 'PMUL1976.json', 'MUL0627.json', 'SSNG0169.json', 'MUL0582.json', 'SNG0430.json', 'MUL0234.json', 'PMUL2651.json', 'PMUL4687.json', 'SNG01576.json', 'PMUL1300.json', 'PMUL2791.json', 'PMUL3364.json', 'WOZ20243.json', 'SNG01512.json', 'SNG1400.json', 'MUL0709.json', 'MUL2334.json', 'SSNG0015.json', 'SNG01622.json', 'SNG01440.json', 'PMUL4161.json', 'PMUL1970.json', 'MUL0151.json', 'SNG02288.json', 'PMUL0007.json', 'PMUL1209.json', 'MUL0997.json', 'SNG0241.json', 'PMUL4193.json', 'PMUL0712.json', 'SNG01761.json', 'SNG0453.json', 'PMUL3791.json', 'SNG0669.json', 'PMUL0466.json', 'SNG0919.json', 'SNG02149.json', 'MUL2197.json', 'PMUL1015.json', 'PMUL0230.json', 'PMUL2771.json', 'MUL2513.json', 'PMUL0574.json', 'MUL0020.json', 'WOZ20069.json', 'PMUL1103.json', 'SNG0396.json', 'PMUL3273.json', 'PMUL4854.json', 'MUL2699.json', 'PMUL3109.json', 'SNG0770.json', 'MUL1357.json', 'PMUL2363.json', 'PMUL3161.json', 'PMUL3189.json', 'PMUL2644.json', 'MUL0776.json', 'SSNG0317.json', 'MUL2314.json', 'WOZ20115.json', 'MUL2512.json', 'SNG02341.json', 'PMUL3927.json', 'MUL2073.json', 'SNG01876.json', 'PMUL1936.json', 'MUL2212.json', 'MUL1969.json', 'MUL1518.json', 'PMUL2536.json', 'MUL2313.json', 'SNG1177.json', 'PMUL0829.json', 'SNG0571.json', 'MUL2239.json', 'MUL1038.json', 'SSNG0376.json', 'SNG1268.json', 'SNG0501.json', 'PMUL2508.json', 'PMUL2161.json', 'PMUL4535.json', 'PMUL1074.json', 'SSNG0312.json', 'MUL0734.json', 'MUL0881.json', 'SSNG0056.json', 'SNG0399.json', 'MUL1390.json', 'SNG01846.json', 'SNG01768.json', 'SNG1399.json', 'SNG01505.json', 'PMUL3708.json', 'MUL0973.json', 'MUL1388.json', 'SNG01282.json', 'PMUL2819.json', 'MUL0637.json', 'MUL1419.json', 'MUL0638.json', 'SNG01950.json', 'MUL0692.json', 'MUL0253.json', 'PMUL0214.json', 'PMUL3675.json', 'SNG02345.json', 'PMUL4309.json', 'PMUL4817.json', 'WOZ20276.json', 'MUL2698.json', 'MUL0530.json', 'MUL0199.json', 'SNG0378.json', 'PMUL2056.json', 'MUL1981.json', 'PMUL1200.json', 'WOZ20156.json', 'PMUL0504.json', 'MUL1634.json', 'PMUL1154.json', 'SNG01221.json', 'MUL0062.json', 'MUL1660.json', 'MUL1719.json', 'MUL0643.json', 'MUL1243.json', 'PMUL1072.json', 'PMUL0042.json', 'PMUL0998.json', 'PMUL1461.json', 'PMUL2460.json', 'MUL0833.json', 'SNG02031.json', 'MUL2679.json', 'PMUL2353.json', 'MUL1367.json', 'PMUL0928.json', 'PMUL1243.json', 'MUL0225.json', 'SSNG0234.json', 'SNG0529.json', 'WOZ20519.json', 'MUL1477.json', 'PMUL1586.json', 'PMUL3652.json', 'PMUL2176.json', 'PMUL1152.json', 'WOZ20026.json', 'SSNG0037.json', 'MUL2387.json', 'MUL1682.json', 'SNG0253.json', 'SNG0580.json', 'SSNG0055.json', 'MUL1323.json', 'SNG0808.json', 'MUL1439.json', 'SNG0130.json', 'PMUL4938.json', 'MUL0447.json', 'MUL0491.json', 'SNG0865.json', 'MUL1114.json', 'PMUL0893.json', 'PMUL4045.json', 'MUL2691.json', 'MUL0185.json', 'PMUL4339.json', 'SNG0258.json', 'PMUL1895.json', 'SNG1029.json', 'PMUL4901.json', 'MUL0934.json', 'MUL0774.json', 'MUL0729.json', 'SSNG0382.json', 'SNG02130.json', 'MUL1026.json', 'SNG02158.json', 'SNG01949.json', 'WOZ20466.json', 'MUL2217.json', 'PMUL1933.json', 'PMUL4338.json', 'SNG1383.json', 'WOZ20086.json', 'PMUL1735.json', 'MUL0809.json', 'MUL0509.json', 'PMUL2818.json', 'SNG0150.json', 'PMUL0344.json', 'WOZ20137.json', 'WOZ20355.json', 'SNG0704.json', 'WOZ20258.json', 'PMUL1173.json', 'WOZ20155.json', 'SNG01582.json', 'MUL1063.json', 'PMUL2391.json', 'PMUL0861.json', 'PMUL1713.json', 'SNG0389.json', 'PMUL1990.json', 'SNG0136.json', 'MUL1465.json', 'MUL1071.json', 'MUL0052.json', 'SNG0814.json', 'PMUL0266.json', 'PMUL4181.json', 'MUL1285.json', 'MUL1127.json', 'PMUL1214.json', 'SNG01648.json', 'SNG0523.json', 'PMUL4781.json', 'PMUL4654.json', 'WOZ20609.json', 'PMUL0313.json', 'WOZ20282.json', 'PMUL3799.json', 'PMUL0526.json', 'PMUL3606.json', 'MUL2481.json', 'PMUL3899.json', 'PMUL0668.json', 'SNG01763.json', 'SNG0158.json', 'SNG0851.json', 'MUL0324.json', 'MUL0850.json', 'MUL0363.json', 'PMUL4695.json', 'PMUL0890.json', 'PMUL3197.json', 'PMUL2366.json', 'MUL1352.json', 'PMUL0058.json', 'MUL1794.json', 'MUL1993.json', 'PMUL2062.json', 'MUL0775.json', 'PMUL0566.json', 'PMUL3450.json', 'PMUL2302.json', 'SNG0640.json', 'PMUL2296.json', 'MUL0192.json', 'SSNG0344.json', 'SSNG0319.json', 'SNG1145.json', 'PMUL4842.json', 'SSNG0225.json', 'PMUL1921.json', 'PMUL2610.json', 'SSNG0302.json', 'PMUL0209.json', 'PMUL3936.json', 'SNG1260.json', 'PMUL2169.json', 'WOZ20566.json', 'PMUL4093.json', 'MUL1697.json', 'PMUL4794.json', 'PMUL2765.json', 'PMUL2635.json', 'PMUL2894.json', 'PMUL1979.json', 'SNG0569.json', 'MUL1843.json', 'PMUL2681.json', 'MUL2423.json', 'SNG0675.json', 'WOZ20325.json', 'PMUL0003.json', 'PMUL4686.json', 'PMUL2762.json', 'PMUL4063.json', 'PMUL3343.json', 'SSNG0047.json', 'MUL0674.json', 'MUL0451.json', 'WOZ20457.json', 'SNG0653.json', 'PMUL1772.json', 'SNG0322.json', 'MUL1709.json', 'SNG01515.json', 'WOZ20321.json', 'SNG0443.json', 'PMUL0658.json', 'MUL0681.json', 'MUL1534.json', 'MUL2298.json', 'SNG1193.json', 'MUL0982.json', 'SNG0901.json', 'MUL0538.json', 'SNG1298.json', 'MUL0483.json', 'PMUL0598.json', 'MUL0286.json', 'PMUL1029.json', 'SNG0715.json', 'PMUL1111.json', 'SNG0484.json', 'MUL0680.json', 'SNG0600.json', 'PMUL0017.json', 'PMUL0636.json', 'SNG01267.json', 'WOZ20147.json', 'MUL2511.json', 'SNG02246.json', 'PMUL1251.json', 'MUL0179.json', 'PMUL0969.json', 'PMUL1866.json', 'MUL2654.json', 'PMUL3881.json', 'MUL0381.json', 'MUL0479.json', 'SNG1212.json', 'MUL0281.json', 'SNG01971.json', 'PMUL3610.json', 'PMUL4768.json', 'PMUL0681.json', 'PMUL3295.json', 'PMUL4588.json', 'PMUL2392.json', 'PMUL4930.json', 'PMUL0932.json', 'MUL0434.json', 'SNG01801.json', 'MUL0293.json', 'SNG1150.json', 'PMUL1655.json', 'SNG01486.json', 'MUL0338.json', 'MUL0125.json', 'MUL1557.json', 'SNG0625.json', 'SNG01424.json', 'PMUL3537.json', 'MUL0205.json', 'SNG0513.json', 'PMUL3677.json', 'SSNG0203.json', 'SNG0209.json', 'MUL1336.json', 'PMUL4844.json', 'MUL2659.json', 'PMUL4520.json', 'MUL0230.json', 'MUL1517.json', 'SNG0890.json', 'PMUL0473.json', 'MUL1663.json', 'SNG0528.json', 'MUL1266.json', 'PMUL0078.json', 'WOZ20483.json', 'MUL2127.json', 'MUL2287.json', 'PMUL3115.json', 'SNG0163.json', 'PMUL0543.json', 'PMUL0685.json', 'SNG1167.json', 'MUL1189.json', 'SNG02094.json', 'WOZ20650.json', 'PMUL2684.json', 'PMUL1028.json', 'MUL0287.json', 'MUL2139.json', 'PMUL3017.json', 'PMUL3635.json', 'SNG1386.json', 'PMUL0979.json', 'MUL0116.json', 'MUL2242.json', 'PMUL1514.json', 'MUL1680.json', 'MUL0141.json', 'MUL0154.json', 'MUL1723.json', 'PMUL4185.json', 'MUL1894.json', 'PMUL2147.json', 'PMUL2623.json', 'MUL2396.json', 'PMUL0180.json', 'MUL2580.json', 'MUL1360.json', 'PMUL2354.json', 'PMUL3521.json', 'PMUL2309.json', 'PMUL2312.json', 'SNG01933.json', 'SNG0721.json', 'MUL0313.json', 'MUL1742.json', 'SNG01239.json', 'MUL0005.json', 'PMUL3611.json', 'MUL0426.json', 'SNG0248.json', 'MUL0777.json', 'SSNG0110.json', 'PMUL3100.json', 'PMUL0911.json', 'MUL0148.json', 'PMUL3156.json', 'PMUL4096.json', 'MUL2620.json', 'PMUL1852.json', 'SNG02229.json', 'SSNG0306.json', 'PMUL3663.json', 'PMUL3204.json', 'SNG1016.json', 'MUL1002.json', 'PMUL3249.json', 'MUL1255.json', 'SNG01438.json', 'WOZ20608.json', 'WOZ20472.json', 'PMUL4996.json', 'MUL2416.json', 'PMUL0431.json', 'PMUL0166.json', 'PMUL1626.json', 'MUL2151.json', 'PMUL3569.json', 'PMUL4048.json', 'PMUL3543.json', 'SNG0652.json', 'SNG01674.json', 'MUL1662.json', 'MUL1090.json', 'SNG0197.json', 'PMUL2521.json', 'PMUL3520.json', 'MUL2211.json', 'PMUL1935.json', 'WOZ20010.json', 'MUL2417.json', 'PMUL4751.json', 'MUL2483.json', 'PMUL2540.json', 'MUL1744.json', 'SNG01296.json', 'SNG1161.json', 'MUL1165.json', 'PMUL3812.json', 'PMUL1932.json', 'MUL2216.json', 'SNG01897.json', 'SNG0744.json', 'MUL2468.json', 'PMUL1389.json', 'PMUL4698.json', 'MUL2677.json', 'PMUL2042.json', 'MUL2369.json', 'MUL0108.json', 'SNG1154.json', 'SNG01961.json', 'MUL0990.json', 'PMUL0549.json', 'SNG02220.json', 'MUL2648.json', 'PMUL1876.json', 'PMUL0246.json', 'PMUL1234.json', 'PMUL3667.json', 'SNG01471.json', 'PMUL0615.json', 'PMUL0631.json', 'PMUL0394.json', 'SNG0720.json', 'PMUL3547.json', 'PMUL4456.json', 'PMUL2288.json', 'MUL0170.json', 'PMUL3493.json', 'MUL2456.json', 'SSNG0377.json', 'MUL1385.json', 'PMUL3730.json', 'MUL0894.json', 'MUL2189.json', 'PMUL2612.json', 'SNG01880.json', 'WOZ20539.json', 'MUL1047.json', 'SSNG0023.json', 'SSNG0032.json', 'PMUL2715.json', 'PMUL2965.json', 'PMUL0208.json', 'PMUL1098.json', 'SNG01720.json', 'PMUL1134.json', 'PMUL0467.json', 'SNG02343.json', 'PMUL3792.json', 'PMUL4955.json', 'PMUL4225.json', 'MUL2182.json', 'SNG1250.json', 'PMUL0850.json', 'PMUL4105.json', 'SNG01437.json', 'PMUL0495.json', 'PMUL1014.json', 'MUL1294.json', 'PMUL3175.json', 'PMUL4983.json', 'MUL0672.json', 'SSNG0249.json', 'MUL1532.json', 'PMUL3671.json', 'SNG0262.json', 'WOZ20277.json', 'MUL1269.json', 'PMUL1611.json', 'MUL2184.json', 'SNG1045.json', 'PMUL3720.json', 'MUL0834.json', 'SNG02067.json', 'MUL1028.json', 'MUL0683.json', 'SSNG0271.json', 'MUL0505.json', 'PMUL0630.json', 'WOZ20123.json', 'WOZ20132.json', 'MUL0014.json', 'MUL1657.json', 'PMUL1790.json', 'SNG02193.json', 'PMUL2718.json', 'MUL0097.json', 'SNG0679.json', 'SSNG0231.json', 'PMUL4862.json', 'SNG0846.json', 'SNG0303.json', 'MUL2508.json', 'WOZ20442.json', 'SNG0398.json', 'MUL2311.json', 'SNG1085.json', 'MUL1105.json', 'SNG01983.json', 'SNG01309.json', 'SNG02297.json', 'PMUL0908.json', 'SNG0440.json', 'MUL2200.json', 'MUL1689.json', 'MUL2486.json', 'SNG0338.json', 'PMUL1117.json', 'MUL1686.json', 'WOZ20363.json', 'PMUL4116.json', 'PMUL1657.json', 'PMUL2289.json', 'SNG01791.json', 'MUL1796.json', 'MUL0551.json', 'MUL2161.json', 'SNG02178.json', 'MUL1140.json', 'MUL1436.json', 'PMUL2316.json', 'MUL0280.json', 'MUL1010.json', 'PMUL4232.json', 'SNG0755.json', 'SSNG0217.json', 'SNG1176.json', 'MUL2307.json', 'PMUL4092.json', 'PMUL3827.json', 'PMUL1584.json', 'MUL0996.json', 'SNG0587.json', 'MUL0140.json', 'MUL0533.json', 'PMUL0639.json', 'MUL1414.json', 'MUL2207.json', 'MUL1635.json', 'PMUL2857.json', 'SNG01500.json', 'PMUL1311.json', 'PMUL4997.json', 'PMUL0216.json', 'SNG0795.json', 'PMUL0441.json', 'PMUL0278.json', 'SNG02248.json', 'WOZ20337.json', 'PMUL3105.json', 'SNG0457.json', 'PMUL0522.json', 'SNG0879.json', 'SNG02192.json', 'MUL0224.json', 'SNG0700.json', 'MUL0759.json', 'PMUL3360.json', 'MUL0031.json', 'PMUL4959.json', 'PMUL0213.json', 'PMUL2209.json', 'MUL1095.json', 'PMUL2707.json', 'MUL1688.json', 'WOZ20344.json', 'SNG0713.json', 'WOZ20317.json', 'WOZ20100.json', 'PMUL0226.json', 'SNG0458.json', 'MUL0828.json', 'MUL1391.json', 'PMUL2557.json', 'SNG01687.json', 'PMUL0652.json', 'PMUL3867.json', 'SNG0479.json', 'SNG01186.json', 'SNG1214.json', 'MUL1162.json', 'WOZ20670.json', 'PMUL3786.json', 'PMUL0666.json', 'PMUL4691.json', 'PMUL2682.json', 'PMUL3929.json', 'PMUL2576.json', 'SNG02201.json', 'SNG1261.json', 'MUL1353.json', 'PMUL2367.json', 'MUL2201.json', 'SNG0326.json', 'PMUL2685.json', 'SSNG0124.json', 'SNG0876.json', 'PMUL3284.json', 'SNG0438.json', 'PMUL0746.json', 'MUL0796.json', 'PMUL4977.json', 'PMUL1872.json', 'SNG0224.json', 'PMUL1431.json', 'PMUL0518.json', 'MUL1464.json', 'PMUL4721.json', 'SNG1274.json', 'WOZ20527.json', 'MUL1962.json', 'PMUL2031.json', 'SNG01385.json', 'MUL0861.json', 'MUL0475.json', 'MUL0942.json', 'MUL0246.json', 'MUL0038.json', 'MUL1821.json', 'PMUL4589.json', 'PMUL1652.json', 'MUL1337.json', 'MUL0181.json', 'MUL0493.json', 'MUL1207.json', 'MUL1020.json', 'PMUL2597.json', 'PMUL3872.json', 'PMUL0654.json', 'SSNG0129.json', 'PMUL0350.json', 'MUL1278.json', 'SNG0276.json', 'PMUL3573.json', 'WOZ20024.json', 'MUL2414.json', 'MUL1215.json', 'PMUL0161.json', 'PMUL3170.json', 'SNG02123.json', 'SNG01895.json', 'MUL1163.json', 'PMUL1370.json', 'MUL0467.json', 'PMUL1945.json', 'PMUL4307.json', 'MUL0910.json', 'SNG02131.json', 'SNG0581.json', 'SSNG0022.json', 'SNG1101.json', 'MUL2383.json', 'PMUL2833.json', 'PMUL3715.json', 'SNG0811.json', 'MUL0827.json', 'PMUL2297.json', 'PMUL3198.json', 'PMUL0596.json', 'PMUL3387.json', 'PMUL4312.json', 'PMUL3866.json', 'SNG0591.json', 'PMUL0020.json', 'MUL0802.json', 'PMUL4582.json', 'MUL2067.json', 'PMUL1787.json', 'PMUL0632.json', 'SNG1225.json', 'WOZ20029.json', 'SNG0065.json', 'PMUL3704.json', 'MUL1122.json', 'PMUL0935.json', 'SNG01857.json', 'PMUL3674.json', 'SSNG0104.json', 'MUL0726.json', 'PMUL3732.json', 'PMUL2273.json', 'MUL2129.json', 'PMUL3703.json', 'PMUL3550.json', 'SNG0039.json', 'SSNG0324.json', 'PMUL2078.json', 'WOZ20426.json', 'PMUL1221.json', 'PMUL2975.json', 'MUL0574.json', 'MUL2516.json', 'PMUL1948.json', 'PMUL4462.json', 'PMUL1622.json', 'MUL2155.json', 'PMUL3430.json', 'PMUL3697.json', 'PMUL0888.json', 'PMUL4417.json', 'PMUL0970.json', 'PMUL0485.json', 'PMUL2760.json', 'MUL2004.json', 'MUL1446.json', 'MUL1039.json', 'PMUL0420.json', 'SNG0187.json', 'PMUL3334.json', 'MUL1271.json', 'MUL1254.json', 'PMUL1750.json', 'PMUL0879.json', 'SNG0642.json', 'SNG01230.json', 'MUL2089.json', 'SNG1139.json', 'PMUL1688.json', 'PMUL3903.json', 'SNG0351.json', 'PMUL3112.json', 'PMUL0511.json', 'MUL1683.json', 'WOZ20004.json', 'SNG01266.json', 'MUL1978.json', 'MUL1406.json', 'MUL1006.json', 'MUL2293.json', 'SNG0563.json', 'SNG01359.json', 'PMUL3604.json', 'PMUL0590.json', 'PMUL1797.json', 'SNG0454.json', 'MUL1083.json', 'PMUL2217.json', 'SNG01889.json', 'MUL2697.json', 'SNG0260.json', 'MUL0022.json', 'MUL0960.json', 'SNG0469.json', 'PMUL2456.json', 'WOZ20331.json', 'SNG0095.json', 'SNG01451.json', 'PMUL3832.json', 'MUL0696.json', 'PMUL0191.json', 'PMUL4394.json', 'PMUL3714.json', 'SSNG0096.json', 'PMUL4310.json', 'MUL0498.json', 'SNG0622.json', 'SNG01649.json', 'PMUL2622.json', 'SNG0705.json', 'SNG1202.json', 'PMUL4106.json', 'PMUL0578.json', 'PMUL4359.json', 'MUL1509.json', 'MUL2505.json', 'MUL0553.json', 'SNG0062.json', 'PMUL4331.json', 'MUL0197.json', 'PMUL3323.json', 'PMUL3853.json', 'PMUL3879.json', 'MUL2146.json', 'MUL1695.json', 'SNG01924.json', 'SSNG0278.json', 'PMUL0260.json', 'SNG1331.json', 'PMUL4597.json', 'MUL2054.json', 'PMUL3626.json', 'PMUL3044.json', 'SNG0654.json', 'SNG0193.json', 'MUL2644.json', 'MUL2225.json', 'PMUL4311.json', 'MUL0890.json', 'WOZ20196.json', 'PMUL2039.json', 'SNG01477.json', 'PMUL2402.json', 'PMUL3605.json', 'MUL2480.json', 'PMUL4752.json', 'PMUL1187.json', 'MUL0737.json', 'SNG0049.json', 'SNG1317.json', 'MUL0583.json', 'SSNG0168.json', 'PMUL2467.json', 'PMUL4097.json', 'MUL1393.json', 'MUL1600.json', 'PMUL3917.json', 'PMUL4755.json', 'MUL2487.json', 'PMUL3984.json', 'PMUL1228.json', 'SNG0740.json', 'MUL1632.json', 'WOZ20523.json', 'PMUL1886.json', 'MUL2670.json', 'PMUL3311.json', 'MUL2206.json', 'SNG01864.json', 'SNG01697.json', 'PMUL3102.json', 'MUL2510.json', 'SNG0717.json', 'PMUL4186.json', 'MUL0713.json', 'MUL1335.json', 'SSNG0186.json', 'WOZ20378.json', 'MUL2365.json', 'PMUL1801.json', 'MUL1677.json', 'SNG02326.json', 'MUL2568.json', 'PMUL0156.json', 'PMUL1258.json', 'PMUL0291.json', 'SNG02335.json', 'MUL0023.json', 'PMUL3622.json', 'SNG01245.json', 'MUL1694.json', 'PMUL3231.json', 'MUL1161.json', 'PMUL1722.json', 'PMUL4304.json', 'SNG01893.json', 'MUL2281.json', 'WOZ20068.json', 'SNG02112.json', 'SNG0786.json', 'PMUL0454.json', 'PMUL2555.json', 'MUL1413.json', 'PMUL1798.json', 'PMUL1665.json', 'SSNG0144.json', 'PMUL2883.json', 'PMUL0283.json', 'PMUL2334.json', 'PMUL0653.json', 'PMUL1195.json', 'SNG0638.json', 'MUL2126.json', 'SSNG0305.json', 'SSNG0199.json', 'SNG0008.json', 'MUL1553.json', 'PMUL3411.json', 'PMUL4763.json', 'WOZ20405.json', 'PMUL0900.json', 'PMUL0204.json', 'SNG0731.json', 'SNG01529.json', 'PMUL2029.json', 'MUL1958.json', 'MUL1935.json', 'MUL1673.json', 'PMUL0921.json', 'PMUL2104.json', 'MUL1857.json', 'SNG0716.json', 'SNG0283.json', 'PMUL3734.json', 'MUL0320.json', 'SSNG0340.json', 'WOZ20538.json', 'PMUL4802.json', 'MUL1732.json', 'SNG1349.json', 'MUL0466.json', 'PMUL4323.json', 'WOZ20044.json', 'PMUL3434.json', 'MUL0689.json', 'PMUL1848.json', 'PMUL3562.json', 'PMUL1899.json', 'SNG02096.json', 'PMUL2615.json', 'WOZ20205.json', 'MUL0300.json', 'MUL1256.json', 'PMUL4533.json', 'PMUL0548.json', 'PMUL1280.json', 'MUL1333.json', 'PMUL1101.json', 'WOZ20666.json', 'MUL0543.json', 'PMUL4739.json', 'MUL2427.json', 'SNG0365.json', 'PMUL1930.json', 'MUL2214.json', 'MUL1834.json', 'MUL1620.json', 'SNG0341.json', 'SNG0735.json', 'SNG01235.json', 'MUL2473.json', 'PMUL4761.json', 'PMUL0845.json', 'PMUL4532.json', 'SNG1374.json', 'WOZ20240.json', 'PMUL1533.json', 'PMUL4580.json', 'MUL2065.json', 'SNG01285.json', 'PMUL1653.json', 'MUL2042.json', 'MUL1776.json', 'MUL1289.json', 'SSNG0093.json', 'SSNG0251.json', 'MUL1087.json', 'PMUL2213.json', 'SNG0935.json', 'MUL0070.json', 'PMUL3229.json', 'MUL2596.json', 'MUL0588.json', 'PMUL3940.json', 'PMUL1099.json', 'MUL0684.json', 'SNG1105.json', 'PMUL4347.json', 'WOZ20456.json', 'MUL2556.json', 'MUL1511.json', 'MUL2474.json', 'SNG01497.json', 'PMUL4420.json', 'PMUL2659.json', 'PMUL4906.json', 'SNG02070.json', 'SNG1008.json', 'MUL0841.json', 'PMUL4892.json', 'SNG0762.json', 'PMUL0116.json', 'PMUL0445.json', 'MUL0008.json', 'MUL1644.json', 'MUL0007.json', 'SNG0915.json', 'SNG01368.json', 'PMUL0070.json', 'PMUL4418.json', 'PMUL3405.json', 'WOZ20450.json', 'MUL0372.json', 'PMUL3396.json', 'PMUL1764.json', 'PMUL4033.json', 'SNG01394.json', 'WOZ20193.json', 'MUL1198.json', 'WOZ20063.json', 'PMUL0671.json', 'PMUL3480.json', 'MUL1429.json', 'PMUL0111.json', 'SNG0134.json', 'MUL0096.json', 'PMUL2115.json', 'MUL1702.json', 'PMUL4138.json', 'MUL1607.json', 'SNG0026.json', 'PMUL0807.json', 'PMUL2843.json', 'SNG02074.json', 'PMUL4259.json', 'PMUL1809.json', 'PMUL0103.json', 'PMUL2926.json', 'PMUL4952.json', 'SNG0012.json', 'SNG0509.json', 'PMUL2433.json', 'MUL1037.json', 'WOZ20416.json', 'MUL1094.json', 'PMUL2208.json', 'MUL2567.json', 'MUL2472.json', 'MUL2680.json', 'MUL1307.json', 'PMUL3509.json', 'SSNG0209.json', 'PMUL2408.json', 'SNG1075.json', 'SNG01240.json', 'SNG01858.json', 'SNG0969.json', 'SNG0319.json', 'MUL2529.json', 'WOZ20535.json', 'MUL0706.json', 'SNG01332.json', 'SNG0055.json', 'MUL1011.json', 'PMUL2613.json', 'PMUL4108.json', 'PMUL2315.json', 'PMUL1687.json', 'SSNG0202.json', 'PMUL2776.json', 'SNG0777.json', 'WOZ20357.json', 'PMUL1112.json', 'SSNG0001.json', 'PMUL2905.json', 'SNG0596.json', 'MUL0645.json', 'PMUL0752.json', 'MUL2158.json', 'SNG0559.json', 'MUL2060.json', 'PMUL4585.json', 'MUL1364.json', 'MUL1103.json', 'PMUL2492.json', 'PMUL3937.json', 'PMUL0117.json', 'SSNG0204.json', 'MUL2373.json', 'PMUL3630.json', 'WOZ20309.json', 'SNG01896.json', 'PMUL1744.json', 'SNG01601.json', 'SNG1078.json', 'SNG02000.json', 'MUL2671.json', 'PMUL1887.json', 'SNG01990.json', 'MUL1606.json', 'PMUL2638.json', 'PMUL1076.json', 'SNG02150.json', 'PMUL3301.json', 'SNG0020.json', 'PMUL2086.json', 'SNG0634.json', 'MUL0682.json', 'SSNG0145.json', 'SSNG0239.json', 'PMUL2146.json', 'MUL1895.json', 'PMUL1628.json', 'SNG02226.json', 'PMUL0471.json', 'MUL1036.json', 'PMUL0990.json', 'PMUL4907.json', 'SNG1226.json', 'PMUL1819.json', 'MUL2375.json', 'WOZ20101.json', 'SNG0046.json', 'SNG0162.json', 'MUL2682.json', 'PMUL4457.json', 'PMUL3383.json', 'PMUL4586.json', 'PMUL0075.json', 'PMUL0175.json', 'SSNG0238.json', 'MUL1392.json', 'SNG1232.json', 'PMUL3171.json', 'PMUL2140.json', 'MUL1893.json', 'MUL0966.json', 'PMUL3243.json', 'SNG01222.json', 'PMUL3731.json', 'SNG01448.json', 'SNG01703.json', 'PMUL0282.json', 'PMUL0456.json', 'SNG0780.json', 'MUL2079.json', 'PMUL3906.json', 'MUL2545.json', 'SNG0157.json', 'SNG0872.json', 'PMUL1346.json', 'MUL0431.json', 'MUL2413.json', 'PMUL1871.json', 'SNG01713.json', 'PMUL4593.json', 'MUL2050.json', 'WOZ20339.json', 'SSNG0081.json', 'PMUL2933.json', 'PMUL2544.json', 'SNG02022.json', 'PMUL2687.json', 'PMUL4145.json', 'MUL1561.json', 'SNG01972.json', 'MUL0284.json', 'MUL1334.json', 'PMUL0331.json', 'PMUL3818.json', 'WOZ20413.json', 'WOZ20338.json', 'PMUL3069.json', 'MUL1855.json', 'SNG02293.json', 'MUL2159.json', 'SNG01815.json', 'SNG0741.json', 'WOZ20558.json', 'PMUL3216.json', 'PMUL0414.json', 'PMUL3077.json', 'SNG0007.json', 'PMUL4343.json', 'PMUL2205.json', 'MUL1099.json', 'PMUL2429.json', 'SNG01631.json', 'PMUL2695.json', 'SNG02216.json', 'SNG0633.json', 'PMUL0063.json', 'MUL0502.json', 'MUL0307.json', 'MUL0887.json', 'PMUL4789.json', 'PMUL4133.json', 'PMUL2282.json', 'SNG01840.json', 'SNG01554.json', 'PMUL1037.json', 'PMUL0660.json', 'WOZ20654.json', 'SNG0183.json', 'MUL2114.json', 'PMUL0470.json', 'MUL2668.json', 'SNG1126.json', 'MUL1076.json', 'MUL0757.json', 'MUL0503.json', 'MUL1811.json', 'SNG02160.json', 'SNG02347.json', 'PMUL1728.json', 'PMUL0393.json', 'SNG02338.json', 'MUL1804.json', 'SNG1353.json', 'PMUL2507.json', 'MUL0002.json', 'PMUL0019.json', 'PMUL2503.json', 'PMUL4734.json', 'PMUL4274.json', 'SNG0672.json', 'SNG1178.json', 'MUL1478.json', 'SNG01232.json', 'MUL2688.json', 'WOZ20401.json', 'PMUL2964.json', 'SNG01204.json', 'PMUL0568.json', 'PMUL0502.json', 'PMUL3127.json', 'MUL2521.json', 'MUL0465.json', 'SNG01683.json', 'MUL0929.json', 'WOZ20093.json', 'PMUL3275.json', 'SNG01715.json', 'PMUL3966.json', 'PMUL0521.json', 'MUL1245.json', 'PMUL3969.json', 'PMUL3264.json', 'MUL2368.json', 'MUL0312.json', 'PMUL4358.json', 'MUL1502.json', 'PMUL1315.json', 'PMUL4658.json', 'SNG02062.json', 'MUL0196.json', 'PMUL1746.json', 'PMUL4958.json', 'SSNG0223.json', 'PMUL2322.json', 'PMUL4065.json', 'PMUL1704.json', 'PMUL2608.json', 'PMUL4481.json', 'MUL2533.json', 'SNG0168.json', 'PMUL3452.json', 'MUL2475.json', 'PMUL4767.json', 'SNG01947.json', 'MUL0930.json', 'MUL1457.json', 'MUL2292.json', 'MUL2415.json', 'PMUL4279.json', 'PMUL0255.json', 'PMUL1284.json', 'MUL0733.json', 'PMUL3577.json', 'MUL1112.json', 'SNG01670.json', 'PMUL1926.json', 'PMUL2631.json', 'PMUL4719.json', 'PMUL1392.json', 'PMUL4070.json', 'PMUL1467.json', 'SNG01875.json', 'SNG0540.json', 'SNG02179.json', 'MUL0306.json', 'PMUL0506.json', 'SNG1106.json', 'SNG02331.json', 'SNG01999.json', 'PMUL3840.json', 'MUL1977.json', 'MUL1850.json', 'PMUL2103.json', 'MUL1604.json', 'SNG01996.json', 'PMUL2924.json', 'SNG0983.json', 'MUL1493.json', 'MUL0279.json', 'MUL0081.json', 'PMUL1479.json', 'PMUL0793.json', 'MUL1542.json', 'PMUL2943.json', 'MUL0091.json', 'MUL2017.json', 'PMUL1741.json', 'PMUL2298.json', 'WOZ20534.json', 'MUL1305.json', 'PMUL0110.json', 'PMUL0405.json', 'MUL2005.json', 'SNG02185.json', 'PMUL3000.json', 'SNG0500.json', 'SSNG0214.json', 'MUL1126.json', 'PMUL1233.json', 'SNG0480.json', 'MUL0054.json', 'PMUL2744.json', 'MUL2147.json', 'PMUL3878.json', 'SNG1275.json', 'SSNG0384.json', 'MUL1500.json', 'SNG1115.json', 'MUL1952.json', 'MUL1231.json', 'SNG0782.json', 'PMUL0450.json', 'PMUL0197.json', 'SSNG0309.json', 'MUL0223.json', 'MUL1471.json', 'SNG1238.json', 'MUL0858.json', 'MUL0933.json', 'PMUL0024.json', 'PMUL4200.json', 'MUL1849.json', 'SNG01753.json', 'MUL0571.json', 'SNG01339.json', 'PMUL1723.json', 'PMUL0050.json', 'MUL1273.json', 'PMUL2552.json', 'MUL0923.json', 'PMUL2111.json', 'MUL1860.json', 'MUL0496.json', 'PMUL0359.json', 'SNG1304.json', 'PMUL1411.json', 'MUL0352.json', 'MUL0420.json', 'MUL2039.json', 'PMUL4757.json', 'MUL2485.json', 'MUL1971.json', 'WOZ20284.json', 'SSNG0153.json', 'PMUL0916.json', 'PMUL4642.json', 'MUL2066.json', 'PMUL4583.json', 'MUL2700.json', 'WOZ20209.json', 'SNG02253.json', 'MUL1778.json', 'SNG1340.json', 'PMUL4584.json', 'MUL2061.json', 'MUL1298.json', 'MUL1418.json', 'SSNG0196.json', 'PMUL3409.json', 'PMUL1017.json', 'WOZ20185.json', 'PMUL4355.json', 'PMUL1786.json', 'PMUL4979.json', 'MUL1929.json', 'MUL0333.json', 'SNG01755.json', 'MUL2493.json', 'MUL0319.json', 'PMUL1194.json', 'PMUL4268.json', 'MUL1319.json', 'PMUL4645.json', 'PMUL2516.json', 'PMUL4865.json', 'SNG1164.json', 'PMUL1100.json', 'PMUL4828.json', 'MUL0061.json', 'PMUL0160.json', 'WOZ20053.json', 'SNG1036.json', 'PMUL4657.json', 'MUL0365.json', 'MUL1272.json', 'PMUL3020.json', 'PMUL2921.json', 'SNG02021.json', 'PMUL0073.json', 'SNG1136.json', 'MUL0134.json', 'PMUL0333.json', 'MUL0472.json', 'PMUL3128.json', 'MUL0237.json', 'PMUL0074.json', 'SNG0044.json', 'PMUL3801.json', 'WOZ20096.json', 'PMUL3325.json', 'MUL1098.json', 'PMUL2204.json', 'SNG01813.json', 'MUL2038.json', 'MUL0951.json', 'PMUL1259.json', 'PMUL3563.json', 'MUL1054.json', 'SNG01236.json', 'SNG02141.json', 'MUL0165.json', 'MUL1947.json', 'PMUL1780.json', 'SNG0334.json', 'PMUL2600.json', 'SNG1338.json', 'PMUL4452.json', 'MUL1259.json', 'MUL2202.json', 'MUL0215.json', 'MUL1516.json', 'MUL0597.json', 'PMUL2585.json', 'WOZ20415.json', 'PMUL3095.json', 'PMUL3957.json', 'SNG1037.json', 'PMUL3392.json', 'MUL1199.json', 'WOZ20192.json', 'MUL2444.json', 'PMUL4716.json', 'PMUL1988.json', 'WOZ20412.json', 'SNG01852.json', 'MUL1574.json', 'SNG0033.json', 'SNG0643.json', 'PMUL2892.json', 'MUL0500.json', 'PMUL3309.json', 'SNG1135.json', 'PMUL4164.json', 'PMUL0149.json', 'WOZ20125.json', 'PMUL1149.json', 'SNG02194.json', 'PMUL2554.json', 'PMUL1257.json', 'PMUL2210.json', 'MUL1084.json', 'PMUL2937.json', 'SNG01229.json', 'SSNG0325.json', 'SNG0038.json', 'MUL2381.json', 'PMUL4401.json', 'PMUL4528.json', 'MUL0086.json', 'PMUL1651.json', 'SSNG0162.json', 'PMUL2822.json', 'SNG0493.json', 'MUL1286.json', 'PMUL0657.json', 'PMUL0609.json', 'PMUL0757.json', 'MUL1303.json', 'MUL1626.json', 'PMUL2319.json', 'SSNG0323.json', 'PMUL0628.json', 'SNG01662.json', 'MUL1837.json', 'PMUL0514.json', 'SNG01353.json', 'SNG01993.json', 'PMUL1393.json', 'SNG01610.json', 'SNG01762.json', 'MUL1827.json', 'PMUL3228.json', 'MUL2532.json', 'PMUL4480.json', 'PMUL3692.json', 'SNG0227.json', 'SNG1025.json', 'SNG0245.json', 'PMUL3424.json', 'SNG0208.json', 'PMUL1647.json', 'MUL1835.json', 'SNG1116.json', 'PMUL0006.json', 'WOZ20225.json', 'PMUL4599.json', 'SNG02103.json', 'PMUL4489.json', 'MUL1428.json', 'PMUL0186.json', 'SSNG0220.json', 'PMUL2988.json', 'SNG0496.json', 'PMUL1914.json', 'MUL2230.json', 'WOZ20062.json', 'WOZ20488.json', 'PMUL1813.json', 'SNG0069.json', 'PMUL0336.json', 'PMUL2563.json', 'SNG01579.json', 'SSNG0016.json', 'SNG01777.json', 'WOZ20223.json', 'SNG01480.json', 'PMUL0242.json', 'SNG01306.json', 'PMUL0046.json', 'PMUL0455.json', 'PMUL0919.json', 'PMUL4300.json', 'SNG0485.json', 'MUL0120.json', 'PMUL0791.json', 'MUL0087.json', 'PMUL3230.json', 'MUL0260.json', 'SNG01985.json', 'SNG01566.json', 'PMUL0069.json', 'PMUL2876.json', 'SNG02114.json', 'SNG0284.json', 'PMUL2463.json', 'MUL1809.json', 'SNG01541.json', 'PMUL3289.json', 'PMUL0749.json', 'MUL2380.json', 'SSNG0247.json', 'PMUL1108.json', 'MUL1565.json', 'SNG0313.json', 'MUL1856.json', 'PMUL2105.json', 'SNG0630.json', 'SNG0441.json', 'PMUL3106.json', 'WOZ20116.json', 'PMUL2021.json', 'MUL1482.json', 'MUL1552.json', 'MUL2643.json', 'PMUL4387.json', 'SNG01910.json', 'PMUL2102.json', 'MUL1851.json', 'PMUL3132.json', 'SNG1121.json', 'PMUL0713.json', 'MUL1012.json', 'PMUL2788.json', 'MUL1194.json', 'PMUL2611.json', 'PMUL3945.json', 'SNG0943.json', 'SNG0902.json', 'SNG02151.json', 'SNG1035.json', 'MUL0461.json', 'PMUL3310.json', 'SNG02330.json', 'SNG0278.json', 'SNG01967.json', 'SNG0647.json', 'PMUL0834.json', 'PMUL4882.json', 'MUL2019.json', 'PMUL3768.json', 'PMUL4177.json', 'PMUL1289.json', 'SNG01984.json', 'SNG01811.json', 'MUL0404.json', 'MUL0652.json', 'MUL0460.json', 'PMUL3294.json', 'SNG02043.json', 'MUL2590.json', 'PMUL0296.json', 'PMUL3316.json', 'PMUL0364.json', 'SNG01407.json', 'PMUL2428.json', 'PMUL3242.json', 'SNG0538.json', 'SNG0096.json', 'PMUL4354.json', 'MUL0719.json', 'MUL1808.json', 'PMUL0874.json', 'MUL0609.json', 'WOZ20507.json', 'SSNG0051.json', 'PMUL3150.json', 'PMUL2904.json', 'MUL2257.json', 'SNG0839.json', 'PMUL2847.json', 'SNG01712.json', 'PMUL1828.json', 'PMUL0461.json', 'MUL2402.json', 'SNG0395.json', 'PMUL0338.json', 'PMUL4385.json', 'SSNG0188.json', 'SNG02219.json', 'PMUL1527.json', 'SNG01626.json', 'PMUL0446.json', 'SNG1201.json', 'PMUL3373.json', 'MUL1267.json', 'PMUL3398.json', 'MUL0217.json', 'MUL1159.json', 'WOZ20659.json', 'MUL1737.json', 'MUL1481.json', 'PMUL3030.json', 'SNG01684.json', 'PMUL2528.json', 'PMUL3337.json', 'PMUL0612.json', 'PMUL1469.json', 'PMUL4644.json', 'WOZ20151.json', 'PMUL4000.json', 'SNG0307.json', 'SNG0445.json', 'PMUL0320.json', 'MUL0379.json', 'PMUL4001.json', 'PMUL4536.json', 'PMUL4340.json', 'PMUL0620.json', 'MUL1801.json', 'MUL1358.json', 'SNG0126.json', 'SSNG0232.json', 'PMUL3634.json', 'MUL1003.json', 'MUL1651.json', 'SNG01739.json', 'MUL2479.json', 'SNG0336.json', 'PMUL2572.json', 'SNG01641.json', 'SNG01665.json', 'SNG0694.json', 'PMUL1544.json', 'SNG01930.json', 'MUL1823.json', 'PMUL0465.json', 'MUL1369.json', 'SNG0002.json', 'PMUL3923.json', 'MUL1955.json', 'PMUL2024.json', 'PMUL2927.json', 'SNG0054.json', 'MUL1359.json', 'PMUL1692.json', 'PMUL2807.json', 'PMUL1288.json', 'SNG0932.json', 'PMUL2920.json', 'PMUL3495.json', 'PMUL3751.json', 'MUL1306.json', 'MUL0952.json', 'MUL0351.json', 'MUL1576.json', 'MUL0721.json', 'MUL1486.json', 'MUL0226.json', 'WOZ20465.json', 'SNG1129.json', 'PMUL2083.json', 'PMUL0894.json', 'MUL0740.json', 'PMUL0276.json', 'PMUL0159.json', 'SNG1180.json', 'WOZ20219.json', 'PMUL3381.json', 'SNG0412.json', 'PMUL1681.json', 'MUL2689.json', 'SNG0753.json', 'SNG0557.json', 'SNG0325.json', 'PMUL1358.json', 'MUL0958.json', 'SNG01459.json', 'PMUL0432.json', 'PMUL1245.json', 'PMUL3261.json', 'SNG01431.json', 'WOZ20582.json', 'PMUL0798.json', 'MUL0378.json', 'PMUL2099.json', 'MUL0085.json', 'PMUL0797.json', 'PMUL4036.json', 'SNG0335.json', 'PMUL0682.json', 'PMUL2669.json', 'MUL1420.json', 'WOZ20306.json', 'SNG0304.json', 'SNG01982.json', 'MUL2080.json', 'PMUL4525.json', 'SNG01664.json', 'SNG01827.json', 'WOZ20257.json', 'MUL0342.json', 'PMUL3456.json', 'SNG1127.json', 'PMUL4166.json', 'SNG01698.json', 'MUL1440.json', 'WOZ20468.json', 'MUL1943.json', 'PMUL1880.json', 'MUL2676.json', 'PMUL0706.json', 'PMUL1046.json', 'SNG01568.json', 'PMUL4008.json', 'SNG01917.json', 'PMUL4264.json', 'SSNG0294.json', 'MUL1550.json', 'MUL1230.json', 'SNG0527.json', 'PMUL3380.json', 'PMUL0942.json', 'PMUL1204.json', 'PMUL1881.json', 'SNG0561.json', 'SNG0663.json', 'PMUL3849.json', 'PMUL1811.json', 'SNG01218.json', 'PMUL0994.json', 'SNG0388.json', 'MUL0570.json', 'MUL2608.json', 'MUL1939.json', 'SSNG0259.json', 'PMUL1207.json', 'SNG01182.json', 'PMUL4250.json', 'PMUL3785.json', 'PMUL4598.json', 'SNG0437.json', 'MUL0768.json', 'SNG0223.json', 'SNG0405.json', 'PMUL4662.json', 'SNG0574.json', 'PMUL4530.json', 'SNG0498.json', 'PMUL0285.json', 'MUL1609.json', 'SNG02052.json', 'PMUL2413.json', 'MUL1408.json', 'MUL2152.json', 'PMUL1625.json', 'MUL1462.json', 'PMUL4548.json', 'SNG0516.json', 'PMUL0363.json', 'MUL2560.json', 'PMUL4051.json', 'MUL1829.json', 'SNG0867.json', 'SNG0541.json', 'PMUL3291.json', 'PMUL4994.json', 'MUL0710.json', 'MUL1441.json', 'PMUL3147.json', 'PMUL2802.json', 'PMUL0330.json', 'SNG01585.json', 'PMUL0284.json', 'MUL0249.json', 'SNG01873.json', 'MUL2636.json', 'PMUL0768.json', 'SNG02109.json', 'PMUL0337.json', 'MUL0817.json', 'SNG0956.json', 'WOZ20359.json', 'MUL1195.json', 'WOZ20477.json', 'SNG01916.json', 'SNG0976.json', 'MUL0634.json', 'PMUL2175.json', 'PMUL0068.json', 'PMUL1238.json', 'PMUL1466.json', 'PMUL3788.json', 'MUL1151.json', 'PMUL1077.json', 'PMUL0910.json', 'MUL0922.json', 'SNG0175.json', 'WOZ20597.json', 'PMUL4034.json', 'PMUL4154.json', 'PMUL4443.json', 'MUL1899.json', 'MUL1466.json', 'MUL2471.json', 'MUL1262.json', 'SNG0845.json', 'PMUL4446.json', 'MUL0492.json', 'PMUL4341.json', 'PMUL3190.json', 'MUL1752.json', 'PMUL0571.json', 'PMUL0541.json', 'SNG01496.json', 'WOZ20097.json', 'PMUL4613.json', 'PMUL1071.json', 'PMUL3540.json', 'SNG0024.json', 'SNG0370.json', 'SNG02207.json', 'MUL0463.json', 'SNG0532.json', 'SSNG0397.json', 'PMUL0362.json', 'PMUL3886.json', 'MUL1525.json', 'SSNG0385.json', 'SNG02333.json', 'PMUL1468.json', 'PMUL2178.json', 'WOZ20186.json', 'PMUL2872.json', 'PMUL3050.json', 'MUL0909.json', 'SSNG0222.json', 'MUL0383.json', 'PMUL4178.json', 'PMUL4223.json', 'MUL0318.json', 'MUL2063.json', 'PMUL2291.json', 'MUL1417.json', 'PMUL2119.json', 'WOZ20088.json', 'PMUL0114.json', 'MUL2378.json', 'PMUL1814.json', 'SNG0198.json', 'MUL1570.json', 'WOZ20627.json', 'SNG01740.json', 'PMUL1525.json', 'MUL1088.json', 'SNG0608.json', 'PMUL1032.json', 'PMUL1703.json', 'MUL1133.json', 'PMUL0411.json', 'PMUL3369.json', 'SNG0270.json', 'PMUL4022.json', 'SNG0045.json', 'PMUL4859.json', 'MUL1904.json', 'PMUL4665.json', 'PMUL3877.json', 'MUL2148.json', 'PMUL3797.json', 'SNG01485.json', 'SNG01320.json', 'PMUL3557.json', 'MUL1726.json', 'WOZ20285.json', 'MUL1970.json', 'MUL0507.json', 'MUL0720.json', 'SNG02181.json', 'MUL2457.json', 'SNG1054.json', 'MUL1055.json', 'MUL0504.json', 'PMUL3462.json', 'PMUL0397.json', 'PMUL4777.json', 'MUL2461.json', 'PMUL0076.json', 'SNG1257.json', 'MUL0849.json', 'PMUL3628.json', 'SNG01399.json', 'PMUL0018.json', 'WOZ20158.json', 'PMUL4440.json', 'MUL0821.json', 'PMUL3549.json', 'SNG02332.json', 'SNG01666.json', 'SNG0086.json', 'PMUL0199.json', 'MUL0067.json', 'SSNG0113.json', 'SNG01404.json', 'PMUL0792.json', 'PMUL0814.json', 'PMUL0977.json', 'MUL1235.json', 'PMUL2167.json', 'SNG0797.json', 'PMUL3646.json', 'PMUL3375.json', 'SNG01520.json', 'PMUL1188.json', 'PMUL0594.json', 'SNG0909.json', 'SNG0462.json', 'MUL2409.json', 'MUL2348.json', 'SNG1361.json', 'SNG0542.json', 'SNG01326.json', 'MUL1382.json', 'WOZ20410.json', 'MUL1679.json', 'SNG0100.json', 'SNG02319.json', 'PMUL0253.json', 'PMUL0486.json', 'PMUL0649.json', 'SNG0216.json', 'MUL1953.json', 'PMUL2022.json', 'WOZ20532.json', 'SNG01384.json', 'SNG0061.json', 'WOZ20580.json', 'PMUL4490.json', 'MUL2526.json', 'PMUL4547.json', 'MUL2107.json', 'PMUL1397.json', 'MUL2326.json', 'MUL1954.json', 'PMUL3458.json', 'SNG01352.json', 'MUL0422.json', 'PMUL3158.json', 'SNG01575.json', 'SNG0535.json', 'MUL0536.json', 'PMUL4797.json', 'PMUL4509.json', 'SNG01260.json', 'PMUL0152.json', 'PMUL3535.json', 'SNG1024.json', 'PMUL1302.json', 'SNG0671.json', 'WOZ20347.json', 'PMUL3453.json', 'SNG01862.json', 'PMUL4943.json', 'MUL1985.json', 'MUL2391.json', 'SNG0835.json', 'SNG0889.json', 'MUL0090.json', 'SSNG0359.json', 'PMUL1418.json', 'SNG1291.json', 'PMUL1520.json', 'SNG01914.json', 'MUL0277.json', 'PMUL2824.json', 'PMUL3370.json', 'MUL1280.json', 'PMUL3455.json', 'PMUL0247.json', 'PMUL0956.json', 'PMUL4885.json', 'PMUL3944.json', 'PMUL1882.json', 'MUL2674.json', 'PMUL2823.json', 'PMUL0633.json', 'PMUL2387.json', 'PMUL4251.json', 'MUL1383.json', 'SNG0827.json', 'PMUL3688.json', 'PMUL2395.json', 'MUL0501.json'])\n"
          ],
          "name": "stdout"
        }
      ]
    },
    {
      "cell_type": "code",
      "metadata": {
        "id": "hRdS6CNCSQV_",
        "outputId": "4ac6fab7-f67a-4bb7-b56d-8482534d4b36",
        "colab": {
          "base_uri": "https://localhost:8080/"
        }
      },
      "source": [
        "print(multiwoz_dataset_json['SNG01856.json'].keys())"
      ],
      "execution_count": 6,
      "outputs": [
        {
          "output_type": "stream",
          "text": [
            "dict_keys(['goal', 'log'])\n"
          ],
          "name": "stdout"
        }
      ]
    },
    {
      "cell_type": "code",
      "metadata": {
        "id": "px6lZ6DBSV8H",
        "outputId": "345075f2-1c96-45af-fcdf-cf0b4e620e42",
        "colab": {
          "base_uri": "https://localhost:8080/"
        }
      },
      "source": [
        "print(multiwoz_dataset_json['SNG01856.json']['log'])"
      ],
      "execution_count": 7,
      "outputs": [
        {
          "output_type": "stream",
          "text": [
            "[{'text': 'am looking for a place to to stay that has cheap price range it should be in a type of hotel', 'metadata': {}}, {'text': 'Okay, do you have a specific area you want to stay in?', 'metadata': {'taxi': {'book': {'booked': []}, 'semi': {'leaveAt': '', 'destination': '', 'departure': '', 'arriveBy': ''}}, 'police': {'book': {'booked': []}, 'semi': {}}, 'restaurant': {'book': {'booked': [], 'time': '', 'day': '', 'people': ''}, 'semi': {'food': '', 'pricerange': '', 'name': '', 'area': ''}}, 'hospital': {'book': {'booked': []}, 'semi': {'department': ''}}, 'hotel': {'book': {'booked': [], 'stay': '', 'day': '', 'people': ''}, 'semi': {'name': 'not mentioned', 'area': 'not mentioned', 'parking': 'not mentioned', 'pricerange': 'cheap', 'stars': 'not mentioned', 'internet': 'not mentioned', 'type': 'hotel'}}, 'attraction': {'book': {'booked': []}, 'semi': {'type': '', 'name': '', 'area': ''}}, 'train': {'book': {'booked': [], 'people': ''}, 'semi': {'leaveAt': '', 'destination': '', 'day': '', 'arriveBy': '', 'departure': ''}}}}, {'text': \"no, i just need to make sure it's cheap. oh, and i need parking\", 'metadata': {}}, {'text': 'I found 1 cheap hotel for you that includes parking. Do you like me to book it?', 'metadata': {'taxi': {'book': {'booked': []}, 'semi': {'leaveAt': '', 'destination': '', 'departure': '', 'arriveBy': ''}}, 'police': {'book': {'booked': []}, 'semi': {}}, 'restaurant': {'book': {'booked': [], 'time': '', 'day': '', 'people': ''}, 'semi': {'food': '', 'pricerange': '', 'name': '', 'area': ''}}, 'hospital': {'book': {'booked': []}, 'semi': {'department': ''}}, 'hotel': {'book': {'booked': [], 'stay': '', 'day': '', 'people': ''}, 'semi': {'name': 'not mentioned', 'area': 'not mentioned', 'parking': 'yes', 'pricerange': 'cheap', 'stars': 'not mentioned', 'internet': 'not mentioned', 'type': 'hotel'}}, 'attraction': {'book': {'booked': []}, 'semi': {'type': '', 'name': '', 'area': ''}}, 'train': {'book': {'booked': [], 'people': ''}, 'semi': {'leaveAt': '', 'destination': '', 'day': '', 'arriveBy': '', 'departure': ''}}}}, {'text': 'Yes, please. 6 people 3 nights starting on tuesday.', 'metadata': {}}, {'text': \"I am sorry but I wasn't able to book that for you for Tuesday. Is there another day you would like to stay or perhaps a shorter stay?\", 'metadata': {'taxi': {'book': {'booked': []}, 'semi': {'leaveAt': '', 'destination': '', 'departure': '', 'arriveBy': ''}}, 'police': {'book': {'booked': []}, 'semi': {}}, 'restaurant': {'book': {'booked': [], 'time': '', 'day': '', 'people': ''}, 'semi': {'food': '', 'pricerange': '', 'name': '', 'area': ''}}, 'hospital': {'book': {'booked': []}, 'semi': {'department': ''}}, 'hotel': {'book': {'booked': [], 'stay': '3', 'day': 'tuesday', 'people': '6'}, 'semi': {'name': 'not mentioned', 'area': 'not mentioned', 'parking': 'yes', 'pricerange': 'cheap', 'stars': 'not mentioned', 'internet': 'not mentioned', 'type': 'hotel'}}, 'attraction': {'book': {'booked': []}, 'semi': {'type': '', 'name': '', 'area': ''}}, 'train': {'book': {'booked': [], 'people': ''}, 'semi': {'leaveAt': '', 'destination': '', 'day': '', 'arriveBy': '', 'departure': ''}}}}, {'text': 'how about only 2 nights.', 'metadata': {}}, {'text': 'Booking was successful.\\nReference number is : 7GAWK763. Anything else I can do for you?', 'metadata': {'taxi': {'book': {'booked': []}, 'semi': {'leaveAt': '', 'destination': '', 'departure': '', 'arriveBy': ''}}, 'police': {'book': {'booked': []}, 'semi': {}}, 'restaurant': {'book': {'booked': [], 'time': '', 'day': '', 'people': ''}, 'semi': {'food': '', 'pricerange': '', 'name': '', 'area': ''}}, 'hospital': {'book': {'booked': []}, 'semi': {'department': ''}}, 'hotel': {'book': {'booked': [{'name': 'the cambridge belfry', 'reference': '7GAWK763'}], 'stay': '2', 'day': 'tuesday', 'people': '6'}, 'semi': {'name': 'not mentioned', 'area': 'not mentioned', 'parking': 'yes', 'pricerange': 'cheap', 'stars': 'not mentioned', 'internet': 'not mentioned', 'type': 'hotel'}}, 'attraction': {'book': {'booked': []}, 'semi': {'type': '', 'name': '', 'area': ''}}, 'train': {'book': {'booked': [], 'people': ''}, 'semi': {'leaveAt': '', 'destination': '', 'day': '', 'arriveBy': '', 'departure': ''}}}}, {'text': 'No, that will be all. Good bye.', 'metadata': {}}, {'text': 'Thank you for using our services.', 'metadata': {'taxi': {'book': {'booked': []}, 'semi': {'leaveAt': '', 'destination': '', 'departure': '', 'arriveBy': ''}}, 'police': {'book': {'booked': []}, 'semi': {}}, 'restaurant': {'book': {'booked': [], 'time': '', 'day': '', 'people': ''}, 'semi': {'food': '', 'pricerange': '', 'name': '', 'area': ''}}, 'hospital': {'book': {'booked': []}, 'semi': {'department': ''}}, 'hotel': {'book': {'booked': [{'name': 'the cambridge belfry', 'reference': '7GAWK763'}], 'stay': '2', 'day': 'tuesday', 'people': '6'}, 'semi': {'name': 'not mentioned', 'area': 'not mentioned', 'parking': 'yes', 'pricerange': 'cheap', 'stars': 'not mentioned', 'internet': 'not mentioned', 'type': 'hotel'}}, 'attraction': {'book': {'booked': []}, 'semi': {'type': '', 'name': '', 'area': ''}}, 'train': {'book': {'booked': [], 'people': ''}, 'semi': {'leaveAt': '', 'destination': '', 'day': '', 'arriveBy': '', 'departure': ''}}}}]\n"
          ],
          "name": "stdout"
        }
      ]
    },
    {
      "cell_type": "code",
      "metadata": {
        "id": "Lvf4nbnNTQwe",
        "outputId": "57286740-fc47-4bb5-cbbd-1a52ec41655c",
        "colab": {
          "base_uri": "https://localhost:8080/"
        }
      },
      "source": [
        "## Displayed a dialogue with colors\n",
        "\n",
        "sample_dialogue = multiwoz_dataset_json['SNG0129.json']['log']\n",
        "\n",
        "for i in range(len(sample_dialogue)):\n",
        "    if i % 2 == 0:\n",
        "        print(colored(sample_dialogue[i]['text'], 'blue'))\n",
        "    else:\n",
        "        print(colored(sample_dialogue[i]['text'], 'red'))\n"
      ],
      "execution_count": 8,
      "outputs": [
        {
          "output_type": "stream",
          "text": [
            "\u001b[34mHello, I have been robbed.  Can you please help me get in touch with the police?\u001b[0m\n",
            "\u001b[31mParkside Police Station is in Parkside, Cambridge. Their number is 01223358966. Anything else I can do for you?\u001b[0m\n",
            "\u001b[34mCan I please have the postcode as well?\u001b[0m\n",
            "\u001b[31mThe postcode for the Parkside Police Station is CB11JG. Can I help you with anything else?\u001b[0m\n",
            "\u001b[34mWas Parkside the address of the police station? If not, can I have the address please?\u001b[0m\n",
            "\u001b[31mYes, Parkside is the address.\u001b[0m\n",
            "\u001b[34mThank you that will be all for now.\u001b[0m\n",
            "\u001b[31mGreat. Thank you for contacting Cambridge Towninfo Centre.\u001b[0m\n",
            "\u001b[34mYou were great. Goodbye.\u001b[0m\n",
            "\u001b[31mWe are happy to help. Have a good day!\u001b[0m\n"
          ],
          "name": "stdout"
        }
      ]
    },
    {
      "cell_type": "markdown",
      "metadata": {
        "id": "37Hjiv8xSYZz"
      },
      "source": [
        "## Step 3: Data Preprocessing"
      ]
    },
    {
      "cell_type": "markdown",
      "metadata": {
        "id": "SNKxqlq1gLd5"
      },
      "source": [
        "### 3-1 Add \"Person 1\" and \"Person 2\" into the dialogue"
      ]
    },
    {
      "cell_type": "code",
      "metadata": {
        "id": "ke6WWPX1SZ_B"
      },
      "source": [
        "dialogue_sentences_list = []\n",
        "\n",
        "for json_index in multiwoz_dataset_json.keys():\n",
        "    \n",
        "    dialogue = multiwoz_dataset_json[json_index]['log']\n",
        "\n",
        "    dialogue_sentences_str = \"\"\n",
        "\n",
        "    for i in range(len(dialogue)):\n",
        "\n",
        "        if i % 2 == 0:\n",
        "            dialogue_sentences_str += \" Person 1: \" + dialogue[i]['text']\n",
        "        else:\n",
        "            dialogue_sentences_str += \" Person 2: \" + dialogue[i]['text']\n",
        "    \n",
        "    dialogue_sentences_list.append(dialogue_sentences_str)"
      ],
      "execution_count": 9,
      "outputs": []
    },
    {
      "cell_type": "code",
      "metadata": {
        "id": "SByscthTUzV5",
        "outputId": "9511b686-11df-4685-8e3f-cb2d1cead4ba",
        "colab": {
          "base_uri": "https://localhost:8080/"
        }
      },
      "source": [
        "print(len(dialogue_sentences_list))"
      ],
      "execution_count": 10,
      "outputs": [
        {
          "output_type": "stream",
          "text": [
            "10438\n"
          ],
          "name": "stdout"
        }
      ]
    },
    {
      "cell_type": "code",
      "metadata": {
        "id": "tWdBAMHvWEqs",
        "outputId": "da568c22-dde3-4337-f6bd-e258e43842e8",
        "colab": {
          "base_uri": "https://localhost:8080/"
        }
      },
      "source": [
        "print(dialogue_sentences_list[0])"
      ],
      "execution_count": 11,
      "outputs": [
        {
          "output_type": "stream",
          "text": [
            " Person 1: am looking for a place to to stay that has cheap price range it should be in a type of hotel Person 2: Okay, do you have a specific area you want to stay in? Person 1: no, i just need to make sure it's cheap. oh, and i need parking Person 2: I found 1 cheap hotel for you that includes parking. Do you like me to book it? Person 1: Yes, please. 6 people 3 nights starting on tuesday. Person 2: I am sorry but I wasn't able to book that for you for Tuesday. Is there another day you would like to stay or perhaps a shorter stay? Person 1: how about only 2 nights. Person 2: Booking was successful.\n",
            "Reference number is : 7GAWK763. Anything else I can do for you? Person 1: No, that will be all. Good bye. Person 2: Thank you for using our services.\n"
          ],
          "name": "stdout"
        }
      ]
    },
    {
      "cell_type": "markdown",
      "metadata": {
        "id": "Wq4L2LyfgdmD"
      },
      "source": [
        "### 3-2 Shuffle the dataset"
      ]
    },
    {
      "cell_type": "code",
      "metadata": {
        "id": "7RTtESb-WGS-"
      },
      "source": [
        "## shuffle the list\n",
        "random.shuffle(dialogue_sentences_list)"
      ],
      "execution_count": 12,
      "outputs": []
    },
    {
      "cell_type": "markdown",
      "metadata": {
        "id": "HeJfVsCkgh5F"
      },
      "source": [
        "### 3-3 Split into training and test data"
      ]
    },
    {
      "cell_type": "code",
      "metadata": {
        "id": "x_JGLwyjWTMC",
        "outputId": "9b2915c1-099e-4ead-ab11-231d4aa09d37",
        "colab": {
          "base_uri": "https://localhost:8080/"
        }
      },
      "source": [
        "## Split 500 dialogues to the test dataset\n",
        "train_data, test_data = dialogue_sentences_list[:-500], dialogue_sentences_list[-500:]\n",
        "\n",
        "print(\"Number of train_data: {}\".format(len(train_data)))\n",
        "print(\"Number of test_data: {}\".format(len(test_data)))"
      ],
      "execution_count": 14,
      "outputs": [
        {
          "output_type": "stream",
          "text": [
            "Number of train_data: 9938\n",
            "Number of test_data: 500\n"
          ],
          "name": "stdout"
        }
      ]
    },
    {
      "cell_type": "code",
      "metadata": {
        "id": "-FpYto2vSOl1",
        "outputId": "5776fc6d-0f2f-4967-d43b-7761c9031094",
        "colab": {
          "base_uri": "https://localhost:8080/"
        }
      },
      "source": [
        "print(train_data[0])"
      ],
      "execution_count": 15,
      "outputs": [
        {
          "output_type": "stream",
          "text": [
            " Person 1: I am looking for places to go in the north area. Person 2: I have a boat, park or 2 swimming pools in that area. Is there one you would like to try? Person 1: Give me more information about the boat please. Person 2: The address to riverboat georgina is cambridge passenger cruisers, jubilee house and the postcode is cb43ax. Can I help with anything else? Person 1: I'm looking for a place to eat that is in the same area. I want it to be cheap.  Person 2: You've got 2 choices in the north for cheap places to eat: Royal Spice serves Indian food, and Da Vinci Pizzeria serves Italian food. Which would you prefer? Person 1: Da Vinci Pizzeria sounds good.  Thanks. Person 2: For how many do you need this reservation? Person 1: I need to book a table for 8 at 18:30 on Monday, please. Person 2: Your table is reserved at DaVinci, ref# 6U1JO0B2. Is there anything else I can do for you today? Person 1: I also need a taxi that will get me  to the restaurant in time for the booking you just made. Person 2: Excellent, I have booked you a taxi, a yellow skoda, and the contact number is 07262084765. Is there anything else I can help with?  Person 1: No, I think this is all I need for today.  Thank you for your help today. Person 2: You're welcome. Enjoy the rest of your day! Goodbye.\n"
          ],
          "name": "stdout"
        }
      ]
    },
    {
      "cell_type": "code",
      "metadata": {
        "id": "BF16ATBoSQoe",
        "outputId": "58de76d6-1f82-4391-8e1b-c8795a11231d",
        "colab": {
          "base_uri": "https://localhost:8080/"
        }
      },
      "source": [
        "print(test_data[0])"
      ],
      "execution_count": 16,
      "outputs": [
        {
          "output_type": "stream",
          "text": [
            " Person 1: Hello, do you have any information regarding interesting theatres to visit in the centre of town? Person 2: Sure thing, there are four theatres in the centre of town. ADC Theatre, Cambridge Arts Theatre, Mumford Theatre, and The Cambridge Corn Exchange.  Person 1: I'm interested in one of the theatres! Can I get the entrance fee information for those? Person 2: I'm sorry, but none of the theaters list the entrance fee. Would you like the phone number for any of them? Person 1: That's okay, could you provide me with the postcode and address, please? Also, I am looking for a train leaving after 16:00 this Monday. Person 2: The ADC Theatre is located on Park Street and its postcode is cb23pj. Before I find your train, could you tell me where you would like to go? Person 1: Of course, silly me :P I am looking for a train from cambridge to stevenage Person 2: The TR0254 leaves Cambridge at 17:21. Person 1: Awesome, thank you very much! I'm pretty sure that's all I need right now, but I'll be back if I think of anything else. Later! Person 2: Great thank you for using our system.\n"
          ],
          "name": "stdout"
        }
      ]
    },
    {
      "cell_type": "markdown",
      "metadata": {
        "id": "RKIKAzJbgsB2"
      },
      "source": [
        "### 3-4 Remove leading or ending white spaces"
      ]
    },
    {
      "cell_type": "code",
      "metadata": {
        "id": "wbRGO52HTBZ-"
      },
      "source": [
        "for i in range(len(train_data)):\n",
        "    train_data[i] = train_data[i].strip()\n",
        "\n",
        "for i in range(len(test_data)):\n",
        "    test_data[i] = test_data[i].strip()"
      ],
      "execution_count": 17,
      "outputs": []
    },
    {
      "cell_type": "markdown",
      "metadata": {
        "id": "K73x3FsOW3KF"
      },
      "source": [
        "### 3-5 Data pipeline"
      ]
    },
    {
      "cell_type": "code",
      "metadata": {
        "id": "4Y5tGPSyWzBY"
      },
      "source": [
        "def stream_generator(data):\n",
        "    while True:\n",
        "        x = random.choice(data)\n",
        "        yield (x, x)"
      ],
      "execution_count": 18,
      "outputs": []
    },
    {
      "cell_type": "code",
      "metadata": {
        "id": "rNeOnAy4XPQ7"
      },
      "source": [
        "data_pipeline = trax.data.Serial(trax.data.Shuffle(),\n",
        "                                 trax.data.Tokenize(vocab_file = 'en_32k.subword'),\n",
        "                                 trax.data.FilterByLength(2048),\n",
        "                                 trax.data.BucketByLength(boundaries = [128, 256, 512, 1024], batch_sizes = [16, 8, 4, 2, 1]),\n",
        "                                 trax.data.AddLossWeights(id_to_mask = 0))\n",
        "\n",
        "train_stream = data_pipeline(stream_generator(train_data))\n",
        "test_stream = data_pipeline(stream_generator(test_data))"
      ],
      "execution_count": 19,
      "outputs": []
    },
    {
      "cell_type": "code",
      "metadata": {
        "id": "upJuSFR1Uk4l",
        "outputId": "0887336e-716d-47ac-c520-5e111a838d98",
        "colab": {
          "base_uri": "https://localhost:8080/"
        }
      },
      "source": [
        "## Check 1\n",
        "# (input, target, weights)\n",
        "\n",
        "print(\"train_stream\")\n",
        "print(next(train_stream))\n",
        "print(\"\\ntest_stream\")\n",
        "print(next(test_stream))"
      ],
      "execution_count": 20,
      "outputs": [
        {
          "output_type": "stream",
          "text": [
            "train_stream\n",
            "(array([[8745,    3,   54, ...,    0,    0,    0],\n",
            "       [8745,    3,   54, ...,    0,    0,    0],\n",
            "       [8745,    3,   54, ...,    0,    0,    0],\n",
            "       [8745,    3,   54, ...,    0,    0,    0]]), array([[8745,    3,   54, ...,    0,    0,    0],\n",
            "       [8745,    3,   54, ...,    0,    0,    0],\n",
            "       [8745,    3,   54, ...,    0,    0,    0],\n",
            "       [8745,    3,   54, ...,    0,    0,    0]]), array([[1., 1., 1., ..., 0., 0., 0.],\n",
            "       [1., 1., 1., ..., 0., 0., 0.],\n",
            "       [1., 1., 1., ..., 0., 0., 0.],\n",
            "       [1., 1., 1., ..., 0., 0., 0.]], dtype=float32))\n",
            "\n",
            "test_stream\n",
            "(array([[8745,    3,   54, ...,    0,    0,    0],\n",
            "       [8745,    3,   54, ...,    0,    0,    0],\n",
            "       [8745,    3,   54, ...,    0,    0,    0],\n",
            "       [8745,    3,   54, ...,    0,    0,    0]]), array([[8745,    3,   54, ...,    0,    0,    0],\n",
            "       [8745,    3,   54, ...,    0,    0,    0],\n",
            "       [8745,    3,   54, ...,    0,    0,    0],\n",
            "       [8745,    3,   54, ...,    0,    0,    0]]), array([[1., 1., 1., ..., 0., 0., 0.],\n",
            "       [1., 1., 1., ..., 0., 0., 0.],\n",
            "       [1., 1., 1., ..., 0., 0., 0.],\n",
            "       [1., 1., 1., ..., 0., 0., 0.]], dtype=float32))\n"
          ],
          "name": "stdout"
        }
      ]
    },
    {
      "cell_type": "code",
      "metadata": {
        "id": "kphy-pkgYfcn",
        "outputId": "c753e213-cad1-42f2-9858-52abaae85ec1",
        "colab": {
          "base_uri": "https://localhost:8080/"
        }
      },
      "source": [
        "## Check\n",
        "\n",
        "x = next(train_stream)[0]\n",
        "y = next(test_stream)\n",
        "\n",
        "print(x.shape)\n",
        "print(x)\n",
        "\n",
        "y = trax.data.detokenize(x[0], vocab_file = 'en_32k.subword')\n",
        "\n",
        "print(y)\n",
        "\n",
        "del x, y"
      ],
      "execution_count": 21,
      "outputs": [
        {
          "output_type": "stream",
          "text": [
            "(4, 512)\n",
            "[[8745    3   54 ...    0    0    0]\n",
            " [8745    3   54 ...    0    0    0]\n",
            " [8745    3   54 ...    0    0    0]\n",
            " [8745    3   54 ...    0    0    0]]\n",
            "Person 1: Please dig up some information on the mutliple sports in the centre for me Person 2: I'm afraid there isn't one. Can I help you find something else? Person 1: Oh well. I guess maybe a theatre instead.  Person 2: There are 4 theatres in the centre. They are adc theatre, cambridge arts theatre, mumford theatre, and the cambridge corn exchange. Person 1: Can you tell me the postcode, entrance fee, and phone number of adc theatre? Person 2: The entrance fee isn't listed, but you can reach them by phone at 01223300085. The postcode is cb58as. Person 1: Thanks I also need a train that's going to cambridge.  Person 2: No problem, where will that be coming from? Person 1: I need to leave from Norwich sometime after 20:15 on Saturday. Person 2: TR0615 departs at 20:16 and arrives by 21:35. Would you like a ticket? Person 1: No.  That is all the info I need.  Person 2: Ok, have a good day!\n"
          ],
          "name": "stdout"
        }
      ]
    },
    {
      "cell_type": "markdown",
      "metadata": {
        "id": "OeFwIsGxbZTr"
      },
      "source": [
        "## Step 4: Create the Reformer model\n",
        "\n",
        "**Trax Documentation**\n",
        "\n",
        "[trax.models.reformer.ReformerLM](https://trax-ml.readthedocs.io/en/latest/trax.models.html#trax.models.reformer.reformer.ReformerLM)\n",
        "\n",
        "This model only uses the decoder (no encoder).\n"
      ]
    },
    {
      "cell_type": "code",
      "metadata": {
        "id": "w_X46wxVbawA",
        "outputId": "7341261d-ba66-477e-9eb5-3525be2a4924",
        "colab": {
          "base_uri": "https://localhost:8080/"
        }
      },
      "source": [
        "def ReformerLM(vocab_size = 33000, n_layers = 6, mode = 'train', attention_type = tl.SelfAttention):\n",
        "\n",
        "    \"\"\"\n",
        "    Create the Reformer\n",
        "\n",
        "    Inputs\n",
        "            vocab_size: <int> the size of the vocabulary\n",
        "            n_layers: <int> number of decoder layers\n",
        "            mode: <str> 'train', 'eval', or 'predict'\n",
        "            attention_type: <trax class> type of the attention class\n",
        "\n",
        "    Output\n",
        "            model: <trax model> the Reformer model\n",
        "    \"\"\"\n",
        "\n",
        "    model = trax.models.reformer.ReformerLM(vocab_size = vocab_size,\n",
        "                                            n_layers = n_layers,\n",
        "                                            mode = mode,\n",
        "                                            attention_type = attention_type)\n",
        "\n",
        "    return model\n",
        "\n",
        "## Check\n",
        "model = ReformerLM(mode = 'train')\n",
        "print(str(model))\n",
        "del model "
      ],
      "execution_count": 23,
      "outputs": [
        {
          "output_type": "stream",
          "text": [
            "Serial[\n",
            "  Serial[\n",
            "    AssertShape\n",
            "    ShiftRight(1)\n",
            "    AssertShape\n",
            "  ]\n",
            "  Embedding_33000_512\n",
            "  Dropout\n",
            "  PositionalEncoding\n",
            "  Dup_out2\n",
            "  ReversibleSerial_in2_out2[\n",
            "    ReversibleHalfResidual_in2_out2[\n",
            "      Serial[\n",
            "        LayerNorm\n",
            "      ]\n",
            "      SelfAttention\n",
            "    ]\n",
            "    ReversibleSwap_in2_out2\n",
            "    ReversibleHalfResidual_in2_out2[\n",
            "      Serial[\n",
            "        LayerNorm\n",
            "        Dense_2048\n",
            "        Dropout\n",
            "        FastGelu\n",
            "        Dense_512\n",
            "        Dropout\n",
            "      ]\n",
            "    ]\n",
            "    ReversibleSwap_in2_out2\n",
            "    ReversibleHalfResidual_in2_out2[\n",
            "      Serial[\n",
            "        LayerNorm\n",
            "      ]\n",
            "      SelfAttention\n",
            "    ]\n",
            "    ReversibleSwap_in2_out2\n",
            "    ReversibleHalfResidual_in2_out2[\n",
            "      Serial[\n",
            "        LayerNorm\n",
            "        Dense_2048\n",
            "        Dropout\n",
            "        FastGelu\n",
            "        Dense_512\n",
            "        Dropout\n",
            "      ]\n",
            "    ]\n",
            "    ReversibleSwap_in2_out2\n",
            "    ReversibleHalfResidual_in2_out2[\n",
            "      Serial[\n",
            "        LayerNorm\n",
            "      ]\n",
            "      SelfAttention\n",
            "    ]\n",
            "    ReversibleSwap_in2_out2\n",
            "    ReversibleHalfResidual_in2_out2[\n",
            "      Serial[\n",
            "        LayerNorm\n",
            "        Dense_2048\n",
            "        Dropout\n",
            "        FastGelu\n",
            "        Dense_512\n",
            "        Dropout\n",
            "      ]\n",
            "    ]\n",
            "    ReversibleSwap_in2_out2\n",
            "    ReversibleHalfResidual_in2_out2[\n",
            "      Serial[\n",
            "        LayerNorm\n",
            "      ]\n",
            "      SelfAttention\n",
            "    ]\n",
            "    ReversibleSwap_in2_out2\n",
            "    ReversibleHalfResidual_in2_out2[\n",
            "      Serial[\n",
            "        LayerNorm\n",
            "        Dense_2048\n",
            "        Dropout\n",
            "        FastGelu\n",
            "        Dense_512\n",
            "        Dropout\n",
            "      ]\n",
            "    ]\n",
            "    ReversibleSwap_in2_out2\n",
            "    ReversibleHalfResidual_in2_out2[\n",
            "      Serial[\n",
            "        LayerNorm\n",
            "      ]\n",
            "      SelfAttention\n",
            "    ]\n",
            "    ReversibleSwap_in2_out2\n",
            "    ReversibleHalfResidual_in2_out2[\n",
            "      Serial[\n",
            "        LayerNorm\n",
            "        Dense_2048\n",
            "        Dropout\n",
            "        FastGelu\n",
            "        Dense_512\n",
            "        Dropout\n",
            "      ]\n",
            "    ]\n",
            "    ReversibleSwap_in2_out2\n",
            "    ReversibleHalfResidual_in2_out2[\n",
            "      Serial[\n",
            "        LayerNorm\n",
            "      ]\n",
            "      SelfAttention\n",
            "    ]\n",
            "    ReversibleSwap_in2_out2\n",
            "    ReversibleHalfResidual_in2_out2[\n",
            "      Serial[\n",
            "        LayerNorm\n",
            "        Dense_2048\n",
            "        Dropout\n",
            "        FastGelu\n",
            "        Dense_512\n",
            "        Dropout\n",
            "      ]\n",
            "    ]\n",
            "    ReversibleSwap_in2_out2\n",
            "  ]\n",
            "  Concatenate_in2\n",
            "  LayerNorm\n",
            "  Dropout\n",
            "  Dense_33000\n",
            "  LogSoftmax\n",
            "]\n"
          ],
          "name": "stdout"
        }
      ]
    },
    {
      "cell_type": "markdown",
      "metadata": {
        "id": "S4b2Cq80dRyA"
      },
      "source": [
        "## Step 5: Train the Reformer"
      ]
    },
    {
      "cell_type": "markdown",
      "metadata": {
        "id": "eI5TilXzjEJb"
      },
      "source": [
        "### 5-1 The training loop"
      ]
    },
    {
      "cell_type": "code",
      "metadata": {
        "id": "2NaOL-CYdHLu"
      },
      "source": [
        "def training_loop(ReformerLM, train_generator, eval_generator):\n",
        "\n",
        "    \"\"\"\n",
        "    Create the training loop\n",
        "\n",
        "    Inputs\n",
        "            ReformerLM: <Trax model> the Reformer model\n",
        "            train_generator: <Trax stream> the generator stream of training data\n",
        "            eval_generator: <Trax stream> the generator stream of the test data\n",
        "    \n",
        "    Output\n",
        "            loop: <Trax loop object> the loop object\n",
        "    \"\"\"\n",
        "\n",
        "    # schedule of the learning rate\n",
        "    lr_schedule = trax.lr.warmup_and_rsqrt_decay(n_warmup_steps = 4000, max_value = 0.001)\n",
        "\n",
        "    # the training task\n",
        "    train_task = training.TrainTask(labeled_data = train_generator,\n",
        "                                    loss_layer = tl.CrossEntropyLoss(),\n",
        "                                    optimizer = trax.optimizers.Adam(0.001),\n",
        "                                    lr_schedule = lr_schedule,\n",
        "                                    n_steps_per_checkpoint = 200)\n",
        "    \n",
        "    # the evaluation task\n",
        "    eval_task = training.EvalTask(labeled_data = eval_generator,\n",
        "                                  metrics = [tl.CrossEntropyLoss(), tl.Accuracy()])\n",
        "    \n",
        "    # create the loop object\n",
        "    loop = training.Loop(model = ReformerLM(mode = 'train'),\n",
        "                         tasks = [train_task],\n",
        "                         eval_tasks = [eval_task],\n",
        "                         output_dir = '.')\n",
        "    \n",
        "    return loop"
      ],
      "execution_count": 24,
      "outputs": []
    },
    {
      "cell_type": "markdown",
      "metadata": {
        "id": "tNEL5QtGocxe"
      },
      "source": [
        "### 5-2 Train the model\n"
      ]
    },
    {
      "cell_type": "code",
      "metadata": {
        "id": "wVdn_dweBOgL",
        "outputId": "bd0a761f-3a76-4810-9147-c46037bfeeba",
        "colab": {
          "base_uri": "https://localhost:8080/"
        }
      },
      "source": [
        "## This box needs to be executed if training_loop has been run before\n",
        "!rm model.pkl.gz\n",
        "!rm config.gin\n",
        "!rm -r train\n",
        "!rm -r eval"
      ],
      "execution_count": 25,
      "outputs": [
        {
          "output_type": "stream",
          "text": [
            "rm: cannot remove 'model.pkl.gz': No such file or directory\n",
            "rm: cannot remove 'config.gin': No such file or directory\n",
            "rm: cannot remove 'train': No such file or directory\n",
            "rm: cannot remove 'eval': No such file or directory\n"
          ],
          "name": "stdout"
        }
      ]
    },
    {
      "cell_type": "code",
      "metadata": {
        "id": "QrcCsbc8odV-",
        "outputId": "c3991a95-f62c-4216-e97f-8c058bd60f89",
        "colab": {
          "base_uri": "https://localhost:8080/"
        }
      },
      "source": [
        "loop = training_loop(ReformerLM, train_stream, test_stream)\n",
        "loop.run(20000)"
      ],
      "execution_count": 26,
      "outputs": [
        {
          "output_type": "stream",
          "text": [
            "\n",
            "Step      1: Total number of trainable weights: 70673640\n",
            "Step      1: Ran 1 train steps in 60.75 secs\n",
            "Step      1: train CrossEntropyLoss |  10.44453430\n",
            "Step      1: eval  CrossEntropyLoss |  10.43628788\n",
            "Step      1: eval          Accuracy |  0.00000000\n",
            "\n",
            "Step    200: Ran 199 train steps in 131.59 secs\n",
            "Step    200: train CrossEntropyLoss |  8.29019642\n",
            "Step    200: eval  CrossEntropyLoss |  5.70468712\n",
            "Step    200: eval          Accuracy |  0.07524613\n",
            "\n",
            "Step    400: Ran 200 train steps in 79.36 secs\n",
            "Step    400: train CrossEntropyLoss |  5.62913370\n",
            "Step    400: eval  CrossEntropyLoss |  5.53083134\n",
            "Step    400: eval          Accuracy |  0.06506850\n",
            "\n",
            "Step    600: Ran 200 train steps in 60.35 secs\n",
            "Step    600: train CrossEntropyLoss |  5.52661419\n",
            "Step    600: eval  CrossEntropyLoss |  5.57809830\n",
            "Step    600: eval          Accuracy |  0.07159904\n",
            "\n",
            "Step    800: Ran 200 train steps in 60.02 secs\n",
            "Step    800: train CrossEntropyLoss |  4.99216938\n",
            "Step    800: eval  CrossEntropyLoss |  4.53790379\n",
            "Step    800: eval          Accuracy |  0.24223208\n",
            "\n",
            "Step   1000: Ran 200 train steps in 59.88 secs\n",
            "Step   1000: train CrossEntropyLoss |  4.22136879\n",
            "Step   1000: eval  CrossEntropyLoss |  4.07758617\n",
            "Step   1000: eval          Accuracy |  0.26235992\n",
            "\n",
            "Step   1200: Ran 200 train steps in 59.86 secs\n",
            "Step   1200: train CrossEntropyLoss |  3.71124339\n",
            "Step   1200: eval  CrossEntropyLoss |  3.47998023\n",
            "Step   1200: eval          Accuracy |  0.33285406\n",
            "\n",
            "Step   1400: Ran 200 train steps in 59.95 secs\n",
            "Step   1400: train CrossEntropyLoss |  3.43183398\n",
            "Step   1400: eval  CrossEntropyLoss |  3.11223006\n",
            "Step   1400: eval          Accuracy |  0.37878788\n",
            "\n",
            "Step   1600: Ran 200 train steps in 60.24 secs\n",
            "Step   1600: train CrossEntropyLoss |  3.20997453\n",
            "Step   1600: eval  CrossEntropyLoss |  3.28944206\n",
            "Step   1600: eval          Accuracy |  0.34133333\n",
            "\n",
            "Step   1800: Ran 200 train steps in 60.52 secs\n",
            "Step   1800: train CrossEntropyLoss |  3.04834318\n",
            "Step   1800: eval  CrossEntropyLoss |  3.02664518\n",
            "Step   1800: eval          Accuracy |  0.38707653\n",
            "\n",
            "Step   2000: Ran 200 train steps in 60.21 secs\n",
            "Step   2000: train CrossEntropyLoss |  2.86785126\n",
            "Step   2000: eval  CrossEntropyLoss |  3.13433099\n",
            "Step   2000: eval          Accuracy |  0.36962250\n",
            "\n",
            "Step   2200: Ran 200 train steps in 60.85 secs\n",
            "Step   2200: train CrossEntropyLoss |  2.75005102\n",
            "Step   2200: eval  CrossEntropyLoss |  2.43542480\n",
            "Step   2200: eval          Accuracy |  0.45994279\n",
            "\n",
            "Step   2400: Ran 200 train steps in 60.22 secs\n",
            "Step   2400: train CrossEntropyLoss |  2.61291885\n",
            "Step   2400: eval  CrossEntropyLoss |  2.75900865\n",
            "Step   2400: eval          Accuracy |  0.42916667\n",
            "\n",
            "Step   2600: Ran 200 train steps in 79.23 secs\n",
            "Step   2600: train CrossEntropyLoss |  2.56970692\n",
            "Step   2600: eval  CrossEntropyLoss |  2.37931323\n",
            "Step   2600: eval          Accuracy |  0.49109882\n",
            "\n",
            "Step   2800: Ran 200 train steps in 59.73 secs\n",
            "Step   2800: train CrossEntropyLoss |  2.44335866\n",
            "Step   2800: eval  CrossEntropyLoss |  2.57452297\n",
            "Step   2800: eval          Accuracy |  0.48548973\n",
            "\n",
            "Step   3000: Ran 200 train steps in 59.97 secs\n",
            "Step   3000: train CrossEntropyLoss |  2.39610314\n",
            "Step   3000: eval  CrossEntropyLoss |  2.55918574\n",
            "Step   3000: eval          Accuracy |  0.48531213\n",
            "\n",
            "Step   3200: Ran 200 train steps in 60.08 secs\n",
            "Step   3200: train CrossEntropyLoss |  2.32993746\n",
            "Step   3200: eval  CrossEntropyLoss |  2.13332701\n",
            "Step   3200: eval          Accuracy |  0.52503210\n",
            "\n",
            "Step   3400: Ran 200 train steps in 59.83 secs\n",
            "Step   3400: train CrossEntropyLoss |  2.24643087\n",
            "Step   3400: eval  CrossEntropyLoss |  2.25088072\n",
            "Step   3400: eval          Accuracy |  0.49933243\n",
            "\n",
            "Step   3600: Ran 200 train steps in 59.41 secs\n",
            "Step   3600: train CrossEntropyLoss |  2.19854832\n",
            "Step   3600: eval  CrossEntropyLoss |  2.16065478\n",
            "Step   3600: eval          Accuracy |  0.53292018\n",
            "\n",
            "Step   3800: Ran 200 train steps in 59.56 secs\n",
            "Step   3800: train CrossEntropyLoss |  2.14376664\n",
            "Step   3800: eval  CrossEntropyLoss |  2.21543860\n",
            "Step   3800: eval          Accuracy |  0.52835411\n",
            "\n",
            "Step   4000: Ran 200 train steps in 59.24 secs\n",
            "Step   4000: train CrossEntropyLoss |  2.24486876\n",
            "Step   4000: eval  CrossEntropyLoss |  2.40257001\n",
            "Step   4000: eval          Accuracy |  0.50113380\n",
            "\n",
            "Step   4200: Ran 200 train steps in 59.39 secs\n",
            "Step   4200: train CrossEntropyLoss |  2.11273360\n",
            "Step   4200: eval  CrossEntropyLoss |  2.22515893\n",
            "Step   4200: eval          Accuracy |  0.50656658\n",
            "\n",
            "Step   4400: Ran 200 train steps in 59.00 secs\n",
            "Step   4400: train CrossEntropyLoss |  2.00955939\n",
            "Step   4400: eval  CrossEntropyLoss |  1.97388649\n",
            "Step   4400: eval          Accuracy |  0.53499329\n",
            "\n",
            "Step   4600: Ran 200 train steps in 59.08 secs\n",
            "Step   4600: train CrossEntropyLoss |  1.98047817\n",
            "Step   4600: eval  CrossEntropyLoss |  1.99315763\n",
            "Step   4600: eval          Accuracy |  0.55215579\n",
            "\n",
            "Step   4800: Ran 200 train steps in 59.17 secs\n",
            "Step   4800: train CrossEntropyLoss |  1.95642304\n",
            "Step   4800: eval  CrossEntropyLoss |  1.91955614\n",
            "Step   4800: eval          Accuracy |  0.55923033\n",
            "\n",
            "Step   5000: Ran 200 train steps in 58.71 secs\n",
            "Step   5000: train CrossEntropyLoss |  1.90284097\n",
            "Step   5000: eval  CrossEntropyLoss |  2.14322543\n",
            "Step   5000: eval          Accuracy |  0.53084648\n",
            "\n",
            "Step   5200: Ran 200 train steps in 58.71 secs\n",
            "Step   5200: train CrossEntropyLoss |  1.89438498\n",
            "Step   5200: eval  CrossEntropyLoss |  2.04274440\n",
            "Step   5200: eval          Accuracy |  0.54067671\n",
            "\n",
            "Step   5400: Ran 200 train steps in 58.72 secs\n",
            "Step   5400: train CrossEntropyLoss |  1.87487745\n",
            "Step   5400: eval  CrossEntropyLoss |  1.87936819\n",
            "Step   5400: eval          Accuracy |  0.56385869\n",
            "\n",
            "Step   5600: Ran 200 train steps in 58.80 secs\n",
            "Step   5600: train CrossEntropyLoss |  1.84744704\n",
            "Step   5600: eval  CrossEntropyLoss |  1.86297655\n",
            "Step   5600: eval          Accuracy |  0.55735666\n",
            "\n",
            "Step   5800: Ran 200 train steps in 58.83 secs\n",
            "Step   5800: train CrossEntropyLoss |  1.81189692\n",
            "Step   5800: eval  CrossEntropyLoss |  1.96394157\n",
            "Step   5800: eval          Accuracy |  0.56059533\n",
            "\n",
            "Step   6000: Ran 200 train steps in 58.54 secs\n",
            "Step   6000: train CrossEntropyLoss |  1.79561341\n",
            "Step   6000: eval  CrossEntropyLoss |  1.57300413\n",
            "Step   6000: eval          Accuracy |  0.63732004\n",
            "\n",
            "Step   6200: Ran 200 train steps in 59.03 secs\n",
            "Step   6200: train CrossEntropyLoss |  1.78741252\n",
            "Step   6200: eval  CrossEntropyLoss |  1.98460519\n",
            "Step   6200: eval          Accuracy |  0.54785025\n",
            "\n",
            "Step   6400: Ran 200 train steps in 58.63 secs\n",
            "Step   6400: train CrossEntropyLoss |  1.78314435\n",
            "Step   6400: eval  CrossEntropyLoss |  2.22564769\n",
            "Step   6400: eval          Accuracy |  0.52248877\n",
            "\n",
            "Step   6600: Ran 200 train steps in 58.63 secs\n",
            "Step   6600: train CrossEntropyLoss |  1.75374067\n",
            "Step   6600: eval  CrossEntropyLoss |  1.78260612\n",
            "Step   6600: eval          Accuracy |  0.58958167\n",
            "\n",
            "Step   6800: Ran 200 train steps in 58.35 secs\n",
            "Step   6800: train CrossEntropyLoss |  1.74827921\n",
            "Step   6800: eval  CrossEntropyLoss |  1.54636753\n",
            "Step   6800: eval          Accuracy |  0.61384904\n",
            "\n",
            "Step   7000: Ran 200 train steps in 77.34 secs\n",
            "Step   7000: train CrossEntropyLoss |  1.73299038\n",
            "Step   7000: eval  CrossEntropyLoss |  1.78283894\n",
            "Step   7000: eval          Accuracy |  0.59307957\n",
            "\n",
            "Step   7200: Ran 200 train steps in 58.74 secs\n",
            "Step   7200: train CrossEntropyLoss |  1.72709143\n",
            "Step   7200: eval  CrossEntropyLoss |  1.73495460\n",
            "Step   7200: eval          Accuracy |  0.59522426\n",
            "\n",
            "Step   7400: Ran 200 train steps in 58.97 secs\n",
            "Step   7400: train CrossEntropyLoss |  1.69668901\n",
            "Step   7400: eval  CrossEntropyLoss |  2.08043075\n",
            "Step   7400: eval          Accuracy |  0.56184900\n",
            "\n",
            "Step   7600: Ran 200 train steps in 58.85 secs\n",
            "Step   7600: train CrossEntropyLoss |  1.69331551\n",
            "Step   7600: eval  CrossEntropyLoss |  1.97555900\n",
            "Step   7600: eval          Accuracy |  0.57415384\n",
            "\n",
            "Step   7800: Ran 200 train steps in 59.07 secs\n",
            "Step   7800: train CrossEntropyLoss |  1.67384338\n",
            "Step   7800: eval  CrossEntropyLoss |  1.78153896\n",
            "Step   7800: eval          Accuracy |  0.58013701\n",
            "\n",
            "Step   8000: Ran 200 train steps in 58.72 secs\n",
            "Step   8000: train CrossEntropyLoss |  1.68245053\n",
            "Step   8000: eval  CrossEntropyLoss |  1.67520678\n",
            "Step   8000: eval          Accuracy |  0.60126084\n",
            "\n",
            "Step   8200: Ran 200 train steps in 59.02 secs\n",
            "Step   8200: train CrossEntropyLoss |  1.66049981\n",
            "Step   8200: eval  CrossEntropyLoss |  1.65375459\n",
            "Step   8200: eval          Accuracy |  0.62685561\n",
            "\n",
            "Step   8400: Ran 200 train steps in 59.15 secs\n",
            "Step   8400: train CrossEntropyLoss |  1.62901390\n",
            "Step   8400: eval  CrossEntropyLoss |  1.58911610\n",
            "Step   8400: eval          Accuracy |  0.60894942\n",
            "\n",
            "Step   8600: Ran 200 train steps in 59.50 secs\n",
            "Step   8600: train CrossEntropyLoss |  1.64011896\n",
            "Step   8600: eval  CrossEntropyLoss |  1.83011210\n",
            "Step   8600: eval          Accuracy |  0.57073462\n",
            "\n",
            "Step   8800: Ran 200 train steps in 59.83 secs\n",
            "Step   8800: train CrossEntropyLoss |  1.64087582\n",
            "Step   8800: eval  CrossEntropyLoss |  1.80370426\n",
            "Step   8800: eval          Accuracy |  0.57234317\n",
            "\n",
            "Step   9000: Ran 200 train steps in 59.57 secs\n",
            "Step   9000: train CrossEntropyLoss |  1.62349367\n",
            "Step   9000: eval  CrossEntropyLoss |  1.73225617\n",
            "Step   9000: eval          Accuracy |  0.59788030\n",
            "\n",
            "Step   9200: Ran 200 train steps in 59.56 secs\n",
            "Step   9200: train CrossEntropyLoss |  1.60244155\n",
            "Step   9200: eval  CrossEntropyLoss |  1.90922177\n",
            "Step   9200: eval          Accuracy |  0.57594383\n",
            "\n",
            "Step   9400: Ran 200 train steps in 59.28 secs\n",
            "Step   9400: train CrossEntropyLoss |  1.60984540\n",
            "Step   9400: eval  CrossEntropyLoss |  1.69360900\n",
            "Step   9400: eval          Accuracy |  0.61194032\n",
            "\n",
            "Step   9600: Ran 200 train steps in 58.98 secs\n",
            "Step   9600: train CrossEntropyLoss |  1.61571145\n",
            "Step   9600: eval  CrossEntropyLoss |  1.69261110\n",
            "Step   9600: eval          Accuracy |  0.60094851\n",
            "\n",
            "Step   9800: Ran 200 train steps in 59.00 secs\n",
            "Step   9800: train CrossEntropyLoss |  1.59106982\n",
            "Step   9800: eval  CrossEntropyLoss |  1.66280997\n",
            "Step   9800: eval          Accuracy |  0.59234834\n",
            "\n",
            "Step  10000: Ran 200 train steps in 59.18 secs\n",
            "Step  10000: train CrossEntropyLoss |  1.58316708\n",
            "Step  10000: eval  CrossEntropyLoss |  1.53091133\n",
            "Step  10000: eval          Accuracy |  0.62849873\n",
            "\n",
            "Step  10200: Ran 200 train steps in 59.12 secs\n",
            "Step  10200: train CrossEntropyLoss |  1.58498502\n",
            "Step  10200: eval  CrossEntropyLoss |  1.48972738\n",
            "Step  10200: eval          Accuracy |  0.63275611\n",
            "\n",
            "Step  10400: Ran 200 train steps in 59.21 secs\n",
            "Step  10400: train CrossEntropyLoss |  1.56178832\n",
            "Step  10400: eval  CrossEntropyLoss |  1.78456748\n",
            "Step  10400: eval          Accuracy |  0.59096694\n",
            "\n",
            "Step  10600: Ran 200 train steps in 59.13 secs\n",
            "Step  10600: train CrossEntropyLoss |  1.55008757\n",
            "Step  10600: eval  CrossEntropyLoss |  1.36776924\n",
            "Step  10600: eval          Accuracy |  0.66579974\n",
            "\n",
            "Step  10800: Ran 200 train steps in 58.72 secs\n",
            "Step  10800: train CrossEntropyLoss |  1.54637396\n",
            "Step  10800: eval  CrossEntropyLoss |  1.70908916\n",
            "Step  10800: eval          Accuracy |  0.59807462\n",
            "\n",
            "Step  11000: Ran 200 train steps in 59.42 secs\n",
            "Step  11000: train CrossEntropyLoss |  1.54681301\n",
            "Step  11000: eval  CrossEntropyLoss |  1.49578440\n",
            "Step  11000: eval          Accuracy |  0.62654996\n",
            "\n",
            "Step  11200: Ran 200 train steps in 59.67 secs\n",
            "Step  11200: train CrossEntropyLoss |  1.52395034\n",
            "Step  11200: eval  CrossEntropyLoss |  1.64720345\n",
            "Step  11200: eval          Accuracy |  0.61267149\n",
            "\n",
            "Step  11400: Ran 200 train steps in 59.06 secs\n",
            "Step  11400: train CrossEntropyLoss |  1.52402878\n",
            "Step  11400: eval  CrossEntropyLoss |  1.63124490\n",
            "Step  11400: eval          Accuracy |  0.63127691\n",
            "\n",
            "Step  11600: Ran 200 train steps in 59.03 secs\n",
            "Step  11600: train CrossEntropyLoss |  1.53123701\n",
            "Step  11600: eval  CrossEntropyLoss |  1.59253895\n",
            "Step  11600: eval          Accuracy |  0.61376023\n",
            "\n",
            "Step  11800: Ran 200 train steps in 59.31 secs\n",
            "Step  11800: train CrossEntropyLoss |  1.51154578\n",
            "Step  11800: eval  CrossEntropyLoss |  1.62629509\n",
            "Step  11800: eval          Accuracy |  0.60412759\n",
            "\n",
            "Step  12000: Ran 200 train steps in 59.22 secs\n",
            "Step  12000: train CrossEntropyLoss |  1.51156580\n",
            "Step  12000: eval  CrossEntropyLoss |  1.57657623\n",
            "Step  12000: eval          Accuracy |  0.63269359\n",
            "\n",
            "Step  12200: Ran 200 train steps in 59.65 secs\n",
            "Step  12200: train CrossEntropyLoss |  1.50900972\n",
            "Step  12200: eval  CrossEntropyLoss |  1.59611106\n",
            "Step  12200: eval          Accuracy |  0.61777776\n",
            "\n",
            "Step  12400: Ran 200 train steps in 59.93 secs\n",
            "Step  12400: train CrossEntropyLoss |  1.49882412\n",
            "Step  12400: eval  CrossEntropyLoss |  1.57081437\n",
            "Step  12400: eval          Accuracy |  0.61336339\n",
            "\n",
            "Step  12600: Ran 200 train steps in 59.20 secs\n",
            "Step  12600: train CrossEntropyLoss |  1.49674094\n",
            "Step  12600: eval  CrossEntropyLoss |  1.61163485\n",
            "Step  12600: eval          Accuracy |  0.62024355\n",
            "\n",
            "Step  12800: Ran 200 train steps in 59.06 secs\n",
            "Step  12800: train CrossEntropyLoss |  1.48303235\n",
            "Step  12800: eval  CrossEntropyLoss |  1.55392587\n",
            "Step  12800: eval          Accuracy |  0.61441213\n",
            "\n",
            "Step  13000: Ran 200 train steps in 59.32 secs\n",
            "Step  13000: train CrossEntropyLoss |  1.46915388\n",
            "Step  13000: eval  CrossEntropyLoss |  1.55438459\n",
            "Step  13000: eval          Accuracy |  0.63449258\n",
            "\n",
            "Step  13200: Ran 200 train steps in 59.51 secs\n",
            "Step  13200: train CrossEntropyLoss |  1.48325479\n",
            "Step  13200: eval  CrossEntropyLoss |  1.56815708\n",
            "Step  13200: eval          Accuracy |  0.61560905\n",
            "\n",
            "Step  13400: Ran 200 train steps in 58.95 secs\n",
            "Step  13400: train CrossEntropyLoss |  1.47134483\n",
            "Step  13400: eval  CrossEntropyLoss |  1.24378693\n",
            "Step  13400: eval          Accuracy |  0.69168127\n",
            "\n",
            "Step  13600: Ran 200 train steps in 58.86 secs\n",
            "Step  13600: train CrossEntropyLoss |  1.47241104\n",
            "Step  13600: eval  CrossEntropyLoss |  1.42602742\n",
            "Step  13600: eval          Accuracy |  0.65040147\n",
            "\n",
            "Step  13800: Ran 200 train steps in 58.92 secs\n",
            "Step  13800: train CrossEntropyLoss |  1.44804740\n",
            "Step  13800: eval  CrossEntropyLoss |  1.58016789\n",
            "Step  13800: eval          Accuracy |  0.60746002\n",
            "\n",
            "Step  14000: Ran 200 train steps in 59.06 secs\n",
            "Step  14000: train CrossEntropyLoss |  1.46317363\n",
            "Step  14000: eval  CrossEntropyLoss |  1.64407563\n",
            "Step  14000: eval          Accuracy |  0.59685862\n",
            "\n",
            "Step  14200: Ran 200 train steps in 59.07 secs\n",
            "Step  14200: train CrossEntropyLoss |  1.45305717\n",
            "Step  14200: eval  CrossEntropyLoss |  1.51424813\n",
            "Step  14200: eval          Accuracy |  0.62410218\n",
            "\n",
            "Step  14400: Ran 200 train steps in 58.75 secs\n",
            "Step  14400: train CrossEntropyLoss |  1.45574534\n",
            "Step  14400: eval  CrossEntropyLoss |  1.54421329\n",
            "Step  14400: eval          Accuracy |  0.62889069\n",
            "\n",
            "Step  14600: Ran 200 train steps in 58.72 secs\n",
            "Step  14600: train CrossEntropyLoss |  1.45025694\n",
            "Step  14600: eval  CrossEntropyLoss |  1.55070102\n",
            "Step  14600: eval          Accuracy |  0.62830186\n",
            "\n",
            "Step  14800: Ran 200 train steps in 59.14 secs\n",
            "Step  14800: train CrossEntropyLoss |  1.43680382\n",
            "Step  14800: eval  CrossEntropyLoss |  1.42646182\n",
            "Step  14800: eval          Accuracy |  0.65151519\n",
            "\n",
            "Step  15000: Ran 200 train steps in 58.96 secs\n",
            "Step  15000: train CrossEntropyLoss |  1.43928492\n",
            "Step  15000: eval  CrossEntropyLoss |  1.49656403\n",
            "Step  15000: eval          Accuracy |  0.63756984\n",
            "\n",
            "Step  15200: Ran 200 train steps in 58.91 secs\n",
            "Step  15200: train CrossEntropyLoss |  1.42631876\n",
            "Step  15200: eval  CrossEntropyLoss |  1.66487515\n",
            "Step  15200: eval          Accuracy |  0.62539482\n",
            "\n",
            "Step  15400: Ran 200 train steps in 59.14 secs\n",
            "Step  15400: train CrossEntropyLoss |  1.43980622\n",
            "Step  15400: eval  CrossEntropyLoss |  1.69583070\n",
            "Step  15400: eval          Accuracy |  0.60962570\n",
            "\n",
            "Step  15600: Ran 200 train steps in 59.38 secs\n",
            "Step  15600: train CrossEntropyLoss |  1.43521512\n",
            "Step  15600: eval  CrossEntropyLoss |  1.55706000\n",
            "Step  15600: eval          Accuracy |  0.63497823\n",
            "\n",
            "Step  15800: Ran 200 train steps in 59.09 secs\n",
            "Step  15800: train CrossEntropyLoss |  1.42004943\n",
            "Step  15800: eval  CrossEntropyLoss |  1.35894644\n",
            "Step  15800: eval          Accuracy |  0.65572757\n",
            "\n",
            "Step  16000: Ran 200 train steps in 58.80 secs\n",
            "Step  16000: train CrossEntropyLoss |  1.40782785\n",
            "Step  16000: eval  CrossEntropyLoss |  1.60347128\n",
            "Step  16000: eval          Accuracy |  0.62141883\n",
            "\n",
            "Step  16200: Ran 200 train steps in 58.73 secs\n",
            "Step  16200: train CrossEntropyLoss |  1.41586745\n",
            "Step  16200: eval  CrossEntropyLoss |  1.55549502\n",
            "Step  16200: eval          Accuracy |  0.63177806\n",
            "\n",
            "Step  16400: Ran 200 train steps in 58.63 secs\n",
            "Step  16400: train CrossEntropyLoss |  1.40020859\n",
            "Step  16400: eval  CrossEntropyLoss |  1.50106668\n",
            "Step  16400: eval          Accuracy |  0.63351500\n",
            "\n",
            "Step  16600: Ran 200 train steps in 58.56 secs\n",
            "Step  16600: train CrossEntropyLoss |  1.40663266\n",
            "Step  16600: eval  CrossEntropyLoss |  1.62290752\n",
            "Step  16600: eval          Accuracy |  0.62144423\n",
            "\n",
            "Step  16800: Ran 200 train steps in 58.58 secs\n",
            "Step  16800: train CrossEntropyLoss |  1.40279078\n",
            "Step  16800: eval  CrossEntropyLoss |  1.59831655\n",
            "Step  16800: eval          Accuracy |  0.60638297\n",
            "\n",
            "Step  17000: Ran 200 train steps in 58.24 secs\n",
            "Step  17000: train CrossEntropyLoss |  1.39341414\n",
            "Step  17000: eval  CrossEntropyLoss |  1.49556613\n",
            "Step  17000: eval          Accuracy |  0.63885349\n",
            "\n",
            "Step  17200: Ran 200 train steps in 58.26 secs\n",
            "Step  17200: train CrossEntropyLoss |  1.39196718\n",
            "Step  17200: eval  CrossEntropyLoss |  1.53889728\n",
            "Step  17200: eval          Accuracy |  0.63033956\n",
            "\n",
            "Step  17400: Ran 200 train steps in 57.91 secs\n",
            "Step  17400: train CrossEntropyLoss |  1.39234340\n",
            "Step  17400: eval  CrossEntropyLoss |  1.60647810\n",
            "Step  17400: eval          Accuracy |  0.60866714\n",
            "\n",
            "Step  17600: Ran 200 train steps in 58.05 secs\n",
            "Step  17600: train CrossEntropyLoss |  1.37960601\n",
            "Step  17600: eval  CrossEntropyLoss |  1.53744352\n",
            "Step  17600: eval          Accuracy |  0.61819804\n",
            "\n",
            "Step  17800: Ran 200 train steps in 58.14 secs\n",
            "Step  17800: train CrossEntropyLoss |  1.37674308\n",
            "Step  17800: eval  CrossEntropyLoss |  1.38151741\n",
            "Step  17800: eval          Accuracy |  0.65787601\n",
            "\n",
            "Step  18000: Ran 200 train steps in 57.60 secs\n",
            "Step  18000: train CrossEntropyLoss |  1.38085878\n",
            "Step  18000: eval  CrossEntropyLoss |  1.51856709\n",
            "Step  18000: eval          Accuracy |  0.62871283\n",
            "\n",
            "Step  18200: Ran 200 train steps in 57.68 secs\n",
            "Step  18200: train CrossEntropyLoss |  1.37475657\n",
            "Step  18200: eval  CrossEntropyLoss |  1.50602794\n",
            "Step  18200: eval          Accuracy |  0.63516194\n",
            "\n",
            "Step  18400: Ran 200 train steps in 58.29 secs\n",
            "Step  18400: train CrossEntropyLoss |  1.37160707\n",
            "Step  18400: eval  CrossEntropyLoss |  1.63000119\n",
            "Step  18400: eval          Accuracy |  0.60993558\n",
            "\n",
            "Step  18600: Ran 200 train steps in 58.30 secs\n",
            "Step  18600: train CrossEntropyLoss |  1.38145876\n",
            "Step  18600: eval  CrossEntropyLoss |  1.73382103\n",
            "Step  18600: eval          Accuracy |  0.59607583\n",
            "\n",
            "Step  18800: Ran 200 train steps in 58.07 secs\n",
            "Step  18800: train CrossEntropyLoss |  1.35676730\n",
            "Step  18800: eval  CrossEntropyLoss |  1.42407572\n",
            "Step  18800: eval          Accuracy |  0.65318817\n",
            "\n",
            "Step  19000: Ran 200 train steps in 58.63 secs\n",
            "Step  19000: train CrossEntropyLoss |  1.37461317\n",
            "Step  19000: eval  CrossEntropyLoss |  1.26417136\n",
            "Step  19000: eval          Accuracy |  0.67951316\n",
            "\n",
            "Step  19200: Ran 200 train steps in 58.63 secs\n",
            "Step  19200: train CrossEntropyLoss |  1.37073302\n",
            "Step  19200: eval  CrossEntropyLoss |  1.62061453\n",
            "Step  19200: eval          Accuracy |  0.61973602\n",
            "\n",
            "Step  19400: Ran 200 train steps in 58.80 secs\n",
            "Step  19400: train CrossEntropyLoss |  1.35548830\n",
            "Step  19400: eval  CrossEntropyLoss |  1.56442726\n",
            "Step  19400: eval          Accuracy |  0.62918794\n",
            "\n",
            "Step  19600: Ran 200 train steps in 58.75 secs\n",
            "Step  19600: train CrossEntropyLoss |  1.35843277\n",
            "Step  19600: eval  CrossEntropyLoss |  1.52234173\n",
            "Step  19600: eval          Accuracy |  0.62783176\n",
            "\n",
            "Step  19800: Ran 200 train steps in 58.56 secs\n",
            "Step  19800: train CrossEntropyLoss |  1.35774720\n",
            "Step  19800: eval  CrossEntropyLoss |  2.06409335\n",
            "Step  19800: eval          Accuracy |  0.54141003\n",
            "\n",
            "Step  20000: Ran 200 train steps in 58.92 secs\n",
            "Step  20000: train CrossEntropyLoss |  1.35323036\n",
            "Step  20000: eval  CrossEntropyLoss |  1.28555059\n",
            "Step  20000: eval          Accuracy |  0.67150635\n"
          ],
          "name": "stdout"
        }
      ]
    },
    {
      "cell_type": "markdown",
      "metadata": {
        "id": "4SCqp5TDbiDu"
      },
      "source": [
        "## Step 6: Model Evaluation"
      ]
    },
    {
      "cell_type": "markdown",
      "metadata": {
        "id": "O7AjmhwEkDJa"
      },
      "source": [
        "### 6-1 Helper functions to tokenize/detokenize"
      ]
    },
    {
      "cell_type": "code",
      "metadata": {
        "id": "UvdTM6Ae0_nU"
      },
      "source": [
        "def tokenize(sentence):\n",
        "    return list(trax.data.tokenize(iter([sentence]), vocab_file = 'en_32k.subword'))[0]\n",
        "\n",
        "def detokenize(tokens):\n",
        "    return trax.data.detokenize(tokens, vocab_file = 'en_32k.subword')"
      ],
      "execution_count": 27,
      "outputs": []
    },
    {
      "cell_type": "markdown",
      "metadata": {
        "id": "mGc7B50ukKrm"
      },
      "source": [
        "### 6-2 Helper function to print out the dialogue in color"
      ]
    },
    {
      "cell_type": "code",
      "metadata": {
        "id": "h9tjBYE_v_XJ"
      },
      "source": [
        "## The helper function to print out the dialogues in colors\n",
        "\n",
        "def print_colored_dialogue(dialogues):\n",
        "\n",
        "    result = []\n",
        "\n",
        "    cur_conversation = \"\"\n",
        "\n",
        "    first_sentence_printed = False\n",
        "\n",
        "    Person1_turn = True\n",
        "\n",
        "    for s in dialogues:\n",
        "\n",
        "        cur_conversation += s\n",
        "\n",
        "        # model predicts Person 2 finishes the sentence\n",
        "        if cur_conversation.endswith(\"Person 1: \"):\n",
        "            if not first_sentence_printed:\n",
        "                first_sentence_printed = True\n",
        "            else:\n",
        "                # print everything before \"Person 1: \"\n",
        "                print(colored(\"Person 2: \" + cur_conversation.split(\"Person 1: \")[0].strip(), 'red'))\n",
        "                cur_conversation = \"\"\n",
        "                Person1_turn = True\n",
        "\n",
        "        # model predicts Person 1 finished the sentence\n",
        "        elif cur_conversation.endswith(\"Person 2: \"):\n",
        "            # print everything before \"Person 2: \"\n",
        "            print(colored(\"Person 1: \" + cur_conversation.split(\"Person 2: \")[0].strip(), 'blue'))\n",
        "            cur_conversation = \"\"\n",
        "            Person1_turn = False\n",
        "\n",
        "    # print remaining sentences\n",
        "    if Person1_turn:\n",
        "        print(colored(\"Person 1: \" + cur_conversation, 'blue'))\n",
        "    else:\n",
        "        print(colored(\"Person 2: \" + cur_conversation, 'red'))"
      ],
      "execution_count": 28,
      "outputs": []
    },
    {
      "cell_type": "markdown",
      "metadata": {
        "id": "24_p68egtd0D"
      },
      "source": [
        "### 6-3 Predict on the test dataset"
      ]
    },
    {
      "cell_type": "code",
      "metadata": {
        "id": "7pVuT67_CnxZ",
        "outputId": "f4910248-86a6-4f94-8a27-4c74f5947778",
        "colab": {
          "base_uri": "https://localhost:8080/"
        }
      },
      "source": [
        "# grab a batch from test_stream\n",
        "test_x, test_y, test_w = next(test_stream)\n",
        "print(\"Batch_size = {}\".format(test_x.shape[0]))\n",
        "\n",
        "# choose the first example\n",
        "sample_x = test_x[0][None, :]\n",
        "\n",
        "print(\"\\nInput dialogue:\")\n",
        "print_colored_dialogue(detokenize(sample_x[0]))\n",
        "\n",
        "pred = loop.eval_model(sample_x)\n",
        "pred_token = pred.argmax(axis = -1)\n",
        "\n",
        "print(\"\\nOutput dialogue:\")\n",
        "print_colored_dialogue(detokenize(pred_token[0]))"
      ],
      "execution_count": 29,
      "outputs": [
        {
          "output_type": "stream",
          "text": [
            "Batch_size = 4\n",
            "Input dialogue:\n",
            "\u001b[34mPerson 1: Person 1: I am  looking for a place to stay. The hotel should be in the type of guesthouse and should include free wifi\u001b[0m\n",
            "\u001b[31mPerson 2: There are 23 guesthouses with free wifi. What price range or area do you prefer?\u001b[0m\n",
            "\u001b[34mPerson 1: I would prefer a price range of expensive\u001b[0m\n",
            "\u001b[31mPerson 2: It seems that there are no guesthouses in the expensive price range. Can I offer you a different price range or a different type of hotel?\u001b[0m\n",
            "\u001b[34mPerson 1: How about moderate price range with a star of 4?\u001b[0m\n",
            "\u001b[31mPerson 2: There are several. Do you have a preference for area?\u001b[0m\n",
            "\u001b[34mPerson 1: Area doesn't matter but I need to know if they have free parking\u001b[0m\n",
            "\u001b[31mPerson 2: I have discovered 9 choices fitting your description. May I recommend the Archway House? It's on Gilbert Road.\u001b[0m\n",
            "\u001b[34mPerson 1: Sounds great, Thank you.\u001b[0m\n",
            "\u001b[31mPerson 2: You're welcome. Would you like me to make a reservation in your name?\u001b[0m\n",
            "\u001b[34mPerson 1: Yes please make a reservation in my name. Thank you.\u001b[0m\n",
            "\u001b[31mPerson 2: I will need to know the day you will be arriving, the amount of days and for how many people before making the reservation.\u001b[0m\n",
            "\u001b[34mPerson 1: I'm sorry I don't need a reservation right now. Can you just tell me if they offer free parking?\u001b[0m\n",
            "\u001b[31mPerson 2: Yes, Archway House offers free parking. May I help with something else?\u001b[0m\n",
            "\u001b[34mPerson 1: Great, thanks. That is all I needed.\u001b[0m\n",
            "\u001b[31mPerson 2: Should I book that for you?\u001b[0m\n",
            "\u001b[34mPerson 1: No, I can book myself later.  Thanks.  Good bye.\u001b[0m\n",
            "\u001b[31mPerson 2: Thank you for using our services. Do you require any further assistance?\u001b[0m\n",
            "\n",
            "Output dialogue:\n",
            "\u001b[34mPerson 1: Person 1: I am looking looking for a place to stay. The hotel should be in the type of guesthouse and should have free parkfi\u001b[0m\n",
            "\u001b[31mPerson 2: I are 33 guesthouses that free parkfi. Do area range are price are you prefer?\u001b[0m\n",
            "\u001b[31mPerson 2: I would like a guesrange in a. 2: I looks to is are 3 1 thouses in the area price range. PersonI look a? different price range? area different price of hotel?\u001b[0m\n",
            "\u001b[34mPerson 1: How about one prirange? a 4 rating 4 star\u001b[0m\n",
            "\u001b[31mPerson 2: I are 3 guesDo you have a preference for the or\u001b[0m\n",
            "\u001b[31mPerson 2: I doesn't matter. I do to book the it have free parking. 2: I have the to entries ces. ting your criteria. Do I suggest d the Acoway House? Person' s a the as,\u001b[0m\n",
            "\u001b[31mPerson 2: That s good. can k you. Can 2: Than' re welcome. Can uld you like me to book a reservation? the party?\u001b[0m\n",
            "\u001b[34mPerson 1: No, , a reservation at the party. Personk you.\u001b[0m\n",
            "\u001b[31mPerson 2: How'book more know what day you'be checking and how number of your you how how many people will I your reservation for\u001b[0m\n",
            "\u001b[34mPerson 1: I'll sorry, don't need a reservation. now. I you just tell me the there have free parking?\u001b[0m\n",
            "\u001b[31mPerson 2: Yes, it way house has free parking. PersonI help with anything else?\u001b[0m\n",
            "\u001b[34mPerson 1: No, that for I'all I need.\u001b[0m\n",
            "\u001b[31mPerson 2: Thanld I hope a for you.\u001b[0m\n",
            "\u001b[34mPerson 1: No, thando do it elf, . Person for Personbye.\u001b[0m\n",
            "\u001b[31mPerson 2: Thank you for using our service.Have you need any more assistance? please!!or or or!. ? ? . ? ? ? ? . . . . . . . . . . . . . . . . . than. . . than. than. than. . . . . than. . . . . than. . . . . . . . . . . . . . . . . . . . . . . . . . . . between. . . . . north. . north north. . north. than between. . north north north between. . north. . . between. . between between. between. between north north\u001b[0m\n"
          ],
          "name": "stdout"
        }
      ]
    },
    {
      "cell_type": "markdown",
      "metadata": {
        "id": "Wkstm2sYtypY"
      },
      "source": [
        "### 6-4 Predict on custom starter sentence"
      ]
    },
    {
      "cell_type": "markdown",
      "metadata": {
        "id": "wQAR8Ya7kx9k"
      },
      "source": [
        "6-4-1 Helper function to generate the next token"
      ]
    },
    {
      "cell_type": "code",
      "metadata": {
        "id": "KhGKKIAyRk5F"
      },
      "source": [
        "def generate_next_token(current_tokens, model):\n",
        "\n",
        "    \"\"\"\n",
        "    Generate the next token\n",
        "    \n",
        "    Inputs\n",
        "            current_tokens: <list of int> currently generated token so far\n",
        "            model: <trax model> the model for the prediction\n",
        "    \n",
        "    Output\n",
        "            next_token: <int> the next token generated by the model\n",
        "    \"\"\"\n",
        "\n",
        "    # number of tokens generated so far\n",
        "    current_tokens_length = len(current_tokens)\n",
        "   \n",
        "    # find the next power of 2 to be the final length after padding\n",
        "    final_padded_length = 2**int(np.ceil(np.log2(current_tokens_length + 1)))\n",
        "\n",
        "    # caucluate the number of zeros to pad\n",
        "    to_pad_length = final_padded_length - current_tokens_length\n",
        "\n",
        "    # padding\n",
        "    padded_current_tokens = np.array(current_tokens.tolist() + [0 for _ in range(to_pad_length)])[None, :]\n",
        "\n",
        "    # use the model to predict the log probabilities of the next token\n",
        "    model_output, _ = model((padded_current_tokens, padded_current_tokens))\n",
        "\n",
        "    # (note) model_output has shape (batch_size, len_of_whole_token_list, vocab_size)\n",
        "    # only take the log probability distribution of the last token\n",
        "    next_token_logprob = model_output[0, current_tokens_length, :]\n",
        "\n",
        "    # select the token with the largest log probability\n",
        "    next_token = int(np.argmax(next_token_logprob))\n",
        "\n",
        "    return next_token"
      ],
      "execution_count": 50,
      "outputs": []
    },
    {
      "cell_type": "markdown",
      "metadata": {
        "id": "RPUBtYCLk2dT"
      },
      "source": [
        "#### 6-4-2 Helper function to continue the conversation token by token"
      ]
    },
    {
      "cell_type": "code",
      "metadata": {
        "id": "bDMMVNS0Ruai"
      },
      "source": [
        "def extend_dialogue(current_dialogue, model, maximum_number_extension = 100):\n",
        "\n",
        "    \"\"\"\n",
        "    Extend the dialogue\n",
        "\n",
        "    Inputs \n",
        "            current_dialogue: <str> the starting dialogue\n",
        "            model: <trax model> the chatbot model\n",
        "            maximum_number_extension: <int> maximum number of tokens to generate\n",
        "\n",
        "    Output\n",
        "            complete_dialogue: <str> the complete dialogue\n",
        "    \"\"\"\n",
        "\n",
        "    current_tokens_list = tokenize(current_dialogue)\n",
        "\n",
        "    num_tokens_generated = 0\n",
        "\n",
        "    while num_tokens_generated <= maximum_number_extension:\n",
        "        # given current_tokens_list, generate the next token\n",
        "        next_output_token = generate_next_token(current_tokens_list, model)\n",
        "\n",
        "        current_tokens_list = current_tokens_list.tolist()\n",
        "\n",
        "        current_tokens_list.append(next_output_token)\n",
        "\n",
        "        current_tokens_list = np.array(current_tokens_list)\n",
        "\n",
        "        num_tokens_generated += 1\n",
        "\n",
        "    # maximum number of tokens reached, output the detokenized dialogue\n",
        "    complete_dialogue = trax.data.detokenize(current_tokens_list, vocab_file = 'en_32k.subword')\n",
        "\n",
        "    return complete_dialogue"
      ],
      "execution_count": 53,
      "outputs": []
    },
    {
      "cell_type": "markdown",
      "metadata": {
        "id": "BdCGLBJolCoj"
      },
      "source": [
        "#### 6-4-3 Custom starter sentences\n",
        "\n",
        "Use and starter sentences as `dialogue_seed`. However, it has to begin with \"Person 1:\" and end with \"Person 2: \""
      ]
    },
    {
      "cell_type": "code",
      "metadata": {
        "id": "An4wnkFNTN2U",
        "outputId": "66948853-857d-41f8-d60e-b5efbb23fbb5",
        "colab": {
          "base_uri": "https://localhost:8080/"
        }
      },
      "source": [
        "## Example wehre Person 1 asks for an avocado for no reason\n",
        "\n",
        "dialogue_seed = \"Person 1: Um... Can I have some avocado? Person 2: \"\n",
        "\n",
        "complete_dialogue = extend_dialogue(dialogue_seed, loop.eval_model, maximum_number_extension = 100)\n",
        "\n",
        "print_colored_dialogue(complete_dialogue)"
      ],
      "execution_count": 55,
      "outputs": [
        {
          "output_type": "stream",
          "text": [
            "\u001b[34mPerson 1: Person 1: Um... Can I have some avocado?\u001b[0m\n",
            "\u001b[31mPerson 2: I can't help you with that. What type of information are you looking for?\u001b[0m\n",
            "\u001b[34mPerson 1: I'm looking for a train to Cambridge that leaves after 15:00.\u001b[0m\n",
            "\u001b[31mPerson 2: I have train TR7424 that leaves at 17:11 and arrive in Cambridge at 18:55. Would you like me to book it for you?\u001b[0m\n",
            "\u001b[34mPerson 1: Yes, I need 5 tickets.\u001b[0m\n",
            "\u001b[31mPerson 2: Booking was successful, the total fee is\u001b[0m\n"
          ],
          "name": "stdout"
        }
      ]
    },
    {
      "cell_type": "code",
      "metadata": {
        "id": "lcztajkT1PUr",
        "outputId": "bf620bf2-de76-4eec-a176-f3ef7c048a85",
        "colab": {
          "base_uri": "https://localhost:8080/"
        }
      },
      "source": [
        "## Example where Person 1 wants to find a restaurant\n",
        "\n",
        "dialogue_seed = \"Person 1: Where is the Japanese restaurant? Person 2: \"\n",
        "\n",
        "complete_dialogue = extend_dialogue(dialogue_seed, loop.eval_model, maximum_number_extension = 100)\n",
        "\n",
        "print_colored_dialogue(complete_dialogue)"
      ],
      "execution_count": 56,
      "outputs": [
        {
          "output_type": "stream",
          "text": [
            "\u001b[34mPerson 1: Person 1: Where is the Japanese restaurant?\u001b[0m\n",
            "\u001b[31mPerson 2: The Addenbell is located at 32 Bridge Street City Centre. Would you like me to book a table?\u001b[0m\n",
            "\u001b[34mPerson 1: No, I'd like to book a table for 7 people at 14:00 on Saturday.\u001b[0m\n",
            "\u001b[31mPerson 2: I have booked you a table for 7 at the Bedouin. Your reference number is XYZ1Z.\u001b[0m\n",
            "\u001b[34mPerson 1: Thanks, that's all I need.\u001b[0m\n",
            "\u001b[31mPerson 2: You're welcome\u001b[0m\n"
          ],
          "name": "stdout"
        }
      ]
    },
    {
      "cell_type": "code",
      "metadata": {
        "id": "7PIBja9NVfWO",
        "outputId": "b15ee6cb-5268-4857-a78d-4c78941cbad6",
        "colab": {
          "base_uri": "https://localhost:8080/"
        }
      },
      "source": [
        "## Example where Person 1 wants to find a post office\n",
        "\n",
        "dialogue_seed = \"Person 1: Where can I find the post office? Person 2: \"\n",
        "\n",
        "complete_dialogue = extend_dialogue(dialogue_seed, loop.eval_model, maximum_number_extension = 100)\n",
        "\n",
        "print_colored_dialogue(complete_dialogue)"
      ],
      "execution_count": 58,
      "outputs": [
        {
          "output_type": "stream",
          "text": [
            "\u001b[34mPerson 1: Person 1: Where can I find the post office?\u001b[0m\n",
            "\u001b[31mPerson 2: The Cambridge Belfry is located at 5 Greens Road.\u001b[0m\n",
            "\u001b[34mPerson 1: What is the postcode?\u001b[0m\n",
            "\u001b[31mPerson 2: The postcode is cb21sj.\u001b[0m\n",
            "\u001b[34mPerson 1: Thanks, that's all I need.\u001b[0m\n",
            "\u001b[31mPerson 2: You're welcome. Have a great day!and enjoy your day!us.\u001b[0m\n",
            "\u001b[34mPerson 1: Thanks, you too.\u001b[0m\n",
            "\u001b[31mPerson 2: You're welcome. Have a great day!.Person 1\u001b[0m\n"
          ],
          "name": "stdout"
        }
      ]
    },
    {
      "cell_type": "code",
      "metadata": {
        "id": "ZuBQb0JdfR9n",
        "outputId": "fe7f73c5-cb0c-4fd4-90f3-1d55e6364a92",
        "colab": {
          "base_uri": "https://localhost:8080/"
        }
      },
      "source": [
        "## Example where Person 1 wants book a hotel room\n",
        "\n",
        "dialogue_seed = \"Person 1: Hello, I'm wondering if I can book a hotel room tonight? Person 2: \"\n",
        "\n",
        "complete_dialogue = extend_dialogue(dialogue_seed, loop.eval_model, maximum_number_extension = 200)\n",
        "\n",
        "print_colored_dialogue(complete_dialogue)"
      ],
      "execution_count": 60,
      "outputs": [
        {
          "output_type": "stream",
          "text": [
            "\u001b[34mPerson 1: Person 1: Hello, I'm wondering if I can book a hotel room tonight?\u001b[0m\n",
            "\u001b[31mPerson 2: I can help with that. What area of town would you like to stay in?\u001b[0m\n",
            "\u001b[34mPerson 1: I'd like to stay in the east, please.\u001b[0m\n",
            "\u001b[31mPerson 2: I have three options for you. The Huntingdon Marriott Hotel, and the rest of your stay.\u001b[0m\n",
            "\u001b[34mPerson 1: I'd like to book it for 2 people and 4 nights starting from wednesday.\u001b[0m\n",
            "\u001b[31mPerson 2: I have booked your hotel for 4 people for 2 nights starting on Saturday. Your reference number is X1Z1Z1.\u001b[0m\n",
            "\u001b[34mPerson 1: Thanks, that's all I need.\u001b[0m\n",
            "\u001b[31mPerson 2: You're welcome. Have a great day!!!!!!.\u001b[0m\n",
            "\u001b[34mPerson 1: Thank you, goodbye.\u001b[0m\n",
            "\u001b[31mPerson 2: Thank you for using our service. Have a great day!.\u001b[0m\n",
            "\u001b[34mPerson 1: Thanks, you too.\u001b[0m\n",
            "\u001b[31mPerson 2: You're welcome. \u001b[0m\n"
          ],
          "name": "stdout"
        }
      ]
    },
    {
      "cell_type": "code",
      "metadata": {
        "id": "NSAP-1vfmCIK"
      },
      "source": [
        ""
      ],
      "execution_count": null,
      "outputs": []
    }
  ]
}